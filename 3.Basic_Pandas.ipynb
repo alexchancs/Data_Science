{
 "cells": [
  {
   "cell_type": "markdown",
   "id": "628bfa31-4eb9-4d51-bd93-02497b126faa",
   "metadata": {},
   "source": [
    "### Pandas"
   ]
  },
  {
   "cell_type": "markdown",
   "id": "5359a602-c2aa-4d7d-9005-42f5c1bc950a",
   "metadata": {},
   "source": [
    "Pandas is a Python library used for working with datasets. It does that by helping us make sense of DataFrames, which are a form of two-dimensional structured data, like a table with columns and rows. But before we can do anything else, we need to start with data in a CSV file."
   ]
  },
  {
   "cell_type": "markdown",
   "id": "84d06a33-af4d-4921-970f-4294a8b456df",
   "metadata": {},
   "source": [
    "### Importing Data (CSV Files)"
   ]
  },
  {
   "cell_type": "markdown",
   "id": "dc698c95-91f7-4b59-bb1b-32573828768a",
   "metadata": {},
   "source": [
    "CSV stands for Comma Separated Values, and it's a file type that allows data to be saved in a table. Data presented in a table is called structured data, because it adheres to the idea that there is a meaningful relationship between the columns and rows. A CSV might also show panel data, which is data that shows observations of the same behavior at various different times. The datasets we're using in this part of the course are all structured tables, but you'll see other arrangements of data as you move through your projects."
   ]
  },
  {
   "cell_type": "markdown",
   "id": "bfc309bf-a6e6-409b-806d-331ff0397850",
   "metadata": {},
   "source": [
    "### Dictionaries"
   ]
  },
  {
   "cell_type": "markdown",
   "id": "0ca44c3b-dd3b-4f7b-8a9b-637221d849c0",
   "metadata": {},
   "source": [
    "You can create a DataFrame from a Python dictionary using from_dict function."
   ]
  },
  {
   "cell_type": "code",
   "execution_count": 1,
   "id": "a72e275b-aa1b-4ce6-9874-05d6ac00490f",
   "metadata": {},
   "outputs": [
    {
     "data": {
      "text/html": [
       "<div>\n",
       "<style scoped>\n",
       "    .dataframe tbody tr th:only-of-type {\n",
       "        vertical-align: middle;\n",
       "    }\n",
       "\n",
       "    .dataframe tbody tr th {\n",
       "        vertical-align: top;\n",
       "    }\n",
       "\n",
       "    .dataframe thead th {\n",
       "        text-align: right;\n",
       "    }\n",
       "</style>\n",
       "<table border=\"1\" class=\"dataframe\">\n",
       "  <thead>\n",
       "    <tr style=\"text-align: right;\">\n",
       "      <th></th>\n",
       "      <th>col_1</th>\n",
       "      <th>col_2</th>\n",
       "    </tr>\n",
       "  </thead>\n",
       "  <tbody>\n",
       "    <tr>\n",
       "      <th>0</th>\n",
       "      <td>3</td>\n",
       "      <td>a</td>\n",
       "    </tr>\n",
       "    <tr>\n",
       "      <th>1</th>\n",
       "      <td>2</td>\n",
       "      <td>b</td>\n",
       "    </tr>\n",
       "    <tr>\n",
       "      <th>2</th>\n",
       "      <td>1</td>\n",
       "      <td>c</td>\n",
       "    </tr>\n",
       "    <tr>\n",
       "      <th>3</th>\n",
       "      <td>0</td>\n",
       "      <td>d</td>\n",
       "    </tr>\n",
       "  </tbody>\n",
       "</table>\n",
       "</div>"
      ],
      "text/plain": [
       "   col_1 col_2\n",
       "0      3     a\n",
       "1      2     b\n",
       "2      1     c\n",
       "3      0     d"
      ]
     },
     "execution_count": 1,
     "metadata": {},
     "output_type": "execute_result"
    }
   ],
   "source": [
    "import pandas as pd\n",
    "\n",
    "data = {\"col_1\": [3, 2, 1, 0], \"col_2\": [\"a\", \"b\", \"c\", \"d\"]}\n",
    "pd.DataFrame.from_dict(data)"
   ]
  },
  {
   "cell_type": "markdown",
   "id": "1e2c44f2-4f75-441f-965f-1ccb876bf36a",
   "metadata": {},
   "source": [
    "By default, DataFrame will be created using keys as columns. Note the length of the values should be equal for each key for the code to work. We can also let keys to be index instead of the columns:"
   ]
  },
  {
   "cell_type": "code",
   "execution_count": 2,
   "id": "16a46c43-6b78-4b65-94ab-1660a774a897",
   "metadata": {},
   "outputs": [
    {
     "data": {
      "text/html": [
       "<div>\n",
       "<style scoped>\n",
       "    .dataframe tbody tr th:only-of-type {\n",
       "        vertical-align: middle;\n",
       "    }\n",
       "\n",
       "    .dataframe tbody tr th {\n",
       "        vertical-align: top;\n",
       "    }\n",
       "\n",
       "    .dataframe thead th {\n",
       "        text-align: right;\n",
       "    }\n",
       "</style>\n",
       "<table border=\"1\" class=\"dataframe\">\n",
       "  <thead>\n",
       "    <tr style=\"text-align: right;\">\n",
       "      <th></th>\n",
       "      <th>0</th>\n",
       "      <th>1</th>\n",
       "      <th>2</th>\n",
       "      <th>3</th>\n",
       "    </tr>\n",
       "  </thead>\n",
       "  <tbody>\n",
       "    <tr>\n",
       "      <th>col_1</th>\n",
       "      <td>3</td>\n",
       "      <td>2</td>\n",
       "      <td>1</td>\n",
       "      <td>0</td>\n",
       "    </tr>\n",
       "    <tr>\n",
       "      <th>col_2</th>\n",
       "      <td>a</td>\n",
       "      <td>b</td>\n",
       "      <td>c</td>\n",
       "      <td>d</td>\n",
       "    </tr>\n",
       "  </tbody>\n",
       "</table>\n",
       "</div>"
      ],
      "text/plain": [
       "       0  1  2  3\n",
       "col_1  3  2  1  0\n",
       "col_2  a  b  c  d"
      ]
     },
     "execution_count": 2,
     "metadata": {},
     "output_type": "execute_result"
    }
   ],
   "source": [
    "pd.DataFrame.from_dict(data, orient=\"index\")"
   ]
  },
  {
   "cell_type": "code",
   "execution_count": 3,
   "id": "cfe5e681-5d69-443f-8811-968559fda581",
   "metadata": {},
   "outputs": [
    {
     "data": {
      "text/html": [
       "<div>\n",
       "<style scoped>\n",
       "    .dataframe tbody tr th:only-of-type {\n",
       "        vertical-align: middle;\n",
       "    }\n",
       "\n",
       "    .dataframe tbody tr th {\n",
       "        vertical-align: top;\n",
       "    }\n",
       "\n",
       "    .dataframe thead th {\n",
       "        text-align: right;\n",
       "    }\n",
       "</style>\n",
       "<table border=\"1\" class=\"dataframe\">\n",
       "  <thead>\n",
       "    <tr style=\"text-align: right;\">\n",
       "      <th></th>\n",
       "      <th>A</th>\n",
       "      <th>B</th>\n",
       "      <th>C</th>\n",
       "      <th>D</th>\n",
       "    </tr>\n",
       "  </thead>\n",
       "  <tbody>\n",
       "    <tr>\n",
       "      <th>col_1</th>\n",
       "      <td>3</td>\n",
       "      <td>2</td>\n",
       "      <td>1</td>\n",
       "      <td>0</td>\n",
       "    </tr>\n",
       "    <tr>\n",
       "      <th>col_2</th>\n",
       "      <td>a</td>\n",
       "      <td>b</td>\n",
       "      <td>c</td>\n",
       "      <td>d</td>\n",
       "    </tr>\n",
       "  </tbody>\n",
       "</table>\n",
       "</div>"
      ],
      "text/plain": [
       "       A  B  C  D\n",
       "col_1  3  2  1  0\n",
       "col_2  a  b  c  d"
      ]
     },
     "execution_count": 3,
     "metadata": {},
     "output_type": "execute_result"
    }
   ],
   "source": [
    "pd.DataFrame.from_dict(data, orient=\"index\", columns=[\"A\", \"B\", \"C\", \"D\"])"
   ]
  },
  {
   "cell_type": "markdown",
   "id": "e8bdd6c5-09e5-45fa-a448-1075f06f7224",
   "metadata": {},
   "source": [
    "### JSON Files"
   ]
  },
  {
   "cell_type": "markdown",
   "id": "28ce538e-dee6-487e-905a-79c41d9f6de8",
   "metadata": {},
   "source": [
    "JSON is short for JavaScript Object Notation. It is another widely used data format to store and transfer the data. It is light-weight and very human readable. In Python, we can use the json library to read JSON files. Here is an example of a JSON string."
   ]
  },
  {
   "cell_type": "code",
   "execution_count": 4,
   "id": "9601b1cf-a8af-407f-856f-8728b4a0db7b",
   "metadata": {},
   "outputs": [
    {
     "name": "stdout",
     "output_type": "stream",
     "text": [
      "{\n",
      "    \"firstName\": \"Jane\",\n",
      "    \"lastName\": \"Doe\",\n",
      "    \"hobby\": \"running\",\n",
      "    \"age\": 35\n",
      "}\n"
     ]
    }
   ],
   "source": [
    "info = \"\"\"{\n",
    "    \"firstName\": \"Jane\",\n",
    "    \"lastName\": \"Doe\",\n",
    "    \"hobby\": \"running\",\n",
    "    \"age\": 35\n",
    "}\"\"\"\n",
    "print(info)"
   ]
  },
  {
   "cell_type": "markdown",
   "id": "d2a80501-81dd-4f94-9324-c1d75cb7c356",
   "metadata": {},
   "source": [
    "Use json library to load the json string into a Python dictionary:"
   ]
  },
  {
   "cell_type": "code",
   "execution_count": 5,
   "id": "5316e04d-e482-4d2e-b0d3-25a413545978",
   "metadata": {},
   "outputs": [
    {
     "data": {
      "text/plain": [
       "{'firstName': 'Jane', 'lastName': 'Doe', 'hobby': 'running', 'age': 35}"
      ]
     },
     "execution_count": 5,
     "metadata": {},
     "output_type": "execute_result"
    }
   ],
   "source": [
    "import json\n",
    "\n",
    "data = json.loads(info)\n",
    "data"
   ]
  },
  {
   "cell_type": "code",
   "execution_count": 6,
   "id": "ad308f19-7f1e-47c1-b72b-43692766d167",
   "metadata": {},
   "outputs": [
    {
     "data": {
      "text/plain": [
       "'Jane'"
      ]
     },
     "execution_count": 6,
     "metadata": {},
     "output_type": "execute_result"
    }
   ],
   "source": [
    "data[\"firstName\"]"
   ]
  },
  {
   "cell_type": "markdown",
   "id": "2eb258f4-be60-48dc-b4f7-275f133994a9",
   "metadata": {},
   "source": [
    "A dictionary may not be as convenient as a DataFrame in terms of data manipulation and cleaning. But once we've turned our json string into a dictionary, we can transform it into a DataFrame using the from_dict method."
   ]
  },
  {
   "cell_type": "code",
   "execution_count": 7,
   "id": "574d4bbb-400b-41bd-a6d9-7076a9128a91",
   "metadata": {},
   "outputs": [
    {
     "data": {
      "text/html": [
       "<div>\n",
       "<style scoped>\n",
       "    .dataframe tbody tr th:only-of-type {\n",
       "        vertical-align: middle;\n",
       "    }\n",
       "\n",
       "    .dataframe tbody tr th {\n",
       "        vertical-align: top;\n",
       "    }\n",
       "\n",
       "    .dataframe thead th {\n",
       "        text-align: right;\n",
       "    }\n",
       "</style>\n",
       "<table border=\"1\" class=\"dataframe\">\n",
       "  <thead>\n",
       "    <tr style=\"text-align: right;\">\n",
       "      <th></th>\n",
       "      <th>subject 1</th>\n",
       "    </tr>\n",
       "  </thead>\n",
       "  <tbody>\n",
       "    <tr>\n",
       "      <th>firstName</th>\n",
       "      <td>Jane</td>\n",
       "    </tr>\n",
       "    <tr>\n",
       "      <th>lastName</th>\n",
       "      <td>Doe</td>\n",
       "    </tr>\n",
       "    <tr>\n",
       "      <th>hobby</th>\n",
       "      <td>running</td>\n",
       "    </tr>\n",
       "    <tr>\n",
       "      <th>age</th>\n",
       "      <td>35</td>\n",
       "    </tr>\n",
       "  </tbody>\n",
       "</table>\n",
       "</div>"
      ],
      "text/plain": [
       "          subject 1\n",
       "firstName      Jane\n",
       "lastName        Doe\n",
       "hobby       running\n",
       "age              35"
      ]
     },
     "execution_count": 7,
     "metadata": {},
     "output_type": "execute_result"
    }
   ],
   "source": [
    "df = pd.DataFrame.from_dict(data, orient=\"index\", columns=[\"subject 1\"])\n",
    "df"
   ]
  },
  {
   "cell_type": "markdown",
   "id": "c8fe98a7-c2f1-479b-847c-e1181ffe2601",
   "metadata": {},
   "source": [
    "### Load Compressed file in Python"
   ]
  },
  {
   "cell_type": "markdown",
   "id": "451cab4f-aec3-4b83-ba7f-a7d03246402b",
   "metadata": {},
   "source": [
    "In the big data era, it is very likely that we'll need to read data from compressed files. One way to unzip the data is to use gzip. We can load the poland-bankruptcy-data-2008.json.gz file from the data folder using the following code:"
   ]
  },
  {
   "cell_type": "code",
   "execution_count": null,
   "id": "d2ee0447-d2ad-4471-b35b-83656b1e7aa7",
   "metadata": {},
   "outputs": [],
   "source": [
    "import gzip\n",
    "import json\n",
    "\n",
    "with gzip.open(\"data/poland-bankruptcy-data-2010.json.gz\", \"r\") as f:\n",
    "    poland_data_gz = json.load(f)"
   ]
  },
  {
   "cell_type": "code",
   "execution_count": null,
   "id": "270d91b2-8914-4c14-a5f7-2fb58803d09e",
   "metadata": {},
   "outputs": [],
   "source": [
    "poland_data_gz.keys()"
   ]
  },
  {
   "cell_type": "code",
   "execution_count": null,
   "id": "eb13977a-7cb8-4c13-972e-1e5b93d3af35",
   "metadata": {},
   "outputs": [],
   "source": [
    "df = pd.DataFrame().from_dict(poland_data_gz[\"data\"])"
   ]
  },
  {
   "cell_type": "code",
   "execution_count": null,
   "id": "5749bcc7-62d5-431f-ab3c-5b6abc8765c6",
   "metadata": {},
   "outputs": [],
   "source": [
    "df.head()"
   ]
  },
  {
   "cell_type": "markdown",
   "id": "ac1a1a1d-ebcb-4e0f-8666-22b9131f39fe",
   "metadata": {},
   "source": [
    "### Pickle Files"
   ]
  },
  {
   "cell_type": "markdown",
   "id": "9f8e6785-8c19-4e81-b3ea-2da334da298a",
   "metadata": {},
   "source": [
    "Pickle in Python is primarily used in serializing and deserializing a Python object structure. Serialization is the process of turning an object in memory into a stream of bytes so you can store it on disk or send it over a network. Deserialization is the reverse process: turning a stream of bytes back into an object in memory.\n",
    "\n",
    "According to the pickle module documentation, the following types can be pickled:\n",
    "- None\n",
    "- Booleans\n",
    "- Integers, long integers, floating point numbers, complex numbers\n",
    "- Normal and Unicode strings\n",
    "- Tuples, lists, sets, and dictionaries containing only objects that can be pickled\n",
    "- Functions defined at the top level of a module\n",
    "- Built-in functions defined at the top level of a module\n",
    "- Classes that are defined at the top level of a module\n",
    "\n",
    "Let's demonstrate using a python dictionary as an example."
   ]
  },
  {
   "cell_type": "code",
   "execution_count": 8,
   "id": "ef8e1c11-b5b6-4097-936b-8141884ba073",
   "metadata": {},
   "outputs": [
    {
     "data": {
      "text/plain": [
       "{'shirt': ['red', 'M'], 'sweater': ['yellow', 'L'], 'jacket': ['black', 'L']}"
      ]
     },
     "execution_count": 8,
     "metadata": {},
     "output_type": "execute_result"
    }
   ],
   "source": [
    "clothes = {\"shirt\": [\"red\", \"M\"], \"sweater\": [\"yellow\", \"L\"], \"jacket\": [\"black\", \"L\"]}\n",
    "clothes"
   ]
  },
  {
   "cell_type": "code",
   "execution_count": 9,
   "id": "598a9d00-330d-4da7-9b30-f0853100c486",
   "metadata": {},
   "outputs": [],
   "source": [
    "import pickle\n",
    "\n",
    "pickle.dump(clothes, open(\"./data/clothes.pkl\", \"wb\"))"
   ]
  },
  {
   "cell_type": "code",
   "execution_count": 10,
   "id": "3fe99a7a-873c-4762-9840-5da8f628fa97",
   "metadata": {},
   "outputs": [],
   "source": [
    "with open(\"./data/clothes.pkl\", \"rb\") as f:\n",
    "    unpickled = pickle.load(f)"
   ]
  },
  {
   "cell_type": "code",
   "execution_count": 11,
   "id": "91ce5adf-cd6d-49e1-ad51-5c9fd33532d9",
   "metadata": {},
   "outputs": [
    {
     "data": {
      "text/plain": [
       "{'shirt': ['red', 'M'], 'sweater': ['yellow', 'L'], 'jacket': ['black', 'L']}"
      ]
     },
     "execution_count": 11,
     "metadata": {},
     "output_type": "execute_result"
    }
   ],
   "source": [
    "unpickled"
   ]
  },
  {
   "cell_type": "markdown",
   "id": "1933bcc0-4b2c-4278-9558-e05a9b2d6ef4",
   "metadata": {},
   "source": [
    "### Working with DataFrames"
   ]
  },
  {
   "cell_type": "markdown",
   "id": "988f1eb5-5868-46e0-b15b-ffbdc5aaab9d",
   "metadata": {},
   "source": [
    "The first thing we need to do is import pandas; we'll use pd as an alias when we include it in our code.\n",
    "\n",
    "Pandas is just a library; to get anything done, we need a dataset too. We'll use the read_csv method to create a DataFrame from a CSV file."
   ]
  },
  {
   "cell_type": "code",
   "execution_count": 13,
   "id": "eed8ca15-1df0-4e0e-806a-9e5c00189e3d",
   "metadata": {},
   "outputs": [
    {
     "data": {
      "text/html": [
       "<div>\n",
       "<style scoped>\n",
       "    .dataframe tbody tr th:only-of-type {\n",
       "        vertical-align: middle;\n",
       "    }\n",
       "\n",
       "    .dataframe tbody tr th {\n",
       "        vertical-align: top;\n",
       "    }\n",
       "\n",
       "    .dataframe thead th {\n",
       "        text-align: right;\n",
       "    }\n",
       "</style>\n",
       "<table border=\"1\" class=\"dataframe\">\n",
       "  <thead>\n",
       "    <tr style=\"text-align: right;\">\n",
       "      <th></th>\n",
       "      <th>property_type</th>\n",
       "      <th>department</th>\n",
       "      <th>lat</th>\n",
       "      <th>lon</th>\n",
       "      <th>area_m2</th>\n",
       "      <th>price_usd</th>\n",
       "    </tr>\n",
       "  </thead>\n",
       "  <tbody>\n",
       "    <tr>\n",
       "      <th>0</th>\n",
       "      <td>house</td>\n",
       "      <td>A</td>\n",
       "      <td>4.690</td>\n",
       "      <td>-74.048</td>\n",
       "      <td>187.0</td>\n",
       "      <td>330899.98</td>\n",
       "    </tr>\n",
       "    <tr>\n",
       "      <th>1</th>\n",
       "      <td>house</td>\n",
       "      <td>C</td>\n",
       "      <td>4.695</td>\n",
       "      <td>-74.082</td>\n",
       "      <td>82.0</td>\n",
       "      <td>121555.09</td>\n",
       "    </tr>\n",
       "    <tr>\n",
       "      <th>2</th>\n",
       "      <td>house</td>\n",
       "      <td>A</td>\n",
       "      <td>4.535</td>\n",
       "      <td>-75.676</td>\n",
       "      <td>235.0</td>\n",
       "      <td>219474.47</td>\n",
       "    </tr>\n",
       "    <tr>\n",
       "      <th>3</th>\n",
       "      <td>house</td>\n",
       "      <td>C</td>\n",
       "      <td>4.620</td>\n",
       "      <td>-74.129</td>\n",
       "      <td>195.0</td>\n",
       "      <td>97919.38</td>\n",
       "    </tr>\n",
       "  </tbody>\n",
       "</table>\n",
       "</div>"
      ],
      "text/plain": [
       "  property_type department    lat     lon  area_m2  price_usd\n",
       "0         house          A  4.690 -74.048    187.0  330899.98\n",
       "1         house          C  4.695 -74.082     82.0  121555.09\n",
       "2         house          A  4.535 -75.676    235.0  219474.47\n",
       "3         house          C  4.620 -74.129    195.0   97919.38"
      ]
     },
     "execution_count": 13,
     "metadata": {},
     "output_type": "execute_result"
    }
   ],
   "source": [
    "import pandas as pd\n",
    "\n",
    "df = pd.read_csv(\"data/mexico-city-real-estate-1.csv\")\n",
    "df.head()"
   ]
  },
  {
   "cell_type": "markdown",
   "id": "972116d5-d1a2-4071-9e08-bcbec9331692",
   "metadata": {},
   "source": [
    "### Working with DataFrame Indices"
   ]
  },
  {
   "cell_type": "markdown",
   "id": "29ba4a6b-4407-4773-964c-87193a42844b",
   "metadata": {},
   "source": [
    "A DataFrame stores data in a row-and-column format. The DataFrame Index is a special kind of column that helps identify the location of each row. The default Index uses integers starting at zero, but you can also set up customized indices like \"name\", \"location\", etc. For example, in the following real estate data set, the default index are the integer counts."
   ]
  },
  {
   "cell_type": "code",
   "execution_count": 14,
   "id": "9aeaf1f2-275c-4c2e-91f2-d5d6b755bc95",
   "metadata": {},
   "outputs": [
    {
     "data": {
      "text/plain": [
       "RangeIndex(start=0, stop=4, step=1)"
      ]
     },
     "execution_count": 14,
     "metadata": {},
     "output_type": "execute_result"
    }
   ],
   "source": [
    "df.index[:5]"
   ]
  },
  {
   "cell_type": "code",
   "execution_count": 15,
   "id": "41e2c653-48b8-4a94-b728-b15f96f94a5b",
   "metadata": {},
   "outputs": [
    {
     "data": {
      "text/html": [
       "<div>\n",
       "<style scoped>\n",
       "    .dataframe tbody tr th:only-of-type {\n",
       "        vertical-align: middle;\n",
       "    }\n",
       "\n",
       "    .dataframe tbody tr th {\n",
       "        vertical-align: top;\n",
       "    }\n",
       "\n",
       "    .dataframe thead th {\n",
       "        text-align: right;\n",
       "    }\n",
       "</style>\n",
       "<table border=\"1\" class=\"dataframe\">\n",
       "  <thead>\n",
       "    <tr style=\"text-align: right;\">\n",
       "      <th></th>\n",
       "      <th>property_type</th>\n",
       "      <th>lat</th>\n",
       "      <th>lon</th>\n",
       "      <th>area_m2</th>\n",
       "      <th>price_usd</th>\n",
       "    </tr>\n",
       "    <tr>\n",
       "      <th>department</th>\n",
       "      <th></th>\n",
       "      <th></th>\n",
       "      <th></th>\n",
       "      <th></th>\n",
       "      <th></th>\n",
       "    </tr>\n",
       "  </thead>\n",
       "  <tbody>\n",
       "    <tr>\n",
       "      <th>A</th>\n",
       "      <td>house</td>\n",
       "      <td>4.690</td>\n",
       "      <td>-74.048</td>\n",
       "      <td>187.0</td>\n",
       "      <td>330899.98</td>\n",
       "    </tr>\n",
       "    <tr>\n",
       "      <th>C</th>\n",
       "      <td>house</td>\n",
       "      <td>4.695</td>\n",
       "      <td>-74.082</td>\n",
       "      <td>82.0</td>\n",
       "      <td>121555.09</td>\n",
       "    </tr>\n",
       "    <tr>\n",
       "      <th>A</th>\n",
       "      <td>house</td>\n",
       "      <td>4.535</td>\n",
       "      <td>-75.676</td>\n",
       "      <td>235.0</td>\n",
       "      <td>219474.47</td>\n",
       "    </tr>\n",
       "    <tr>\n",
       "      <th>C</th>\n",
       "      <td>house</td>\n",
       "      <td>4.620</td>\n",
       "      <td>-74.129</td>\n",
       "      <td>195.0</td>\n",
       "      <td>97919.38</td>\n",
       "    </tr>\n",
       "  </tbody>\n",
       "</table>\n",
       "</div>"
      ],
      "text/plain": [
       "           property_type    lat     lon  area_m2  price_usd\n",
       "department                                                 \n",
       "A                  house  4.690 -74.048    187.0  330899.98\n",
       "C                  house  4.695 -74.082     82.0  121555.09\n",
       "A                  house  4.535 -75.676    235.0  219474.47\n",
       "C                  house  4.620 -74.129    195.0   97919.38"
      ]
     },
     "execution_count": 15,
     "metadata": {},
     "output_type": "execute_result"
    }
   ],
   "source": [
    "df.set_index(\"department\", inplace=True)\n",
    "df.head()"
   ]
  },
  {
   "cell_type": "code",
   "execution_count": 16,
   "id": "d33e821a-38df-4f23-883c-cfcd6569c517",
   "metadata": {},
   "outputs": [
    {
     "data": {
      "text/html": [
       "<div>\n",
       "<style scoped>\n",
       "    .dataframe tbody tr th:only-of-type {\n",
       "        vertical-align: middle;\n",
       "    }\n",
       "\n",
       "    .dataframe tbody tr th {\n",
       "        vertical-align: top;\n",
       "    }\n",
       "\n",
       "    .dataframe thead th {\n",
       "        text-align: right;\n",
       "    }\n",
       "</style>\n",
       "<table border=\"1\" class=\"dataframe\">\n",
       "  <thead>\n",
       "    <tr style=\"text-align: right;\">\n",
       "      <th></th>\n",
       "      <th>letter</th>\n",
       "      <th>location</th>\n",
       "    </tr>\n",
       "    <tr>\n",
       "      <th>number</th>\n",
       "      <th></th>\n",
       "      <th></th>\n",
       "    </tr>\n",
       "  </thead>\n",
       "  <tbody>\n",
       "    <tr>\n",
       "      <th>3</th>\n",
       "      <td>a</td>\n",
       "      <td>east</td>\n",
       "    </tr>\n",
       "    <tr>\n",
       "      <th>2</th>\n",
       "      <td>b</td>\n",
       "      <td>east</td>\n",
       "    </tr>\n",
       "    <tr>\n",
       "      <th>1</th>\n",
       "      <td>c</td>\n",
       "      <td>east</td>\n",
       "    </tr>\n",
       "    <tr>\n",
       "      <th>0</th>\n",
       "      <td>d</td>\n",
       "      <td>west</td>\n",
       "    </tr>\n",
       "  </tbody>\n",
       "</table>\n",
       "</div>"
      ],
      "text/plain": [
       "       letter location\n",
       "number                \n",
       "3           a     east\n",
       "2           b     east\n",
       "1           c     east\n",
       "0           d     west"
      ]
     },
     "execution_count": 16,
     "metadata": {},
     "output_type": "execute_result"
    }
   ],
   "source": [
    "data = {\n",
    "    \"letter\": [\"a\", \"b\", \"c\", \"d\"],\n",
    "    \"number\": [3, 2, 1, 0],\n",
    "    \"location\": [\"east\", \"east\", \"east\", \"west\"],\n",
    "}\n",
    "df = pd.DataFrame.from_dict(data)\n",
    "\n",
    "# set index 'numbers'\n",
    "df.set_index(\"number\", inplace = True)\n",
    "df"
   ]
  },
  {
   "cell_type": "code",
   "execution_count": 17,
   "id": "90ca0407-e6d2-4d65-9dd4-cf9863d62f28",
   "metadata": {},
   "outputs": [
    {
     "data": {
      "text/html": [
       "<div>\n",
       "<style scoped>\n",
       "    .dataframe tbody tr th:only-of-type {\n",
       "        vertical-align: middle;\n",
       "    }\n",
       "\n",
       "    .dataframe tbody tr th {\n",
       "        vertical-align: top;\n",
       "    }\n",
       "\n",
       "    .dataframe thead th {\n",
       "        text-align: right;\n",
       "    }\n",
       "</style>\n",
       "<table border=\"1\" class=\"dataframe\">\n",
       "  <thead>\n",
       "    <tr style=\"text-align: right;\">\n",
       "      <th></th>\n",
       "      <th>number</th>\n",
       "      <th>letter</th>\n",
       "      <th>location</th>\n",
       "    </tr>\n",
       "  </thead>\n",
       "  <tbody>\n",
       "    <tr>\n",
       "      <th>0</th>\n",
       "      <td>3</td>\n",
       "      <td>a</td>\n",
       "      <td>east</td>\n",
       "    </tr>\n",
       "    <tr>\n",
       "      <th>1</th>\n",
       "      <td>2</td>\n",
       "      <td>b</td>\n",
       "      <td>east</td>\n",
       "    </tr>\n",
       "    <tr>\n",
       "      <th>2</th>\n",
       "      <td>1</td>\n",
       "      <td>c</td>\n",
       "      <td>east</td>\n",
       "    </tr>\n",
       "    <tr>\n",
       "      <th>3</th>\n",
       "      <td>0</td>\n",
       "      <td>d</td>\n",
       "      <td>west</td>\n",
       "    </tr>\n",
       "  </tbody>\n",
       "</table>\n",
       "</div>"
      ],
      "text/plain": [
       "   number letter location\n",
       "0       3      a     east\n",
       "1       2      b     east\n",
       "2       1      c     east\n",
       "3       0      d     west"
      ]
     },
     "execution_count": 17,
     "metadata": {},
     "output_type": "execute_result"
    }
   ],
   "source": [
    "# reset index\n",
    "df.reset_index(inplace = True)\n",
    "df"
   ]
  },
  {
   "cell_type": "markdown",
   "id": "d311845b-958e-4808-9c1a-dbe33e70fd2b",
   "metadata": {},
   "source": [
    "### Inspecting DataFrames"
   ]
  },
  {
   "cell_type": "markdown",
   "id": "d50e7062-7e62-4e28-a37f-913aabba4831",
   "metadata": {},
   "source": [
    "Once we've created a DataFrame, we need to inspect it in order to see what's there. Pandas has many ways to inspect a DataFrame, but we're only going to look at three of them: shape, info, and head.\n",
    "\n",
    "If we're interested in understanding the dimensionality of the DataFrame, we can use the df.shape method. The code looks like this:"
   ]
  },
  {
   "cell_type": "code",
   "execution_count": 18,
   "id": "8365db80-b0d8-4fbf-92b6-630d0903cfcc",
   "metadata": {},
   "outputs": [
    {
     "data": {
      "text/plain": [
       "(4, 3)"
      ]
     },
     "execution_count": 18,
     "metadata": {},
     "output_type": "execute_result"
    }
   ],
   "source": [
    "df.shape"
   ]
  },
  {
   "cell_type": "code",
   "execution_count": 47,
   "id": "fb180072-66ba-4a51-9977-ec81aa9f8ebd",
   "metadata": {},
   "outputs": [
    {
     "name": "stdout",
     "output_type": "stream",
     "text": [
      "<class 'pandas.core.frame.DataFrame'>\n",
      "RangeIndex: 5 entries, 0 to 4\n",
      "Data columns (total 6 columns):\n",
      " #   Column         Non-Null Count  Dtype  \n",
      "---  ------         --------------  -----  \n",
      " 0   property_type  5 non-null      object \n",
      " 1   department     5 non-null      object \n",
      " 2   lat-lon        5 non-null      object \n",
      " 3   area_m2        4 non-null      float64\n",
      " 4   price_usd      5 non-null      float64\n",
      " 5                  0 non-null      float64\n",
      "dtypes: float64(3), object(3)\n",
      "memory usage: 368.0+ bytes\n"
     ]
    }
   ],
   "source": [
    "df.info()"
   ]
  },
  {
   "cell_type": "markdown",
   "id": "0d2df18b-ce3e-4719-a038-8b8d73620e64",
   "metadata": {},
   "source": [
    "The info output tells us all sorts of things about the DataFrame: the number of columns, the names of the columns, the data type for each column, how many non-null rows are contained in the DataFrame."
   ]
  },
  {
   "cell_type": "markdown",
   "id": "09633462-cf86-4871-88c7-aa4c53b5885c",
   "metadata": {},
   "source": [
    "### Sorting"
   ]
  },
  {
   "cell_type": "markdown",
   "id": "b3e6afbc-3a10-4bb1-a60b-2eecd2682400",
   "metadata": {},
   "source": [
    "Even though the DataFrame in many ways behaves similarly to a dict, it also is ordered. Therefore we can sort the data in it. Pandas provides two sorting methods, sort_values and sort_index."
   ]
  },
  {
   "cell_type": "code",
   "execution_count": 48,
   "id": "46df63c2-480a-4f4c-a838-163baafe0719",
   "metadata": {},
   "outputs": [
    {
     "data": {
      "text/html": [
       "<div>\n",
       "<style scoped>\n",
       "    .dataframe tbody tr th:only-of-type {\n",
       "        vertical-align: middle;\n",
       "    }\n",
       "\n",
       "    .dataframe tbody tr th {\n",
       "        vertical-align: top;\n",
       "    }\n",
       "\n",
       "    .dataframe thead th {\n",
       "        text-align: right;\n",
       "    }\n",
       "</style>\n",
       "<table border=\"1\" class=\"dataframe\">\n",
       "  <thead>\n",
       "    <tr style=\"text-align: right;\">\n",
       "      <th></th>\n",
       "      <th>property_type</th>\n",
       "      <th>department</th>\n",
       "      <th>lat-lon</th>\n",
       "      <th>area_m2</th>\n",
       "      <th>price_usd</th>\n",
       "    </tr>\n",
       "  </thead>\n",
       "  <tbody>\n",
       "    <tr>\n",
       "      <th>0</th>\n",
       "      <td>house</td>\n",
       "      <td>A</td>\n",
       "      <td>4.69,-74.048</td>\n",
       "      <td>187.0</td>\n",
       "      <td>330899.98</td>\n",
       "    </tr>\n",
       "    <tr>\n",
       "      <th>1</th>\n",
       "      <td>house</td>\n",
       "      <td>C</td>\n",
       "      <td>4.695,-74.082</td>\n",
       "      <td>82.0</td>\n",
       "      <td>121555.09</td>\n",
       "    </tr>\n",
       "    <tr>\n",
       "      <th>2</th>\n",
       "      <td>house</td>\n",
       "      <td>A</td>\n",
       "      <td>4.535,-75.676</td>\n",
       "      <td>235.0</td>\n",
       "      <td>219474.47</td>\n",
       "    </tr>\n",
       "    <tr>\n",
       "      <th>3</th>\n",
       "      <td>house</td>\n",
       "      <td>C</td>\n",
       "      <td>4.62,-74.129</td>\n",
       "      <td>195.0</td>\n",
       "      <td>97919.38</td>\n",
       "    </tr>\n",
       "    <tr>\n",
       "      <th>4</th>\n",
       "      <td>house</td>\n",
       "      <td>C</td>\n",
       "      <td>4.62,123.23</td>\n",
       "      <td>NaN</td>\n",
       "      <td>97919.38</td>\n",
       "    </tr>\n",
       "  </tbody>\n",
       "</table>\n",
       "</div>"
      ],
      "text/plain": [
       "  property_type department        lat-lon  area_m2  price_usd\n",
       "0         house          A   4.69,-74.048    187.0  330899.98\n",
       "1         house          C  4.695,-74.082     82.0  121555.09\n",
       "2         house          A  4.535,-75.676    235.0  219474.47\n",
       "3         house          C   4.62,-74.129    195.0   97919.38\n",
       "4         house          C    4.62,123.23      NaN   97919.38"
      ]
     },
     "execution_count": 48,
     "metadata": {},
     "output_type": "execute_result"
    }
   ],
   "source": [
    "import pandas as pd\n",
    "\n",
    "df = pd.read_csv(\"data/mexico-city-real-estate-1.csv\")\n",
    "df.head()"
   ]
  },
  {
   "cell_type": "code",
   "execution_count": 49,
   "id": "68e4fdae-0cc5-4f04-903b-ad24ff2a80e9",
   "metadata": {},
   "outputs": [
    {
     "data": {
      "text/html": [
       "<div>\n",
       "<style scoped>\n",
       "    .dataframe tbody tr th:only-of-type {\n",
       "        vertical-align: middle;\n",
       "    }\n",
       "\n",
       "    .dataframe tbody tr th {\n",
       "        vertical-align: top;\n",
       "    }\n",
       "\n",
       "    .dataframe thead th {\n",
       "        text-align: right;\n",
       "    }\n",
       "</style>\n",
       "<table border=\"1\" class=\"dataframe\">\n",
       "  <thead>\n",
       "    <tr style=\"text-align: right;\">\n",
       "      <th></th>\n",
       "      <th>property_type</th>\n",
       "      <th>department</th>\n",
       "      <th>lat-lon</th>\n",
       "      <th>area_m2</th>\n",
       "      <th>price_usd</th>\n",
       "    </tr>\n",
       "  </thead>\n",
       "  <tbody>\n",
       "    <tr>\n",
       "      <th>1</th>\n",
       "      <td>house</td>\n",
       "      <td>C</td>\n",
       "      <td>4.695,-74.082</td>\n",
       "      <td>82.0</td>\n",
       "      <td>121555.09</td>\n",
       "    </tr>\n",
       "    <tr>\n",
       "      <th>0</th>\n",
       "      <td>house</td>\n",
       "      <td>A</td>\n",
       "      <td>4.69,-74.048</td>\n",
       "      <td>187.0</td>\n",
       "      <td>330899.98</td>\n",
       "    </tr>\n",
       "    <tr>\n",
       "      <th>3</th>\n",
       "      <td>house</td>\n",
       "      <td>C</td>\n",
       "      <td>4.62,-74.129</td>\n",
       "      <td>195.0</td>\n",
       "      <td>97919.38</td>\n",
       "    </tr>\n",
       "    <tr>\n",
       "      <th>2</th>\n",
       "      <td>house</td>\n",
       "      <td>A</td>\n",
       "      <td>4.535,-75.676</td>\n",
       "      <td>235.0</td>\n",
       "      <td>219474.47</td>\n",
       "    </tr>\n",
       "    <tr>\n",
       "      <th>4</th>\n",
       "      <td>house</td>\n",
       "      <td>C</td>\n",
       "      <td>4.62,123.23</td>\n",
       "      <td>NaN</td>\n",
       "      <td>97919.38</td>\n",
       "    </tr>\n",
       "  </tbody>\n",
       "</table>\n",
       "</div>"
      ],
      "text/plain": [
       "  property_type department        lat-lon  area_m2  price_usd\n",
       "1         house          C  4.695,-74.082     82.0  121555.09\n",
       "0         house          A   4.69,-74.048    187.0  330899.98\n",
       "3         house          C   4.62,-74.129    195.0   97919.38\n",
       "2         house          A  4.535,-75.676    235.0  219474.47\n",
       "4         house          C    4.62,123.23      NaN   97919.38"
      ]
     },
     "execution_count": 49,
     "metadata": {},
     "output_type": "execute_result"
    }
   ],
   "source": [
    "df.sort_values(\"area_m2\").head()"
   ]
  },
  {
   "cell_type": "code",
   "execution_count": 51,
   "id": "63b8f336-e026-4b88-9cdc-3c1a1def1ac5",
   "metadata": {},
   "outputs": [
    {
     "data": {
      "text/html": [
       "<div>\n",
       "<style scoped>\n",
       "    .dataframe tbody tr th:only-of-type {\n",
       "        vertical-align: middle;\n",
       "    }\n",
       "\n",
       "    .dataframe tbody tr th {\n",
       "        vertical-align: top;\n",
       "    }\n",
       "\n",
       "    .dataframe thead th {\n",
       "        text-align: right;\n",
       "    }\n",
       "</style>\n",
       "<table border=\"1\" class=\"dataframe\">\n",
       "  <thead>\n",
       "    <tr style=\"text-align: right;\">\n",
       "      <th></th>\n",
       "      <th>property_type</th>\n",
       "      <th>department</th>\n",
       "      <th>lat-lon</th>\n",
       "      <th>area_m2</th>\n",
       "    </tr>\n",
       "    <tr>\n",
       "      <th>price_usd</th>\n",
       "      <th></th>\n",
       "      <th></th>\n",
       "      <th></th>\n",
       "      <th></th>\n",
       "    </tr>\n",
       "  </thead>\n",
       "  <tbody>\n",
       "    <tr>\n",
       "      <th>97919.38</th>\n",
       "      <td>house</td>\n",
       "      <td>C</td>\n",
       "      <td>4.62,-74.129</td>\n",
       "      <td>195.0</td>\n",
       "    </tr>\n",
       "    <tr>\n",
       "      <th>97919.38</th>\n",
       "      <td>house</td>\n",
       "      <td>C</td>\n",
       "      <td>4.62,123.23</td>\n",
       "      <td>NaN</td>\n",
       "    </tr>\n",
       "    <tr>\n",
       "      <th>121555.09</th>\n",
       "      <td>house</td>\n",
       "      <td>C</td>\n",
       "      <td>4.695,-74.082</td>\n",
       "      <td>82.0</td>\n",
       "    </tr>\n",
       "    <tr>\n",
       "      <th>219474.47</th>\n",
       "      <td>house</td>\n",
       "      <td>A</td>\n",
       "      <td>4.535,-75.676</td>\n",
       "      <td>235.0</td>\n",
       "    </tr>\n",
       "    <tr>\n",
       "      <th>330899.98</th>\n",
       "      <td>house</td>\n",
       "      <td>A</td>\n",
       "      <td>4.69,-74.048</td>\n",
       "      <td>187.0</td>\n",
       "    </tr>\n",
       "  </tbody>\n",
       "</table>\n",
       "</div>"
      ],
      "text/plain": [
       "          property_type department        lat-lon  area_m2\n",
       "price_usd                                                 \n",
       "97919.38          house          C   4.62,-74.129    195.0\n",
       "97919.38          house          C    4.62,123.23      NaN\n",
       "121555.09         house          C  4.695,-74.082     82.0\n",
       "219474.47         house          A  4.535,-75.676    235.0\n",
       "330899.98         house          A   4.69,-74.048    187.0"
      ]
     },
     "execution_count": 51,
     "metadata": {},
     "output_type": "execute_result"
    }
   ],
   "source": [
    "df.set_index(\"price_usd\").sort_index().head()"
   ]
  },
  {
   "cell_type": "markdown",
   "id": "fe3948c9-23ca-4c06-bec6-b64b767e9ffc",
   "metadata": {},
   "source": [
    "### Working with Columns"
   ]
  },
  {
   "cell_type": "markdown",
   "id": "c83a1d06-16f8-4f73-a09f-a8a5488b256b",
   "metadata": {},
   "source": [
    "Sometimes, it’s handy to duplicate a column of data. It might be that you’d like to drop some data points or erase empty cells while still preserving the original column. If you’d like to do that, you’ll need to duplicate the column. We can do this by placing the name of the new column in square brackets."
   ]
  },
  {
   "cell_type": "markdown",
   "id": "c41d5f07-a41b-4beb-9456-910eaaaeb61f",
   "metadata": {},
   "source": [
    "### Adding Columns"
   ]
  },
  {
   "cell_type": "markdown",
   "id": "593c3630-c097-4814-a089-8152feddcd6d",
   "metadata": {},
   "source": [
    "For example, we might want to add a column of data that shows the price per square meter of each house in US dollars. To do that, we're going to need to create a new column, and include the necessary math to populate it. First, we need to import the CSV and inspect the first five rows using the head method, like this:"
   ]
  },
  {
   "cell_type": "code",
   "execution_count": 52,
   "id": "183a878e-b7f9-4d9f-baec-da763a547ff6",
   "metadata": {},
   "outputs": [
    {
     "data": {
      "text/html": [
       "<div>\n",
       "<style scoped>\n",
       "    .dataframe tbody tr th:only-of-type {\n",
       "        vertical-align: middle;\n",
       "    }\n",
       "\n",
       "    .dataframe tbody tr th {\n",
       "        vertical-align: top;\n",
       "    }\n",
       "\n",
       "    .dataframe thead th {\n",
       "        text-align: right;\n",
       "    }\n",
       "</style>\n",
       "<table border=\"1\" class=\"dataframe\">\n",
       "  <thead>\n",
       "    <tr style=\"text-align: right;\">\n",
       "      <th></th>\n",
       "      <th>property_type</th>\n",
       "      <th>department</th>\n",
       "      <th>lat-lon</th>\n",
       "      <th>area_m2</th>\n",
       "      <th>price_usd</th>\n",
       "      <th>price_m2</th>\n",
       "    </tr>\n",
       "  </thead>\n",
       "  <tbody>\n",
       "    <tr>\n",
       "      <th>0</th>\n",
       "      <td>house</td>\n",
       "      <td>A</td>\n",
       "      <td>4.69,-74.048</td>\n",
       "      <td>187.0</td>\n",
       "      <td>330899.98</td>\n",
       "      <td>1769.518610</td>\n",
       "    </tr>\n",
       "    <tr>\n",
       "      <th>1</th>\n",
       "      <td>house</td>\n",
       "      <td>C</td>\n",
       "      <td>4.695,-74.082</td>\n",
       "      <td>82.0</td>\n",
       "      <td>121555.09</td>\n",
       "      <td>1482.379146</td>\n",
       "    </tr>\n",
       "    <tr>\n",
       "      <th>2</th>\n",
       "      <td>house</td>\n",
       "      <td>A</td>\n",
       "      <td>4.535,-75.676</td>\n",
       "      <td>235.0</td>\n",
       "      <td>219474.47</td>\n",
       "      <td>933.933915</td>\n",
       "    </tr>\n",
       "    <tr>\n",
       "      <th>3</th>\n",
       "      <td>house</td>\n",
       "      <td>C</td>\n",
       "      <td>4.62,-74.129</td>\n",
       "      <td>195.0</td>\n",
       "      <td>97919.38</td>\n",
       "      <td>502.150667</td>\n",
       "    </tr>\n",
       "    <tr>\n",
       "      <th>4</th>\n",
       "      <td>house</td>\n",
       "      <td>C</td>\n",
       "      <td>4.62,123.23</td>\n",
       "      <td>NaN</td>\n",
       "      <td>97919.38</td>\n",
       "      <td>NaN</td>\n",
       "    </tr>\n",
       "  </tbody>\n",
       "</table>\n",
       "</div>"
      ],
      "text/plain": [
       "  property_type department        lat-lon  area_m2  price_usd     price_m2\n",
       "0         house          A   4.69,-74.048    187.0  330899.98  1769.518610\n",
       "1         house          C  4.695,-74.082     82.0  121555.09  1482.379146\n",
       "2         house          A  4.535,-75.676    235.0  219474.47   933.933915\n",
       "3         house          C   4.62,-74.129    195.0   97919.38   502.150667\n",
       "4         house          C    4.62,123.23      NaN   97919.38          NaN"
      ]
     },
     "execution_count": 52,
     "metadata": {},
     "output_type": "execute_result"
    }
   ],
   "source": [
    "df[\"price_m2\"] = df[\"price_usd\"] / df[\"area_m2\"]\n",
    "df.head()"
   ]
  },
  {
   "cell_type": "markdown",
   "id": "4e5fb0c5-1d9d-4fc3-9c32-b8af79e5da00",
   "metadata": {},
   "source": [
    "### Dropping Columns"
   ]
  },
  {
   "cell_type": "markdown",
   "id": "2af3f0ea-60ad-4b9c-bea2-5ca54a84073b",
   "metadata": {},
   "source": [
    "Just like we can add columns, we can also take them away. To do this, we’ll use the drop method. If I wanted to drop the “department” column from colombia-real-estate-1, the code would look like this:"
   ]
  },
  {
   "cell_type": "code",
   "execution_count": 53,
   "id": "c70f81d9-3395-4411-8025-2d5633fb1e26",
   "metadata": {},
   "outputs": [
    {
     "data": {
      "text/html": [
       "<div>\n",
       "<style scoped>\n",
       "    .dataframe tbody tr th:only-of-type {\n",
       "        vertical-align: middle;\n",
       "    }\n",
       "\n",
       "    .dataframe tbody tr th {\n",
       "        vertical-align: top;\n",
       "    }\n",
       "\n",
       "    .dataframe thead th {\n",
       "        text-align: right;\n",
       "    }\n",
       "</style>\n",
       "<table border=\"1\" class=\"dataframe\">\n",
       "  <thead>\n",
       "    <tr style=\"text-align: right;\">\n",
       "      <th></th>\n",
       "      <th>property_type</th>\n",
       "      <th>lat-lon</th>\n",
       "      <th>area_m2</th>\n",
       "      <th>price_usd</th>\n",
       "      <th>price_m2</th>\n",
       "    </tr>\n",
       "  </thead>\n",
       "  <tbody>\n",
       "    <tr>\n",
       "      <th>0</th>\n",
       "      <td>house</td>\n",
       "      <td>4.69,-74.048</td>\n",
       "      <td>187.0</td>\n",
       "      <td>330899.98</td>\n",
       "      <td>1769.518610</td>\n",
       "    </tr>\n",
       "    <tr>\n",
       "      <th>1</th>\n",
       "      <td>house</td>\n",
       "      <td>4.695,-74.082</td>\n",
       "      <td>82.0</td>\n",
       "      <td>121555.09</td>\n",
       "      <td>1482.379146</td>\n",
       "    </tr>\n",
       "    <tr>\n",
       "      <th>2</th>\n",
       "      <td>house</td>\n",
       "      <td>4.535,-75.676</td>\n",
       "      <td>235.0</td>\n",
       "      <td>219474.47</td>\n",
       "      <td>933.933915</td>\n",
       "    </tr>\n",
       "    <tr>\n",
       "      <th>3</th>\n",
       "      <td>house</td>\n",
       "      <td>4.62,-74.129</td>\n",
       "      <td>195.0</td>\n",
       "      <td>97919.38</td>\n",
       "      <td>502.150667</td>\n",
       "    </tr>\n",
       "    <tr>\n",
       "      <th>4</th>\n",
       "      <td>house</td>\n",
       "      <td>4.62,123.23</td>\n",
       "      <td>NaN</td>\n",
       "      <td>97919.38</td>\n",
       "      <td>NaN</td>\n",
       "    </tr>\n",
       "  </tbody>\n",
       "</table>\n",
       "</div>"
      ],
      "text/plain": [
       "  property_type        lat-lon  area_m2  price_usd     price_m2\n",
       "0         house   4.69,-74.048    187.0  330899.98  1769.518610\n",
       "1         house  4.695,-74.082     82.0  121555.09  1482.379146\n",
       "2         house  4.535,-75.676    235.0  219474.47   933.933915\n",
       "3         house   4.62,-74.129    195.0   97919.38   502.150667\n",
       "4         house    4.62,123.23      NaN   97919.38          NaN"
      ]
     },
     "execution_count": 53,
     "metadata": {},
     "output_type": "execute_result"
    }
   ],
   "source": [
    "df2 = df.drop(\"department\", axis=\"columns\")\n",
    "df2.head()"
   ]
  },
  {
   "cell_type": "code",
   "execution_count": 54,
   "id": "0b4a1b86-2305-40e6-b196-0788c5f8108c",
   "metadata": {},
   "outputs": [
    {
     "data": {
      "text/html": [
       "<div>\n",
       "<style scoped>\n",
       "    .dataframe tbody tr th:only-of-type {\n",
       "        vertical-align: middle;\n",
       "    }\n",
       "\n",
       "    .dataframe tbody tr th {\n",
       "        vertical-align: top;\n",
       "    }\n",
       "\n",
       "    .dataframe thead th {\n",
       "        text-align: right;\n",
       "    }\n",
       "</style>\n",
       "<table border=\"1\" class=\"dataframe\">\n",
       "  <thead>\n",
       "    <tr style=\"text-align: right;\">\n",
       "      <th></th>\n",
       "      <th>property_type</th>\n",
       "      <th>department</th>\n",
       "      <th>lat-lon</th>\n",
       "      <th>area_m2</th>\n",
       "      <th>price_usd</th>\n",
       "      <th>price_m2</th>\n",
       "    </tr>\n",
       "  </thead>\n",
       "  <tbody>\n",
       "    <tr>\n",
       "      <th>0</th>\n",
       "      <td>house</td>\n",
       "      <td>A</td>\n",
       "      <td>4.69,-74.048</td>\n",
       "      <td>187.0</td>\n",
       "      <td>330899.98</td>\n",
       "      <td>1769.518610</td>\n",
       "    </tr>\n",
       "    <tr>\n",
       "      <th>1</th>\n",
       "      <td>house</td>\n",
       "      <td>C</td>\n",
       "      <td>4.695,-74.082</td>\n",
       "      <td>82.0</td>\n",
       "      <td>121555.09</td>\n",
       "      <td>1482.379146</td>\n",
       "    </tr>\n",
       "    <tr>\n",
       "      <th>3</th>\n",
       "      <td>house</td>\n",
       "      <td>C</td>\n",
       "      <td>4.62,-74.129</td>\n",
       "      <td>195.0</td>\n",
       "      <td>97919.38</td>\n",
       "      <td>502.150667</td>\n",
       "    </tr>\n",
       "    <tr>\n",
       "      <th>4</th>\n",
       "      <td>house</td>\n",
       "      <td>C</td>\n",
       "      <td>4.62,123.23</td>\n",
       "      <td>NaN</td>\n",
       "      <td>97919.38</td>\n",
       "      <td>NaN</td>\n",
       "    </tr>\n",
       "  </tbody>\n",
       "</table>\n",
       "</div>"
      ],
      "text/plain": [
       "  property_type department        lat-lon  area_m2  price_usd     price_m2\n",
       "0         house          A   4.69,-74.048    187.0  330899.98  1769.518610\n",
       "1         house          C  4.695,-74.082     82.0  121555.09  1482.379146\n",
       "3         house          C   4.62,-74.129    195.0   97919.38   502.150667\n",
       "4         house          C    4.62,123.23      NaN   97919.38          NaN"
      ]
     },
     "execution_count": 54,
     "metadata": {},
     "output_type": "execute_result"
    }
   ],
   "source": [
    "df2 = df.drop(2, axis=\"index\")\n",
    "df2.head()"
   ]
  },
  {
   "cell_type": "markdown",
   "id": "50e1d5b5-d1d3-4ada-b42b-adb51ed796b3",
   "metadata": {},
   "source": [
    "### Dropping Rows"
   ]
  },
  {
   "cell_type": "markdown",
   "id": "4e0ca0b8-9878-43a7-afc9-ae9e5a7f2476",
   "metadata": {},
   "source": [
    "Including rows with empty cells can radically skew the results of our analysis, so we often drop them from the dataset. We can do this with the dropna method. If we wanted to do this with df, the code would look like this:"
   ]
  },
  {
   "cell_type": "code",
   "execution_count": 55,
   "id": "eae53470-9e36-4392-b623-92f6a6313385",
   "metadata": {},
   "outputs": [
    {
     "name": "stdout",
     "output_type": "stream",
     "text": [
      "df shape before dropping rows (5, 6)\n",
      "df shape after dropping rows (4, 6)\n"
     ]
    },
    {
     "data": {
      "text/html": [
       "<div>\n",
       "<style scoped>\n",
       "    .dataframe tbody tr th:only-of-type {\n",
       "        vertical-align: middle;\n",
       "    }\n",
       "\n",
       "    .dataframe tbody tr th {\n",
       "        vertical-align: top;\n",
       "    }\n",
       "\n",
       "    .dataframe thead th {\n",
       "        text-align: right;\n",
       "    }\n",
       "</style>\n",
       "<table border=\"1\" class=\"dataframe\">\n",
       "  <thead>\n",
       "    <tr style=\"text-align: right;\">\n",
       "      <th></th>\n",
       "      <th>property_type</th>\n",
       "      <th>department</th>\n",
       "      <th>lat-lon</th>\n",
       "      <th>area_m2</th>\n",
       "      <th>price_usd</th>\n",
       "      <th>price_m2</th>\n",
       "    </tr>\n",
       "  </thead>\n",
       "  <tbody>\n",
       "    <tr>\n",
       "      <th>0</th>\n",
       "      <td>house</td>\n",
       "      <td>A</td>\n",
       "      <td>4.69,-74.048</td>\n",
       "      <td>187.0</td>\n",
       "      <td>330899.98</td>\n",
       "      <td>1769.518610</td>\n",
       "    </tr>\n",
       "    <tr>\n",
       "      <th>1</th>\n",
       "      <td>house</td>\n",
       "      <td>C</td>\n",
       "      <td>4.695,-74.082</td>\n",
       "      <td>82.0</td>\n",
       "      <td>121555.09</td>\n",
       "      <td>1482.379146</td>\n",
       "    </tr>\n",
       "    <tr>\n",
       "      <th>2</th>\n",
       "      <td>house</td>\n",
       "      <td>A</td>\n",
       "      <td>4.535,-75.676</td>\n",
       "      <td>235.0</td>\n",
       "      <td>219474.47</td>\n",
       "      <td>933.933915</td>\n",
       "    </tr>\n",
       "    <tr>\n",
       "      <th>3</th>\n",
       "      <td>house</td>\n",
       "      <td>C</td>\n",
       "      <td>4.62,-74.129</td>\n",
       "      <td>195.0</td>\n",
       "      <td>97919.38</td>\n",
       "      <td>502.150667</td>\n",
       "    </tr>\n",
       "  </tbody>\n",
       "</table>\n",
       "</div>"
      ],
      "text/plain": [
       "  property_type department        lat-lon  area_m2  price_usd     price_m2\n",
       "0         house          A   4.69,-74.048    187.0  330899.98  1769.518610\n",
       "1         house          C  4.695,-74.082     82.0  121555.09  1482.379146\n",
       "2         house          A  4.535,-75.676    235.0  219474.47   933.933915\n",
       "3         house          C   4.62,-74.129    195.0   97919.38   502.150667"
      ]
     },
     "execution_count": 55,
     "metadata": {},
     "output_type": "execute_result"
    }
   ],
   "source": [
    "print(\"df shape before dropping rows\", df.shape)\n",
    "df.dropna(inplace=True)\n",
    "print(\"df shape after dropping rows\", df.shape)\n",
    "df.head()"
   ]
  },
  {
   "cell_type": "markdown",
   "id": "9b073aae-d99c-499f-af88-0aeb891eb238",
   "metadata": {},
   "source": [
    "### Splitting Strings"
   ]
  },
  {
   "cell_type": "markdown",
   "id": "e24d321e-7b33-4aa4-9738-c6ec0638d3bd",
   "metadata": {},
   "source": [
    "It might be useful to split strings into their constituent parts, and create new columns to contain them. To do this, we’ll use the .str.split method, and include the character we want to use as the place where the data splits apart. In the `mexico-city-real-estate-1df3[[\"lat\", \"lon\"]] = df3[\"lat-lon\"].str.split(\",\", expand=True)\n",
    "df3` dataset, we might be interested breaking the `\"lat-lon\"` column into a `\"lat\"` column and a `\"lon\"` column. We’ll split it at `“,”` with code that looks like this:"
   ]
  },
  {
   "cell_type": "code",
   "execution_count": 56,
   "id": "f47a3b8b-90c3-49ef-a793-af8637e8be4c",
   "metadata": {},
   "outputs": [
    {
     "data": {
      "text/html": [
       "<div>\n",
       "<style scoped>\n",
       "    .dataframe tbody tr th:only-of-type {\n",
       "        vertical-align: middle;\n",
       "    }\n",
       "\n",
       "    .dataframe tbody tr th {\n",
       "        vertical-align: top;\n",
       "    }\n",
       "\n",
       "    .dataframe thead th {\n",
       "        text-align: right;\n",
       "    }\n",
       "</style>\n",
       "<table border=\"1\" class=\"dataframe\">\n",
       "  <thead>\n",
       "    <tr style=\"text-align: right;\">\n",
       "      <th></th>\n",
       "      <th>property_type</th>\n",
       "      <th>department</th>\n",
       "      <th>lat-lon</th>\n",
       "      <th>area_m2</th>\n",
       "      <th>price_usd</th>\n",
       "      <th>price_m2</th>\n",
       "      <th>lat</th>\n",
       "      <th>lon</th>\n",
       "    </tr>\n",
       "  </thead>\n",
       "  <tbody>\n",
       "    <tr>\n",
       "      <th>0</th>\n",
       "      <td>house</td>\n",
       "      <td>A</td>\n",
       "      <td>4.69,-74.048</td>\n",
       "      <td>187.0</td>\n",
       "      <td>330899.98</td>\n",
       "      <td>1769.518610</td>\n",
       "      <td>4.69</td>\n",
       "      <td>-74.048</td>\n",
       "    </tr>\n",
       "    <tr>\n",
       "      <th>1</th>\n",
       "      <td>house</td>\n",
       "      <td>C</td>\n",
       "      <td>4.695,-74.082</td>\n",
       "      <td>82.0</td>\n",
       "      <td>121555.09</td>\n",
       "      <td>1482.379146</td>\n",
       "      <td>4.695</td>\n",
       "      <td>-74.082</td>\n",
       "    </tr>\n",
       "    <tr>\n",
       "      <th>2</th>\n",
       "      <td>house</td>\n",
       "      <td>A</td>\n",
       "      <td>4.535,-75.676</td>\n",
       "      <td>235.0</td>\n",
       "      <td>219474.47</td>\n",
       "      <td>933.933915</td>\n",
       "      <td>4.535</td>\n",
       "      <td>-75.676</td>\n",
       "    </tr>\n",
       "    <tr>\n",
       "      <th>3</th>\n",
       "      <td>house</td>\n",
       "      <td>C</td>\n",
       "      <td>4.62,-74.129</td>\n",
       "      <td>195.0</td>\n",
       "      <td>97919.38</td>\n",
       "      <td>502.150667</td>\n",
       "      <td>4.62</td>\n",
       "      <td>-74.129</td>\n",
       "    </tr>\n",
       "  </tbody>\n",
       "</table>\n",
       "</div>"
      ],
      "text/plain": [
       "  property_type department        lat-lon  area_m2  price_usd     price_m2  \\\n",
       "0         house          A   4.69,-74.048    187.0  330899.98  1769.518610   \n",
       "1         house          C  4.695,-74.082     82.0  121555.09  1482.379146   \n",
       "2         house          A  4.535,-75.676    235.0  219474.47   933.933915   \n",
       "3         house          C   4.62,-74.129    195.0   97919.38   502.150667   \n",
       "\n",
       "     lat      lon  \n",
       "0   4.69  -74.048  \n",
       "1  4.695  -74.082  \n",
       "2  4.535  -75.676  \n",
       "3   4.62  -74.129  "
      ]
     },
     "execution_count": 56,
     "metadata": {},
     "output_type": "execute_result"
    }
   ],
   "source": [
    "df[[\"lat\", \"lon\"]] = df[\"lat-lon\"].str.split(\",\", expand=True)\n",
    "df"
   ]
  },
  {
   "cell_type": "markdown",
   "id": "b2e5b82f-ad8f-4074-883e-e71eeee56dc6",
   "metadata": {},
   "source": [
    "### Recasting Data"
   ]
  },
  {
   "cell_type": "markdown",
   "id": "8c8ff959-bada-4555-a0dc-2851a30a69d6",
   "metadata": {},
   "source": [
    "Depending on who formatted your dataset, the types of data assigned to each column might need to be changed. If, for example, a column containing only numbers had been mistaken for a column containing only strings, we’d need to change that through a process called recasting. Using the colombia-real-estate-1 dataset, we could recast the entire dataset as strings by using the astype method, like this:"
   ]
  },
  {
   "cell_type": "code",
   "execution_count": 57,
   "id": "3e0f41ce-1c67-4fdc-8a14-287c9c3ee7c8",
   "metadata": {},
   "outputs": [
    {
     "name": "stdout",
     "output_type": "stream",
     "text": [
      "<class 'pandas.core.frame.DataFrame'>\n",
      "Index: 4 entries, 0 to 3\n",
      "Data columns (total 8 columns):\n",
      " #   Column         Non-Null Count  Dtype  \n",
      "---  ------         --------------  -----  \n",
      " 0   property_type  4 non-null      object \n",
      " 1   department     4 non-null      object \n",
      " 2   lat-lon        4 non-null      object \n",
      " 3   area_m2        4 non-null      float64\n",
      " 4   price_usd      4 non-null      float64\n",
      " 5   price_m2       4 non-null      float64\n",
      " 6   lat            4 non-null      object \n",
      " 7   lon            4 non-null      object \n",
      "dtypes: float64(3), object(5)\n",
      "memory usage: 288.0+ bytes\n",
      "None\n",
      "<class 'pandas.core.frame.DataFrame'>\n",
      "Index: 4 entries, 0 to 3\n",
      "Data columns (total 8 columns):\n",
      " #   Column         Non-Null Count  Dtype \n",
      "---  ------         --------------  ----- \n",
      " 0   property_type  4 non-null      object\n",
      " 1   department     4 non-null      object\n",
      " 2   lat-lon        4 non-null      object\n",
      " 3   area_m2        4 non-null      object\n",
      " 4   price_usd      4 non-null      object\n",
      " 5   price_m2       4 non-null      object\n",
      " 6   lat            4 non-null      object\n",
      " 7   lon            4 non-null      object\n",
      "dtypes: object(8)\n",
      "memory usage: 288.0+ bytes\n",
      "None\n"
     ]
    }
   ],
   "source": [
    "print(df.info())\n",
    "newdf = df.astype(\"str\")\n",
    "print(newdf.info())"
   ]
  },
  {
   "cell_type": "markdown",
   "id": "eeb14095-d25e-4fa2-94ea-ce45ba0a786a",
   "metadata": {},
   "source": [
    "This is a useful approach, but, more often than not, you’ll want to only recast individual columns. In the colombia-real-estate-1 dataset, the \"area_m2\" column is cast as float64. Let's change it to int. We’ll still use the astype method, but we'll insert the name of the column. The code looks like this:"
   ]
  },
  {
   "cell_type": "code",
   "execution_count": 58,
   "id": "62adcf97-fe0a-4193-8f89-5559c7144538",
   "metadata": {},
   "outputs": [
    {
     "name": "stdout",
     "output_type": "stream",
     "text": [
      "<class 'pandas.core.frame.DataFrame'>\n",
      "Index: 4 entries, 0 to 3\n",
      "Data columns (total 8 columns):\n",
      " #   Column         Non-Null Count  Dtype  \n",
      "---  ------         --------------  -----  \n",
      " 0   property_type  4 non-null      object \n",
      " 1   department     4 non-null      object \n",
      " 2   lat-lon        4 non-null      object \n",
      " 3   area_m2        4 non-null      int64  \n",
      " 4   price_usd      4 non-null      float64\n",
      " 5   price_m2       4 non-null      float64\n",
      " 6   lat            4 non-null      object \n",
      " 7   lon            4 non-null      object \n",
      "dtypes: float64(2), int64(1), object(5)\n",
      "memory usage: 288.0+ bytes\n"
     ]
    }
   ],
   "source": [
    "df[\"area_m2\"] = df.area_m2.astype(int)\n",
    "df.info()"
   ]
  },
  {
   "cell_type": "markdown",
   "id": "bacced90-8bd0-459b-a4e3-1c4e8c04f7c9",
   "metadata": {},
   "source": [
    "### Replacing String Characters"
   ]
  },
  {
   "cell_type": "markdown",
   "id": "b112c04b-c7a7-47db-a71c-14149bb69225",
   "metadata": {},
   "source": [
    "Another change you might want to make is replacing the characters in a string. To do this, we’ll use the replace method again, being sure to specify which string should be replaced, and what new string should replace it. For example, if we wanted to replace the string “house” with the string “single_family” in the colombia-real-estate-1 dataset, the code would look like this:"
   ]
  },
  {
   "cell_type": "code",
   "execution_count": 59,
   "id": "0f052c18-b22f-4b9d-8ce7-693003678b6a",
   "metadata": {},
   "outputs": [
    {
     "data": {
      "text/html": [
       "<div>\n",
       "<style scoped>\n",
       "    .dataframe tbody tr th:only-of-type {\n",
       "        vertical-align: middle;\n",
       "    }\n",
       "\n",
       "    .dataframe tbody tr th {\n",
       "        vertical-align: top;\n",
       "    }\n",
       "\n",
       "    .dataframe thead th {\n",
       "        text-align: right;\n",
       "    }\n",
       "</style>\n",
       "<table border=\"1\" class=\"dataframe\">\n",
       "  <thead>\n",
       "    <tr style=\"text-align: right;\">\n",
       "      <th></th>\n",
       "      <th>property_type</th>\n",
       "      <th>department</th>\n",
       "      <th>lat-lon</th>\n",
       "      <th>area_m2</th>\n",
       "      <th>price_usd</th>\n",
       "      <th>price_m2</th>\n",
       "      <th>lat</th>\n",
       "      <th>lon</th>\n",
       "    </tr>\n",
       "  </thead>\n",
       "  <tbody>\n",
       "    <tr>\n",
       "      <th>0</th>\n",
       "      <td>single_family</td>\n",
       "      <td>A</td>\n",
       "      <td>4.69,-74.048</td>\n",
       "      <td>187</td>\n",
       "      <td>330899.98</td>\n",
       "      <td>1769.518610</td>\n",
       "      <td>4.69</td>\n",
       "      <td>-74.048</td>\n",
       "    </tr>\n",
       "    <tr>\n",
       "      <th>1</th>\n",
       "      <td>single_family</td>\n",
       "      <td>C</td>\n",
       "      <td>4.695,-74.082</td>\n",
       "      <td>82</td>\n",
       "      <td>121555.09</td>\n",
       "      <td>1482.379146</td>\n",
       "      <td>4.695</td>\n",
       "      <td>-74.082</td>\n",
       "    </tr>\n",
       "    <tr>\n",
       "      <th>2</th>\n",
       "      <td>single_family</td>\n",
       "      <td>A</td>\n",
       "      <td>4.535,-75.676</td>\n",
       "      <td>235</td>\n",
       "      <td>219474.47</td>\n",
       "      <td>933.933915</td>\n",
       "      <td>4.535</td>\n",
       "      <td>-75.676</td>\n",
       "    </tr>\n",
       "    <tr>\n",
       "      <th>3</th>\n",
       "      <td>single_family</td>\n",
       "      <td>C</td>\n",
       "      <td>4.62,-74.129</td>\n",
       "      <td>195</td>\n",
       "      <td>97919.38</td>\n",
       "      <td>502.150667</td>\n",
       "      <td>4.62</td>\n",
       "      <td>-74.129</td>\n",
       "    </tr>\n",
       "  </tbody>\n",
       "</table>\n",
       "</div>"
      ],
      "text/plain": [
       "   property_type department        lat-lon  area_m2  price_usd     price_m2  \\\n",
       "0  single_family          A   4.69,-74.048      187  330899.98  1769.518610   \n",
       "1  single_family          C  4.695,-74.082       82  121555.09  1482.379146   \n",
       "2  single_family          A  4.535,-75.676      235  219474.47   933.933915   \n",
       "3  single_family          C   4.62,-74.129      195   97919.38   502.150667   \n",
       "\n",
       "     lat      lon  \n",
       "0   4.69  -74.048  \n",
       "1  4.695  -74.082  \n",
       "2  4.535  -75.676  \n",
       "3   4.62  -74.129  "
      ]
     },
     "execution_count": 59,
     "metadata": {},
     "output_type": "execute_result"
    }
   ],
   "source": [
    "df[\"property_type\"] = df[\"property_type\"].str.replace(\"house\", \"single_family\")\n",
    "df.head()"
   ]
  },
  {
   "cell_type": "code",
   "execution_count": 60,
   "id": "637c7ccb-d75f-4039-a44c-60529d3631ab",
   "metadata": {},
   "outputs": [
    {
     "data": {
      "text/html": [
       "<div>\n",
       "<style scoped>\n",
       "    .dataframe tbody tr th:only-of-type {\n",
       "        vertical-align: middle;\n",
       "    }\n",
       "\n",
       "    .dataframe tbody tr th {\n",
       "        vertical-align: top;\n",
       "    }\n",
       "\n",
       "    .dataframe thead th {\n",
       "        text-align: right;\n",
       "    }\n",
       "</style>\n",
       "<table border=\"1\" class=\"dataframe\">\n",
       "  <thead>\n",
       "    <tr style=\"text-align: right;\">\n",
       "      <th></th>\n",
       "      <th>property_type</th>\n",
       "      <th>department</th>\n",
       "      <th>lat-lon</th>\n",
       "      <th>area_m2</th>\n",
       "      <th>price_usd</th>\n",
       "      <th>price_m2</th>\n",
       "      <th>lat</th>\n",
       "      <th>lon</th>\n",
       "    </tr>\n",
       "  </thead>\n",
       "  <tbody>\n",
       "    <tr>\n",
       "      <th>0</th>\n",
       "      <td>single_family</td>\n",
       "      <td>A</td>\n",
       "      <td>4.69,-74.048</td>\n",
       "      <td>187</td>\n",
       "      <td>330899.98</td>\n",
       "      <td>1769.518610</td>\n",
       "      <td>4.69</td>\n",
       "      <td>-74.048</td>\n",
       "    </tr>\n",
       "    <tr>\n",
       "      <th>1</th>\n",
       "      <td>single_family</td>\n",
       "      <td>C</td>\n",
       "      <td>4.695,-74.082</td>\n",
       "      <td>82</td>\n",
       "      <td>121555.09</td>\n",
       "      <td>1482.379146</td>\n",
       "      <td>4.695</td>\n",
       "      <td>-74.082</td>\n",
       "    </tr>\n",
       "    <tr>\n",
       "      <th>2</th>\n",
       "      <td>single_family</td>\n",
       "      <td>A</td>\n",
       "      <td>4.535,-75.676</td>\n",
       "      <td>235</td>\n",
       "      <td>219474.47</td>\n",
       "      <td>933.933915</td>\n",
       "      <td>4.535</td>\n",
       "      <td>-75.676</td>\n",
       "    </tr>\n",
       "    <tr>\n",
       "      <th>3</th>\n",
       "      <td>single_family</td>\n",
       "      <td>C</td>\n",
       "      <td>4.62,-74.129</td>\n",
       "      <td>195</td>\n",
       "      <td>97919.38</td>\n",
       "      <td>502.150667</td>\n",
       "      <td>4.62</td>\n",
       "      <td>-74.129</td>\n",
       "    </tr>\n",
       "  </tbody>\n",
       "</table>\n",
       "</div>"
      ],
      "text/plain": [
       "   property_type department        lat-lon  area_m2  price_usd     price_m2  \\\n",
       "0  single_family          A   4.69,-74.048      187  330899.98  1769.518610   \n",
       "1  single_family          C  4.695,-74.082       82  121555.09  1482.379146   \n",
       "2  single_family          A  4.535,-75.676      235  219474.47   933.933915   \n",
       "3  single_family          C   4.62,-74.129      195   97919.38   502.150667   \n",
       "\n",
       "     lat      lon  \n",
       "0   4.69  -74.048  \n",
       "1  4.695  -74.082  \n",
       "2  4.535  -75.676  \n",
       "3   4.62  -74.129  "
      ]
     },
     "execution_count": 60,
     "metadata": {},
     "output_type": "execute_result"
    }
   ],
   "source": [
    "df[\"property_type\"] = df[\"property_type\"].str.replace(\"apartment\", \"multi_family\")\n",
    "df"
   ]
  },
  {
   "cell_type": "code",
   "execution_count": 67,
   "id": "2fce5e2c-a73c-47d6-8fa4-ba5695f57a1f",
   "metadata": {},
   "outputs": [
    {
     "data": {
      "text/html": [
       "<div>\n",
       "<style scoped>\n",
       "    .dataframe tbody tr th:only-of-type {\n",
       "        vertical-align: middle;\n",
       "    }\n",
       "\n",
       "    .dataframe tbody tr th {\n",
       "        vertical-align: top;\n",
       "    }\n",
       "\n",
       "    .dataframe thead th {\n",
       "        text-align: right;\n",
       "    }\n",
       "</style>\n",
       "<table border=\"1\" class=\"dataframe\">\n",
       "  <thead>\n",
       "    <tr style=\"text-align: right;\">\n",
       "      <th></th>\n",
       "      <th>property_type</th>\n",
       "      <th>department</th>\n",
       "      <th>lat-lon</th>\n",
       "      <th>area_m2</th>\n",
       "      <th>price_usd</th>\n",
       "      <th>price_m2</th>\n",
       "      <th>lat</th>\n",
       "      <th>lon</th>\n",
       "    </tr>\n",
       "  </thead>\n",
       "  <tbody>\n",
       "    <tr>\n",
       "      <th>0</th>\n",
       "      <td>single_family</td>\n",
       "      <td>A</td>\n",
       "      <td>4.69,-74.048</td>\n",
       "      <td>0</td>\n",
       "      <td>330899.98</td>\n",
       "      <td>1769.518610</td>\n",
       "      <td>4.69</td>\n",
       "      <td>-74.048</td>\n",
       "    </tr>\n",
       "    <tr>\n",
       "      <th>1</th>\n",
       "      <td>single_family</td>\n",
       "      <td>C</td>\n",
       "      <td>4.695,-74.082</td>\n",
       "      <td>82</td>\n",
       "      <td>121555.09</td>\n",
       "      <td>1482.379146</td>\n",
       "      <td>4.695</td>\n",
       "      <td>-74.082</td>\n",
       "    </tr>\n",
       "    <tr>\n",
       "      <th>2</th>\n",
       "      <td>single_family</td>\n",
       "      <td>A</td>\n",
       "      <td>4.535,-75.676</td>\n",
       "      <td>1</td>\n",
       "      <td>219474.47</td>\n",
       "      <td>933.933915</td>\n",
       "      <td>4.535</td>\n",
       "      <td>-75.676</td>\n",
       "    </tr>\n",
       "    <tr>\n",
       "      <th>3</th>\n",
       "      <td>single_family</td>\n",
       "      <td>C</td>\n",
       "      <td>4.62,-74.129</td>\n",
       "      <td>195</td>\n",
       "      <td>97919.38</td>\n",
       "      <td>502.150667</td>\n",
       "      <td>4.62</td>\n",
       "      <td>-74.129</td>\n",
       "    </tr>\n",
       "  </tbody>\n",
       "</table>\n",
       "</div>"
      ],
      "text/plain": [
       "   property_type department        lat-lon  area_m2  price_usd     price_m2  \\\n",
       "0  single_family          A   4.69,-74.048        0  330899.98  1769.518610   \n",
       "1  single_family          C  4.695,-74.082       82  121555.09  1482.379146   \n",
       "2  single_family          A  4.535,-75.676        1  219474.47   933.933915   \n",
       "3  single_family          C   4.62,-74.129      195   97919.38   502.150667   \n",
       "\n",
       "     lat      lon  \n",
       "0   4.69  -74.048  \n",
       "1  4.695  -74.082  \n",
       "2  4.535  -75.676  \n",
       "3   4.62  -74.129  "
      ]
     },
     "execution_count": 67,
     "metadata": {},
     "output_type": "execute_result"
    }
   ],
   "source": [
    "replace_value = {187: 0, 235: 1}\n",
    "\n",
    "df[\"area_m2\"].replace(replace_value)\n",
    "df"
   ]
  },
  {
   "cell_type": "code",
   "execution_count": 68,
   "id": "59e85ae6-f44a-4bd2-a620-0537d58cd18f",
   "metadata": {},
   "outputs": [
    {
     "name": "stdout",
     "output_type": "stream",
     "text": [
      "df1 shape: (5, 5)\n",
      "df2 shape: (5, 5)\n"
     ]
    }
   ],
   "source": [
    "df1 = pd.read_csv(\"data/mexico-city-real-estate-1.csv\")\n",
    "df2 = pd.read_csv(\"data/mexico-city-real-estate-2.csv\")\n",
    "print(\"df1 shape:\", df1.shape)\n",
    "print(\"df2 shape:\", df2.shape)"
   ]
  },
  {
   "cell_type": "code",
   "execution_count": 69,
   "id": "8883b418-b68c-4ae1-a233-d9ff9f19f84e",
   "metadata": {},
   "outputs": [
    {
     "name": "stdout",
     "output_type": "stream",
     "text": [
      "concat_df shape: (10, 5)\n"
     ]
    },
    {
     "data": {
      "text/html": [
       "<div>\n",
       "<style scoped>\n",
       "    .dataframe tbody tr th:only-of-type {\n",
       "        vertical-align: middle;\n",
       "    }\n",
       "\n",
       "    .dataframe tbody tr th {\n",
       "        vertical-align: top;\n",
       "    }\n",
       "\n",
       "    .dataframe thead th {\n",
       "        text-align: right;\n",
       "    }\n",
       "</style>\n",
       "<table border=\"1\" class=\"dataframe\">\n",
       "  <thead>\n",
       "    <tr style=\"text-align: right;\">\n",
       "      <th></th>\n",
       "      <th>property_type</th>\n",
       "      <th>department</th>\n",
       "      <th>lat-lon</th>\n",
       "      <th>area_m2</th>\n",
       "      <th>price_usd</th>\n",
       "    </tr>\n",
       "  </thead>\n",
       "  <tbody>\n",
       "    <tr>\n",
       "      <th>0</th>\n",
       "      <td>house</td>\n",
       "      <td>A</td>\n",
       "      <td>4.69,-74.048</td>\n",
       "      <td>187.0</td>\n",
       "      <td>330899.98</td>\n",
       "    </tr>\n",
       "    <tr>\n",
       "      <th>1</th>\n",
       "      <td>house</td>\n",
       "      <td>C</td>\n",
       "      <td>4.695,-74.082</td>\n",
       "      <td>82.0</td>\n",
       "      <td>121555.09</td>\n",
       "    </tr>\n",
       "    <tr>\n",
       "      <th>2</th>\n",
       "      <td>house</td>\n",
       "      <td>A</td>\n",
       "      <td>4.535,-75.676</td>\n",
       "      <td>235.0</td>\n",
       "      <td>219474.47</td>\n",
       "    </tr>\n",
       "    <tr>\n",
       "      <th>3</th>\n",
       "      <td>house</td>\n",
       "      <td>C</td>\n",
       "      <td>4.62,-74.129</td>\n",
       "      <td>195.0</td>\n",
       "      <td>97919.38</td>\n",
       "    </tr>\n",
       "    <tr>\n",
       "      <th>4</th>\n",
       "      <td>house</td>\n",
       "      <td>C</td>\n",
       "      <td>4.62,123.23</td>\n",
       "      <td>NaN</td>\n",
       "      <td>97919.38</td>\n",
       "    </tr>\n",
       "  </tbody>\n",
       "</table>\n",
       "</div>"
      ],
      "text/plain": [
       "  property_type department        lat-lon  area_m2  price_usd\n",
       "0         house          A   4.69,-74.048    187.0  330899.98\n",
       "1         house          C  4.695,-74.082     82.0  121555.09\n",
       "2         house          A  4.535,-75.676    235.0  219474.47\n",
       "3         house          C   4.62,-74.129    195.0   97919.38\n",
       "4         house          C    4.62,123.23      NaN   97919.38"
      ]
     },
     "execution_count": 69,
     "metadata": {},
     "output_type": "execute_result"
    }
   ],
   "source": [
    "concat_df = pd.concat([df1, df2])\n",
    "print(\"concat_df shape:\", concat_df.shape)\n",
    "concat_df.head()"
   ]
  },
  {
   "cell_type": "markdown",
   "id": "b09d6a59-f845-4130-80ac-4d9aef3a6256",
   "metadata": {},
   "source": [
    "### Saving a DataFrame as a CSV"
   ]
  },
  {
   "cell_type": "markdown",
   "id": "50828be2-2b28-420f-b7ed-f7e59ff7ca5b",
   "metadata": {},
   "source": [
    "Once you’ve cleaned all your data and gotten the DataFrame to show everything you want it to show, it’s time to save the DataFrame as a new CSV file using the to_csv method. First, let's load up the `mexico-city-real-estate-1` dataset, and use head to see the first five rows of data:"
   ]
  },
  {
   "cell_type": "code",
   "execution_count": 70,
   "id": "d9b82946-868d-4049-bb9e-43ebdd0de772",
   "metadata": {},
   "outputs": [
    {
     "data": {
      "text/html": [
       "<div>\n",
       "<style scoped>\n",
       "    .dataframe tbody tr th:only-of-type {\n",
       "        vertical-align: middle;\n",
       "    }\n",
       "\n",
       "    .dataframe tbody tr th {\n",
       "        vertical-align: top;\n",
       "    }\n",
       "\n",
       "    .dataframe thead th {\n",
       "        text-align: right;\n",
       "    }\n",
       "</style>\n",
       "<table border=\"1\" class=\"dataframe\">\n",
       "  <thead>\n",
       "    <tr style=\"text-align: right;\">\n",
       "      <th></th>\n",
       "      <th>property_type</th>\n",
       "      <th>department</th>\n",
       "      <th>lat-lon</th>\n",
       "      <th>area_m2</th>\n",
       "      <th>price_usd</th>\n",
       "    </tr>\n",
       "  </thead>\n",
       "  <tbody>\n",
       "    <tr>\n",
       "      <th>0</th>\n",
       "      <td>house</td>\n",
       "      <td>A</td>\n",
       "      <td>4.69,-74.048</td>\n",
       "      <td>187.0</td>\n",
       "      <td>330899.98</td>\n",
       "    </tr>\n",
       "    <tr>\n",
       "      <th>1</th>\n",
       "      <td>house</td>\n",
       "      <td>C</td>\n",
       "      <td>4.695,-74.082</td>\n",
       "      <td>82.0</td>\n",
       "      <td>121555.09</td>\n",
       "    </tr>\n",
       "    <tr>\n",
       "      <th>2</th>\n",
       "      <td>house</td>\n",
       "      <td>A</td>\n",
       "      <td>4.535,-75.676</td>\n",
       "      <td>235.0</td>\n",
       "      <td>219474.47</td>\n",
       "    </tr>\n",
       "    <tr>\n",
       "      <th>3</th>\n",
       "      <td>house</td>\n",
       "      <td>C</td>\n",
       "      <td>4.62,-74.129</td>\n",
       "      <td>195.0</td>\n",
       "      <td>97919.38</td>\n",
       "    </tr>\n",
       "    <tr>\n",
       "      <th>4</th>\n",
       "      <td>house</td>\n",
       "      <td>C</td>\n",
       "      <td>4.62,123.23</td>\n",
       "      <td>NaN</td>\n",
       "      <td>97919.38</td>\n",
       "    </tr>\n",
       "    <tr>\n",
       "      <th>0</th>\n",
       "      <td>house</td>\n",
       "      <td>A</td>\n",
       "      <td>4.69,-74.048</td>\n",
       "      <td>187.0</td>\n",
       "      <td>330899.98</td>\n",
       "    </tr>\n",
       "    <tr>\n",
       "      <th>1</th>\n",
       "      <td>house</td>\n",
       "      <td>C</td>\n",
       "      <td>4.695,-74.082</td>\n",
       "      <td>82.0</td>\n",
       "      <td>121555.09</td>\n",
       "    </tr>\n",
       "    <tr>\n",
       "      <th>2</th>\n",
       "      <td>house</td>\n",
       "      <td>A</td>\n",
       "      <td>4.535,-75.676</td>\n",
       "      <td>235.0</td>\n",
       "      <td>219474.47</td>\n",
       "    </tr>\n",
       "    <tr>\n",
       "      <th>3</th>\n",
       "      <td>house</td>\n",
       "      <td>C</td>\n",
       "      <td>4.62,-74.129</td>\n",
       "      <td>195.0</td>\n",
       "      <td>97919.38</td>\n",
       "    </tr>\n",
       "    <tr>\n",
       "      <th>4</th>\n",
       "      <td>house</td>\n",
       "      <td>C</td>\n",
       "      <td>4.62,123.23</td>\n",
       "      <td>NaN</td>\n",
       "      <td>97919.38</td>\n",
       "    </tr>\n",
       "  </tbody>\n",
       "</table>\n",
       "</div>"
      ],
      "text/plain": [
       "  property_type department        lat-lon  area_m2  price_usd\n",
       "0         house          A   4.69,-74.048    187.0  330899.98\n",
       "1         house          C  4.695,-74.082     82.0  121555.09\n",
       "2         house          A  4.535,-75.676    235.0  219474.47\n",
       "3         house          C   4.62,-74.129    195.0   97919.38\n",
       "4         house          C    4.62,123.23      NaN   97919.38\n",
       "0         house          A   4.69,-74.048    187.0  330899.98\n",
       "1         house          C  4.695,-74.082     82.0  121555.09\n",
       "2         house          A  4.535,-75.676    235.0  219474.47\n",
       "3         house          C   4.62,-74.129    195.0   97919.38\n",
       "4         house          C    4.62,123.23      NaN   97919.38"
      ]
     },
     "execution_count": 70,
     "metadata": {},
     "output_type": "execute_result"
    }
   ],
   "source": [
    "concat_df"
   ]
  },
  {
   "cell_type": "code",
   "execution_count": 71,
   "id": "dede9705-677f-4780-be31-f8ba684bb13b",
   "metadata": {},
   "outputs": [],
   "source": [
    "concat_df.to_csv(\"data/concat_2Series.csv\", index = False)"
   ]
  },
  {
   "cell_type": "code",
   "execution_count": null,
   "id": "7ee49858-8fc4-4d5c-8427-b0c323368b47",
   "metadata": {},
   "outputs": [],
   "source": []
  },
  {
   "cell_type": "code",
   "execution_count": null,
   "id": "0915dfb3-a6a6-4789-bd4a-bf3467a0a364",
   "metadata": {},
   "outputs": [],
   "source": []
  },
  {
   "cell_type": "code",
   "execution_count": null,
   "id": "cd4efcac-087f-4f9e-8104-676691b271e5",
   "metadata": {},
   "outputs": [],
   "source": []
  },
  {
   "cell_type": "code",
   "execution_count": null,
   "id": "8baf0dd9-dab6-4e0a-b694-02dbb674eb75",
   "metadata": {},
   "outputs": [],
   "source": []
  },
  {
   "cell_type": "code",
   "execution_count": null,
   "id": "7fdfaf9d-9761-43ec-b559-a1e96be56d99",
   "metadata": {},
   "outputs": [],
   "source": []
  },
  {
   "cell_type": "code",
   "execution_count": null,
   "id": "3689512a-d4f1-4568-a2e3-a63fbd1ec083",
   "metadata": {},
   "outputs": [],
   "source": []
  }
 ],
 "metadata": {
  "kernelspec": {
   "display_name": "Python 3.9(Quant)",
   "language": "python",
   "name": "quant"
  },
  "language_info": {
   "codemirror_mode": {
    "name": "ipython",
    "version": 3
   },
   "file_extension": ".py",
   "mimetype": "text/x-python",
   "name": "python",
   "nbconvert_exporter": "python",
   "pygments_lexer": "ipython3",
   "version": "3.9.19"
  }
 },
 "nbformat": 4,
 "nbformat_minor": 5
}
