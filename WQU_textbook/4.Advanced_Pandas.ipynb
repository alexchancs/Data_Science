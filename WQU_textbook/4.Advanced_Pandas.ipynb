{
 "cells": [
  {
   "cell_type": "markdown",
   "id": "19080af7-5b16-4684-ad7c-b8ae90ba9028",
   "metadata": {},
   "source": [
    "### Calculate Summary Statistics for a DataFrame or Series"
   ]
  },
  {
   "cell_type": "code",
   "execution_count": 2,
   "id": "786a000d-9b43-461e-86a8-aa26765f5ae4",
   "metadata": {},
   "outputs": [
    {
     "data": {
      "text/html": [
       "<div>\n",
       "<style scoped>\n",
       "    .dataframe tbody tr th:only-of-type {\n",
       "        vertical-align: middle;\n",
       "    }\n",
       "\n",
       "    .dataframe tbody tr th {\n",
       "        vertical-align: top;\n",
       "    }\n",
       "\n",
       "    .dataframe thead th {\n",
       "        text-align: right;\n",
       "    }\n",
       "</style>\n",
       "<table border=\"1\" class=\"dataframe\">\n",
       "  <thead>\n",
       "    <tr style=\"text-align: right;\">\n",
       "      <th></th>\n",
       "      <th>property_type</th>\n",
       "      <th>department</th>\n",
       "      <th>lat-lon</th>\n",
       "      <th>area_m2</th>\n",
       "      <th>price_usd</th>\n",
       "    </tr>\n",
       "  </thead>\n",
       "  <tbody>\n",
       "    <tr>\n",
       "      <th>0</th>\n",
       "      <td>house</td>\n",
       "      <td>A</td>\n",
       "      <td>4.69,-74.048</td>\n",
       "      <td>187.0</td>\n",
       "      <td>330899.98</td>\n",
       "    </tr>\n",
       "    <tr>\n",
       "      <th>1</th>\n",
       "      <td>house</td>\n",
       "      <td>C</td>\n",
       "      <td>4.695,-74.082</td>\n",
       "      <td>82.0</td>\n",
       "      <td>121555.09</td>\n",
       "    </tr>\n",
       "    <tr>\n",
       "      <th>2</th>\n",
       "      <td>house</td>\n",
       "      <td>A</td>\n",
       "      <td>4.535,-75.676</td>\n",
       "      <td>235.0</td>\n",
       "      <td>219474.47</td>\n",
       "    </tr>\n",
       "    <tr>\n",
       "      <th>3</th>\n",
       "      <td>house</td>\n",
       "      <td>C</td>\n",
       "      <td>4.62,-74.129</td>\n",
       "      <td>195.0</td>\n",
       "      <td>97919.38</td>\n",
       "    </tr>\n",
       "    <tr>\n",
       "      <th>4</th>\n",
       "      <td>house</td>\n",
       "      <td>C</td>\n",
       "      <td>4.62,123.23</td>\n",
       "      <td>NaN</td>\n",
       "      <td>97919.38</td>\n",
       "    </tr>\n",
       "  </tbody>\n",
       "</table>\n",
       "</div>"
      ],
      "text/plain": [
       "  property_type department        lat-lon  area_m2  price_usd\n",
       "0         house          A   4.69,-74.048    187.0  330899.98\n",
       "1         house          C  4.695,-74.082     82.0  121555.09\n",
       "2         house          A  4.535,-75.676    235.0  219474.47\n",
       "3         house          C   4.62,-74.129    195.0   97919.38\n",
       "4         house          C    4.62,123.23      NaN   97919.38"
      ]
     },
     "execution_count": 2,
     "metadata": {},
     "output_type": "execute_result"
    }
   ],
   "source": [
    "import pandas as pd\n",
    "\n",
    "mexico_city1 = pd.read_csv(\"../data/mexico-city-real-estate-1.csv\")\n",
    "mexico_city1.head()"
   ]
  },
  {
   "cell_type": "code",
   "execution_count": 7,
   "id": "d2e04e1a-a503-40aa-a536-9eb808862d64",
   "metadata": {},
   "outputs": [
    {
     "data": {
      "text/html": [
       "<div>\n",
       "<style scoped>\n",
       "    .dataframe tbody tr th:only-of-type {\n",
       "        vertical-align: middle;\n",
       "    }\n",
       "\n",
       "    .dataframe tbody tr th {\n",
       "        vertical-align: top;\n",
       "    }\n",
       "\n",
       "    .dataframe thead th {\n",
       "        text-align: right;\n",
       "    }\n",
       "</style>\n",
       "<table border=\"1\" class=\"dataframe\">\n",
       "  <thead>\n",
       "    <tr style=\"text-align: right;\">\n",
       "      <th></th>\n",
       "      <th>area_m2</th>\n",
       "      <th>price_usd</th>\n",
       "    </tr>\n",
       "  </thead>\n",
       "  <tbody>\n",
       "    <tr>\n",
       "      <th>count</th>\n",
       "      <td>4.000000</td>\n",
       "      <td>4.000000</td>\n",
       "    </tr>\n",
       "    <tr>\n",
       "      <th>mean</th>\n",
       "      <td>174.750000</td>\n",
       "      <td>192462.230000</td>\n",
       "    </tr>\n",
       "    <tr>\n",
       "      <th>std</th>\n",
       "      <td>65.301225</td>\n",
       "      <td>106240.050082</td>\n",
       "    </tr>\n",
       "    <tr>\n",
       "      <th>min</th>\n",
       "      <td>82.000000</td>\n",
       "      <td>97919.380000</td>\n",
       "    </tr>\n",
       "    <tr>\n",
       "      <th>25%</th>\n",
       "      <td>160.750000</td>\n",
       "      <td>115646.162500</td>\n",
       "    </tr>\n",
       "    <tr>\n",
       "      <th>50%</th>\n",
       "      <td>191.000000</td>\n",
       "      <td>170514.780000</td>\n",
       "    </tr>\n",
       "    <tr>\n",
       "      <th>75%</th>\n",
       "      <td>205.000000</td>\n",
       "      <td>247330.847500</td>\n",
       "    </tr>\n",
       "    <tr>\n",
       "      <th>max</th>\n",
       "      <td>235.000000</td>\n",
       "      <td>330899.980000</td>\n",
       "    </tr>\n",
       "  </tbody>\n",
       "</table>\n",
       "</div>"
      ],
      "text/plain": [
       "          area_m2      price_usd\n",
       "count    4.000000       4.000000\n",
       "mean   174.750000  192462.230000\n",
       "std     65.301225  106240.050082\n",
       "min     82.000000   97919.380000\n",
       "25%    160.750000  115646.162500\n",
       "50%    191.000000  170514.780000\n",
       "75%    205.000000  247330.847500\n",
       "max    235.000000  330899.980000"
      ]
     },
     "execution_count": 7,
     "metadata": {},
     "output_type": "execute_result"
    }
   ],
   "source": [
    "mexico_city1.describe()"
   ]
  },
  {
   "cell_type": "markdown",
   "id": "a73ffb29-9959-49df-aba1-3e1fa068e8e2",
   "metadata": {},
   "source": [
    "Like most large datasets, this one has many values which are missing. The describe function will ignore missing values in each column. You can also remove rows and columns with missing values, and then get a summary of the data that's still there. We need to remove columns first, before removing the rows; the sequence of operations here is important. The code looks like this:"
   ]
  },
  {
   "cell_type": "code",
   "execution_count": 4,
   "id": "0776678f-2f36-49ae-a435-dea1d1c03d7f",
   "metadata": {},
   "outputs": [
    {
     "data": {
      "text/html": [
       "<div>\n",
       "<style scoped>\n",
       "    .dataframe tbody tr th:only-of-type {\n",
       "        vertical-align: middle;\n",
       "    }\n",
       "\n",
       "    .dataframe tbody tr th {\n",
       "        vertical-align: top;\n",
       "    }\n",
       "\n",
       "    .dataframe thead th {\n",
       "        text-align: right;\n",
       "    }\n",
       "</style>\n",
       "<table border=\"1\" class=\"dataframe\">\n",
       "  <thead>\n",
       "    <tr style=\"text-align: right;\">\n",
       "      <th></th>\n",
       "      <th>property_type</th>\n",
       "      <th>lat-lon</th>\n",
       "      <th>area_m2</th>\n",
       "      <th>price_usd</th>\n",
       "    </tr>\n",
       "  </thead>\n",
       "  <tbody>\n",
       "    <tr>\n",
       "      <th>0</th>\n",
       "      <td>house</td>\n",
       "      <td>4.69,-74.048</td>\n",
       "      <td>187.0</td>\n",
       "      <td>330899.98</td>\n",
       "    </tr>\n",
       "    <tr>\n",
       "      <th>1</th>\n",
       "      <td>house</td>\n",
       "      <td>4.695,-74.082</td>\n",
       "      <td>82.0</td>\n",
       "      <td>121555.09</td>\n",
       "    </tr>\n",
       "    <tr>\n",
       "      <th>2</th>\n",
       "      <td>house</td>\n",
       "      <td>4.535,-75.676</td>\n",
       "      <td>235.0</td>\n",
       "      <td>219474.47</td>\n",
       "    </tr>\n",
       "    <tr>\n",
       "      <th>3</th>\n",
       "      <td>house</td>\n",
       "      <td>4.62,-74.129</td>\n",
       "      <td>195.0</td>\n",
       "      <td>97919.38</td>\n",
       "    </tr>\n",
       "  </tbody>\n",
       "</table>\n",
       "</div>"
      ],
      "text/plain": [
       "  property_type        lat-lon  area_m2  price_usd\n",
       "0         house   4.69,-74.048    187.0  330899.98\n",
       "1         house  4.695,-74.082     82.0  121555.09\n",
       "2         house  4.535,-75.676    235.0  219474.47\n",
       "3         house   4.62,-74.129    195.0   97919.38"
      ]
     },
     "execution_count": 4,
     "metadata": {},
     "output_type": "execute_result"
    }
   ],
   "source": [
    "mexico_city1 = mexico_city1.drop([\"department\"], axis=1)\n",
    "mexico_city1 = mexico_city1.dropna(axis=0)\n",
    "mexico_city1.head()"
   ]
  },
  {
   "cell_type": "code",
   "execution_count": 5,
   "id": "9093daaa-be8f-461d-bb20-1e6b8377a1a4",
   "metadata": {},
   "outputs": [
    {
     "data": {
      "text/html": [
       "<div>\n",
       "<style scoped>\n",
       "    .dataframe tbody tr th:only-of-type {\n",
       "        vertical-align: middle;\n",
       "    }\n",
       "\n",
       "    .dataframe tbody tr th {\n",
       "        vertical-align: top;\n",
       "    }\n",
       "\n",
       "    .dataframe thead th {\n",
       "        text-align: right;\n",
       "    }\n",
       "</style>\n",
       "<table border=\"1\" class=\"dataframe\">\n",
       "  <thead>\n",
       "    <tr style=\"text-align: right;\">\n",
       "      <th></th>\n",
       "      <th>area_m2</th>\n",
       "      <th>price_usd</th>\n",
       "    </tr>\n",
       "  </thead>\n",
       "  <tbody>\n",
       "    <tr>\n",
       "      <th>count</th>\n",
       "      <td>4.000000</td>\n",
       "      <td>4.000000</td>\n",
       "    </tr>\n",
       "    <tr>\n",
       "      <th>mean</th>\n",
       "      <td>174.750000</td>\n",
       "      <td>192462.230000</td>\n",
       "    </tr>\n",
       "    <tr>\n",
       "      <th>std</th>\n",
       "      <td>65.301225</td>\n",
       "      <td>106240.050082</td>\n",
       "    </tr>\n",
       "    <tr>\n",
       "      <th>min</th>\n",
       "      <td>82.000000</td>\n",
       "      <td>97919.380000</td>\n",
       "    </tr>\n",
       "    <tr>\n",
       "      <th>25%</th>\n",
       "      <td>160.750000</td>\n",
       "      <td>115646.162500</td>\n",
       "    </tr>\n",
       "    <tr>\n",
       "      <th>50%</th>\n",
       "      <td>191.000000</td>\n",
       "      <td>170514.780000</td>\n",
       "    </tr>\n",
       "    <tr>\n",
       "      <th>75%</th>\n",
       "      <td>205.000000</td>\n",
       "      <td>247330.847500</td>\n",
       "    </tr>\n",
       "    <tr>\n",
       "      <th>max</th>\n",
       "      <td>235.000000</td>\n",
       "      <td>330899.980000</td>\n",
       "    </tr>\n",
       "  </tbody>\n",
       "</table>\n",
       "</div>"
      ],
      "text/plain": [
       "          area_m2      price_usd\n",
       "count    4.000000       4.000000\n",
       "mean   174.750000  192462.230000\n",
       "std     65.301225  106240.050082\n",
       "min     82.000000   97919.380000\n",
       "25%    160.750000  115646.162500\n",
       "50%    191.000000  170514.780000\n",
       "75%    205.000000  247330.847500\n",
       "max    235.000000  330899.980000"
      ]
     },
     "execution_count": 5,
     "metadata": {},
     "output_type": "execute_result"
    }
   ],
   "source": [
    "mexico_city1.describe()"
   ]
  },
  {
   "cell_type": "markdown",
   "id": "ec1fad03-1eb9-4f39-9fee-339eef0ef5ba",
   "metadata": {},
   "source": [
    "### Select a Series from a DataFrame"
   ]
  },
  {
   "cell_type": "markdown",
   "id": "b5e3cdf6-5d34-419c-8248-3443e5a88c5e",
   "metadata": {},
   "source": [
    "Since the datasets we work with are so large, you might want to focus on a single column of a DataFrame. Let's load up the mexico-city-real-estate-2 dataset, and examine the first few rows to find the column names."
   ]
  },
  {
   "cell_type": "code",
   "execution_count": 9,
   "id": "514664b9-d0fb-4ad2-bdfa-5bf16128c94e",
   "metadata": {},
   "outputs": [
    {
     "data": {
      "text/html": [
       "<div>\n",
       "<style scoped>\n",
       "    .dataframe tbody tr th:only-of-type {\n",
       "        vertical-align: middle;\n",
       "    }\n",
       "\n",
       "    .dataframe tbody tr th {\n",
       "        vertical-align: top;\n",
       "    }\n",
       "\n",
       "    .dataframe thead th {\n",
       "        text-align: right;\n",
       "    }\n",
       "</style>\n",
       "<table border=\"1\" class=\"dataframe\">\n",
       "  <thead>\n",
       "    <tr style=\"text-align: right;\">\n",
       "      <th></th>\n",
       "      <th>property_type</th>\n",
       "      <th>department</th>\n",
       "      <th>lat-lon</th>\n",
       "      <th>area_m2</th>\n",
       "      <th>price_usd</th>\n",
       "    </tr>\n",
       "  </thead>\n",
       "  <tbody>\n",
       "    <tr>\n",
       "      <th>0</th>\n",
       "      <td>house</td>\n",
       "      <td>A</td>\n",
       "      <td>4.69,-74.048</td>\n",
       "      <td>187.0</td>\n",
       "      <td>330899.98</td>\n",
       "    </tr>\n",
       "    <tr>\n",
       "      <th>1</th>\n",
       "      <td>house</td>\n",
       "      <td>C</td>\n",
       "      <td>4.695,-74.082</td>\n",
       "      <td>82.0</td>\n",
       "      <td>121555.09</td>\n",
       "    </tr>\n",
       "    <tr>\n",
       "      <th>2</th>\n",
       "      <td>house</td>\n",
       "      <td>A</td>\n",
       "      <td>4.535,-75.676</td>\n",
       "      <td>235.0</td>\n",
       "      <td>219474.47</td>\n",
       "    </tr>\n",
       "    <tr>\n",
       "      <th>3</th>\n",
       "      <td>house</td>\n",
       "      <td>C</td>\n",
       "      <td>4.62,-74.129</td>\n",
       "      <td>195.0</td>\n",
       "      <td>97919.38</td>\n",
       "    </tr>\n",
       "    <tr>\n",
       "      <th>4</th>\n",
       "      <td>house</td>\n",
       "      <td>C</td>\n",
       "      <td>4.62,123.23</td>\n",
       "      <td>NaN</td>\n",
       "      <td>97919.38</td>\n",
       "    </tr>\n",
       "  </tbody>\n",
       "</table>\n",
       "</div>"
      ],
      "text/plain": [
       "  property_type department        lat-lon  area_m2  price_usd\n",
       "0         house          A   4.69,-74.048    187.0  330899.98\n",
       "1         house          C  4.695,-74.082     82.0  121555.09\n",
       "2         house          A  4.535,-75.676    235.0  219474.47\n",
       "3         house          C   4.62,-74.129    195.0   97919.38\n",
       "4         house          C    4.62,123.23      NaN   97919.38"
      ]
     },
     "execution_count": 9,
     "metadata": {},
     "output_type": "execute_result"
    }
   ],
   "source": [
    "mexico_city2 = pd.read_csv(\"../data/mexico-city-real-estate-2.csv\")\n",
    "mexico_city2.head()"
   ]
  },
  {
   "cell_type": "code",
   "execution_count": 10,
   "id": "6e63b9bb-f0d7-4d4c-b269-f5cffb1c14ad",
   "metadata": {},
   "outputs": [
    {
     "name": "stdout",
     "output_type": "stream",
     "text": [
      "0    330899.98\n",
      "1    121555.09\n",
      "2    219474.47\n",
      "3     97919.38\n",
      "4     97919.38\n",
      "Name: price_usd, dtype: float64\n"
     ]
    }
   ],
   "source": [
    "price = mexico_city2[\"price_usd\"]\n",
    "print(price)"
   ]
  },
  {
   "cell_type": "code",
   "execution_count": 9,
   "id": "a3b230c6-62b0-4a04-94b1-3cf08063926d",
   "metadata": {},
   "outputs": [
    {
     "data": {
      "text/html": [
       "<div>\n",
       "<style scoped>\n",
       "    .dataframe tbody tr th:only-of-type {\n",
       "        vertical-align: middle;\n",
       "    }\n",
       "\n",
       "    .dataframe tbody tr th {\n",
       "        vertical-align: top;\n",
       "    }\n",
       "\n",
       "    .dataframe thead th {\n",
       "        text-align: right;\n",
       "    }\n",
       "</style>\n",
       "<table border=\"1\" class=\"dataframe\">\n",
       "  <thead>\n",
       "    <tr style=\"text-align: right;\">\n",
       "      <th></th>\n",
       "      <th>area_m2</th>\n",
       "      <th>price_usd</th>\n",
       "    </tr>\n",
       "  </thead>\n",
       "  <tbody>\n",
       "    <tr>\n",
       "      <th>0</th>\n",
       "      <td>187.0</td>\n",
       "      <td>330899.98</td>\n",
       "    </tr>\n",
       "    <tr>\n",
       "      <th>1</th>\n",
       "      <td>82.0</td>\n",
       "      <td>121555.09</td>\n",
       "    </tr>\n",
       "    <tr>\n",
       "      <th>2</th>\n",
       "      <td>235.0</td>\n",
       "      <td>219474.47</td>\n",
       "    </tr>\n",
       "    <tr>\n",
       "      <th>3</th>\n",
       "      <td>195.0</td>\n",
       "      <td>97919.38</td>\n",
       "    </tr>\n",
       "    <tr>\n",
       "      <th>4</th>\n",
       "      <td>NaN</td>\n",
       "      <td>97919.38</td>\n",
       "    </tr>\n",
       "  </tbody>\n",
       "</table>\n",
       "</div>"
      ],
      "text/plain": [
       "   area_m2  price_usd\n",
       "0    187.0  330899.98\n",
       "1     82.0  121555.09\n",
       "2    235.0  219474.47\n",
       "3    195.0   97919.38\n",
       "4      NaN   97919.38"
      ]
     },
     "execution_count": 9,
     "metadata": {},
     "output_type": "execute_result"
    }
   ],
   "source": [
    "mexico_city_number = mexico_city2.select_dtypes(include = \"number\")\n",
    "mexico_city_number.head()"
   ]
  },
  {
   "cell_type": "markdown",
   "id": "67cd9df3-0724-4872-ba30-b4151ee03623",
   "metadata": {},
   "source": [
    "### Working with value_counts in a Series"
   ]
  },
  {
   "cell_type": "markdown",
   "id": "06c4446f-d2f8-448c-b0c0-39cec26fd238",
   "metadata": {},
   "source": [
    "In order to use the data in a series for other types of analysis, it might be helpful to know how often each value occurs in the Series. To do that, we use the value_counts method to aggregate the data. Let's take a look at the number of properties associated with each department in the `mexico-city-real-estate-1` dataset."
   ]
  },
  {
   "cell_type": "code",
   "execution_count": 12,
   "id": "a0fb4f3b-9140-40cc-8d21-4234eff0cba0",
   "metadata": {},
   "outputs": [
    {
     "data": {
      "text/plain": [
       "department\n",
       "C    3\n",
       "A    2\n",
       "Name: count, dtype: int64"
      ]
     },
     "execution_count": 12,
     "metadata": {},
     "output_type": "execute_result"
    }
   ],
   "source": [
    "df1 = pd.read_csv(\"../data/mexico-city-real-estate-1.csv\", usecols=[\"department\"])\n",
    "df1[\"department\"].value_counts()"
   ]
  },
  {
   "cell_type": "markdown",
   "id": "9ac5ffde-f850-4014-8161-74ab9fc2ea92",
   "metadata": {},
   "source": [
    "### Series and `Groupby`"
   ]
  },
  {
   "cell_type": "markdown",
   "id": "e232cf90-84dd-43e8-a258-68ca69b9fd66",
   "metadata": {},
   "source": [
    "Large Series often include data points that have some attribute in common, but which are nevertheless not grouped together in the dataset. Happily, pandas has a method that will bring these data points together into groups.\n",
    "\n",
    "Let's take a look at the `mexico-city-real-estate-1` dataset. The set includes properties scattered across Colombia, so it might be useful to group properties from the same department together; to do this, we'll use the groupby method. The code looks like this"
   ]
  },
  {
   "cell_type": "code",
   "execution_count": 13,
   "id": "cf10604d-16f5-4500-8b50-c8991f063a25",
   "metadata": {},
   "outputs": [],
   "source": [
    "dept_group = df1.groupby(\"department\")"
   ]
  },
  {
   "cell_type": "code",
   "execution_count": 14,
   "id": "9e77b6f4-4370-410d-9e7a-897d87d469fa",
   "metadata": {},
   "outputs": [
    {
     "data": {
      "text/html": [
       "<div>\n",
       "<style scoped>\n",
       "    .dataframe tbody tr th:only-of-type {\n",
       "        vertical-align: middle;\n",
       "    }\n",
       "\n",
       "    .dataframe tbody tr th {\n",
       "        vertical-align: top;\n",
       "    }\n",
       "\n",
       "    .dataframe thead th {\n",
       "        text-align: right;\n",
       "    }\n",
       "</style>\n",
       "<table border=\"1\" class=\"dataframe\">\n",
       "  <thead>\n",
       "    <tr style=\"text-align: right;\">\n",
       "      <th></th>\n",
       "    </tr>\n",
       "    <tr>\n",
       "      <th>department</th>\n",
       "    </tr>\n",
       "  </thead>\n",
       "  <tbody>\n",
       "    <tr>\n",
       "      <th>A</th>\n",
       "    </tr>\n",
       "    <tr>\n",
       "      <th>C</th>\n",
       "    </tr>\n",
       "  </tbody>\n",
       "</table>\n",
       "</div>"
      ],
      "text/plain": [
       "Empty DataFrame\n",
       "Columns: []\n",
       "Index: [A, C]"
      ]
     },
     "execution_count": 14,
     "metadata": {},
     "output_type": "execute_result"
    }
   ],
   "source": [
    "dept_group.first()"
   ]
  },
  {
   "cell_type": "markdown",
   "id": "6d8c2bf7-1724-4eed-bb35-6e3d39c287e7",
   "metadata": {},
   "source": [
    "Now that we have all the properties grouped by department, we might want to see the properties in just one of the departments. We can use the get_group method to do that. If we just wanted to see the properties in \"A\", for example, the code would look like this:"
   ]
  },
  {
   "cell_type": "code",
   "execution_count": 15,
   "id": "9ce101ba-1305-4df5-aef7-e68ad8814b9b",
   "metadata": {},
   "outputs": [
    {
     "data": {
      "text/html": [
       "<div>\n",
       "<style scoped>\n",
       "    .dataframe tbody tr th:only-of-type {\n",
       "        vertical-align: middle;\n",
       "    }\n",
       "\n",
       "    .dataframe tbody tr th {\n",
       "        vertical-align: top;\n",
       "    }\n",
       "\n",
       "    .dataframe thead th {\n",
       "        text-align: right;\n",
       "    }\n",
       "</style>\n",
       "<table border=\"1\" class=\"dataframe\">\n",
       "  <thead>\n",
       "    <tr style=\"text-align: right;\">\n",
       "      <th></th>\n",
       "      <th>department</th>\n",
       "    </tr>\n",
       "  </thead>\n",
       "  <tbody>\n",
       "    <tr>\n",
       "      <th>0</th>\n",
       "      <td>A</td>\n",
       "    </tr>\n",
       "    <tr>\n",
       "      <th>2</th>\n",
       "      <td>A</td>\n",
       "    </tr>\n",
       "  </tbody>\n",
       "</table>\n",
       "</div>"
      ],
      "text/plain": [
       "  department\n",
       "0          A\n",
       "2          A"
      ]
     },
     "execution_count": 15,
     "metadata": {},
     "output_type": "execute_result"
    }
   ],
   "source": [
    "dept_group = df1.groupby(\"department\")\n",
    "dept_group.get_group(\"A\")"
   ]
  },
  {
   "cell_type": "markdown",
   "id": "d689e138-09ce-4117-bfd9-c392db62c938",
   "metadata": {},
   "source": [
    "We can also make groups based on more than one category by adding them to the groupby method. After resetting the df1 DataFrame, here's what the code looks like if we want to group properties both by department and by property_type."
   ]
  },
  {
   "cell_type": "code",
   "execution_count": 18,
   "id": "0d3f6df1-4a4d-4ded-9c95-6e82a5c65d2b",
   "metadata": {},
   "outputs": [
    {
     "data": {
      "text/html": [
       "<div>\n",
       "<style scoped>\n",
       "    .dataframe tbody tr th:only-of-type {\n",
       "        vertical-align: middle;\n",
       "    }\n",
       "\n",
       "    .dataframe tbody tr th {\n",
       "        vertical-align: top;\n",
       "    }\n",
       "\n",
       "    .dataframe thead th {\n",
       "        text-align: right;\n",
       "    }\n",
       "</style>\n",
       "<table border=\"1\" class=\"dataframe\">\n",
       "  <thead>\n",
       "    <tr style=\"text-align: right;\">\n",
       "      <th></th>\n",
       "      <th></th>\n",
       "      <th>lat-lon</th>\n",
       "      <th>area_m2</th>\n",
       "      <th>price_usd</th>\n",
       "    </tr>\n",
       "    <tr>\n",
       "      <th>department</th>\n",
       "      <th>property_type</th>\n",
       "      <th></th>\n",
       "      <th></th>\n",
       "      <th></th>\n",
       "    </tr>\n",
       "  </thead>\n",
       "  <tbody>\n",
       "    <tr>\n",
       "      <th>A</th>\n",
       "      <th>house</th>\n",
       "      <td>4.69,-74.048</td>\n",
       "      <td>187.0</td>\n",
       "      <td>330899.98</td>\n",
       "    </tr>\n",
       "    <tr>\n",
       "      <th>C</th>\n",
       "      <th>house</th>\n",
       "      <td>4.695,-74.082</td>\n",
       "      <td>82.0</td>\n",
       "      <td>121555.09</td>\n",
       "    </tr>\n",
       "  </tbody>\n",
       "</table>\n",
       "</div>"
      ],
      "text/plain": [
       "                                lat-lon  area_m2  price_usd\n",
       "department property_type                                   \n",
       "A          house           4.69,-74.048    187.0  330899.98\n",
       "C          house          4.695,-74.082     82.0  121555.09"
      ]
     },
     "execution_count": 18,
     "metadata": {},
     "output_type": "execute_result"
    }
   ],
   "source": [
    "df1 = pd.read_csv(\"../data/mexico-city-real-estate-2.csv\")\n",
    "dept_group2 = df1.groupby([\"department\", \"property_type\"])\n",
    "dept_group2.first()"
   ]
  },
  {
   "cell_type": "markdown",
   "id": "8a47e09c-df5c-468b-b4c1-333c7cab877c",
   "metadata": {},
   "source": [
    "Finally, it's possible to use `groupby` to calculate aggregations. For example, if we wanted to find the average property area in each department, we would use the `.mean()` method. This is what the code for that looks like:"
   ]
  },
  {
   "cell_type": "markdown",
   "id": "b6351583-4313-45bf-ae14-2a6fba903be3",
   "metadata": {},
   "source": [
    "### Pivot Tables"
   ]
  },
  {
   "cell_type": "markdown",
   "id": "72f9a2b0-db96-46c2-ac86-5bffdb4dd2b4",
   "metadata": {},
   "source": [
    "A pivot table allows us to aggregate and summarize a DataFrame across multiple variables. For example, let's suppose we wanted to calculate the mean of the price column in the `mexico_city1` dataset for the different values in the `property_type` column:"
   ]
  },
  {
   "cell_type": "code",
   "execution_count": 20,
   "id": "7e72cbd9-2211-47a4-bfe2-3e5361489d54",
   "metadata": {},
   "outputs": [
    {
     "data": {
      "text/html": [
       "<div>\n",
       "<style scoped>\n",
       "    .dataframe tbody tr th:only-of-type {\n",
       "        vertical-align: middle;\n",
       "    }\n",
       "\n",
       "    .dataframe tbody tr th {\n",
       "        vertical-align: top;\n",
       "    }\n",
       "\n",
       "    .dataframe thead th {\n",
       "        text-align: right;\n",
       "    }\n",
       "</style>\n",
       "<table border=\"1\" class=\"dataframe\">\n",
       "  <thead>\n",
       "    <tr style=\"text-align: right;\">\n",
       "      <th></th>\n",
       "      <th>price_usd</th>\n",
       "    </tr>\n",
       "    <tr>\n",
       "      <th>property_type</th>\n",
       "      <th></th>\n",
       "    </tr>\n",
       "  </thead>\n",
       "  <tbody>\n",
       "    <tr>\n",
       "      <th>house</th>\n",
       "      <td>173553.66</td>\n",
       "    </tr>\n",
       "  </tbody>\n",
       "</table>\n",
       "</div>"
      ],
      "text/plain": [
       "               price_usd\n",
       "property_type           \n",
       "house          173553.66"
      ]
     },
     "execution_count": 20,
     "metadata": {},
     "output_type": "execute_result"
    }
   ],
   "source": [
    "import numpy as np\n",
    "df = pd.read_csv('../data/mexico-city-real-estate-1.csv')\n",
    "mexico_city1_pivot = df.pivot_table(values='price_usd', index = 'property_type', aggfunc = 'mean')\n",
    "mexico_city1_pivot"
   ]
  },
  {
   "cell_type": "markdown",
   "id": "cba3424a-3c0d-4160-92a9-f2c7f3a82217",
   "metadata": {},
   "source": [
    "### Subsetting with Masks"
   ]
  },
  {
   "cell_type": "markdown",
   "id": "502f38e2-c1a7-4806-833e-0827b52b0a5a",
   "metadata": {},
   "source": [
    "Another way to create subsets from a larger dataset is through masking. Masks are ways to filter out the data you're not interested in so that you can focus on the data you are. For example, we might want to look at properties in Colombia that are bigger than 200 square meters. In order to create this subset, we'll need to use a mask.\n",
    "\n",
    "First, we'll reset our `df1` DataFrame so that we can draw on all the data in its original form. Then we'll create a statement and then assign the result to `mask`."
   ]
  },
  {
   "cell_type": "code",
   "execution_count": 20,
   "id": "e012bcde-c6dd-4503-9df9-ec8694cb396d",
   "metadata": {},
   "outputs": [
    {
     "data": {
      "text/plain": [
       "0    False\n",
       "1    False\n",
       "2     True\n",
       "3    False\n",
       "4    False\n",
       "Name: area_m2, dtype: bool"
      ]
     },
     "execution_count": 20,
     "metadata": {},
     "output_type": "execute_result"
    }
   ],
   "source": [
    "df1 = pd.read_csv(\"data/mexico-city-real-estate-1.csv\")\n",
    "mask = df1[\"area_m2\"] > 200\n",
    "mask.head()"
   ]
  },
  {
   "cell_type": "markdown",
   "id": "d1b71b8d-7742-46a7-9861-478fa4158318",
   "metadata": {},
   "source": [
    "Notice that `mask` is a Series of Boolean values. Where properties are smaller than 200 square meters, our statement evaluates as `False`; where they're bigger than 200, it evaluates to `True`.\n",
    "\n",
    "Once we have our mask, we can use it to select all the rows from `df1` that evaluate as `True`."
   ]
  },
  {
   "cell_type": "code",
   "execution_count": 21,
   "id": "ad102157-3d76-4b42-b40d-613b9c534238",
   "metadata": {},
   "outputs": [
    {
     "data": {
      "text/html": [
       "<div>\n",
       "<style scoped>\n",
       "    .dataframe tbody tr th:only-of-type {\n",
       "        vertical-align: middle;\n",
       "    }\n",
       "\n",
       "    .dataframe tbody tr th {\n",
       "        vertical-align: top;\n",
       "    }\n",
       "\n",
       "    .dataframe thead th {\n",
       "        text-align: right;\n",
       "    }\n",
       "</style>\n",
       "<table border=\"1\" class=\"dataframe\">\n",
       "  <thead>\n",
       "    <tr style=\"text-align: right;\">\n",
       "      <th></th>\n",
       "      <th>property_type</th>\n",
       "      <th>department</th>\n",
       "      <th>lat-lon</th>\n",
       "      <th>area_m2</th>\n",
       "      <th>price_usd</th>\n",
       "    </tr>\n",
       "  </thead>\n",
       "  <tbody>\n",
       "    <tr>\n",
       "      <th>2</th>\n",
       "      <td>house</td>\n",
       "      <td>A</td>\n",
       "      <td>4.535,-75.676</td>\n",
       "      <td>235.0</td>\n",
       "      <td>219474.47</td>\n",
       "    </tr>\n",
       "  </tbody>\n",
       "</table>\n",
       "</div>"
      ],
      "text/plain": [
       "  property_type department        lat-lon  area_m2  price_usd\n",
       "2         house          A  4.535,-75.676    235.0  219474.47"
      ]
     },
     "execution_count": 21,
     "metadata": {},
     "output_type": "execute_result"
    }
   ],
   "source": [
    "df1[mask].head()"
   ]
  },
  {
   "cell_type": "markdown",
   "id": "1a66bd27-51fa-449a-9cd3-b5962bf11005",
   "metadata": {},
   "source": [
    "### What's a pivot table?"
   ]
  },
  {
   "cell_type": "markdown",
   "id": "53290eb5-c134-4759-8639-5b3006ca6b72",
   "metadata": {},
   "source": [
    "A pivot table allows you to quickly aggregate and summarize a DataFrame using an aggregation function. For example, to build a pivot table that summarizes the mean of the price_cop column for each of the unique categories in the property_type column in df2:"
   ]
  },
  {
   "cell_type": "code",
   "execution_count": 21,
   "id": "ed6be9ef-fd0b-4590-87e5-a842a22dd079",
   "metadata": {},
   "outputs": [
    {
     "name": "stderr",
     "output_type": "stream",
     "text": [
      "/var/folders/g1/7crdd26s7g9cyx52v7z5w1_r0000gn/T/ipykernel_4903/679450356.py:3: FutureWarning: The provided callable <function mean at 0x10d5e5160> is currently using DataFrameGroupBy.mean. In a future version of pandas, the provided callable will be used directly. To keep current behavior pass the string \"mean\" instead.\n",
      "  pivot1 = pd.pivot_table(df, values=\"price_usd\", index=\"department\", aggfunc=np.mean)\n"
     ]
    },
    {
     "data": {
      "text/html": [
       "<div>\n",
       "<style scoped>\n",
       "    .dataframe tbody tr th:only-of-type {\n",
       "        vertical-align: middle;\n",
       "    }\n",
       "\n",
       "    .dataframe tbody tr th {\n",
       "        vertical-align: top;\n",
       "    }\n",
       "\n",
       "    .dataframe thead th {\n",
       "        text-align: right;\n",
       "    }\n",
       "</style>\n",
       "<table border=\"1\" class=\"dataframe\">\n",
       "  <thead>\n",
       "    <tr style=\"text-align: right;\">\n",
       "      <th></th>\n",
       "      <th>price_usd</th>\n",
       "    </tr>\n",
       "    <tr>\n",
       "      <th>department</th>\n",
       "      <th></th>\n",
       "    </tr>\n",
       "  </thead>\n",
       "  <tbody>\n",
       "    <tr>\n",
       "      <th>A</th>\n",
       "      <td>275187.225</td>\n",
       "    </tr>\n",
       "    <tr>\n",
       "      <th>C</th>\n",
       "      <td>105797.950</td>\n",
       "    </tr>\n",
       "  </tbody>\n",
       "</table>\n",
       "</div>"
      ],
      "text/plain": [
       "             price_usd\n",
       "department            \n",
       "A           275187.225\n",
       "C           105797.950"
      ]
     },
     "execution_count": 21,
     "metadata": {},
     "output_type": "execute_result"
    }
   ],
   "source": [
    "import numpy as np\n",
    "\n",
    "pivot1 = pd.pivot_table(df, values=\"price_usd\", index=\"department\", aggfunc=np.mean)\n",
    "pivot1"
   ]
  },
  {
   "cell_type": "markdown",
   "id": "990bc36a-54b3-4cfe-b559-aab07e75cd2f",
   "metadata": {},
   "source": [
    "### Combine multiple categories in a Series"
   ]
  },
  {
   "cell_type": "markdown",
   "id": "03035357-debe-4832-af60-67c4634c84e6",
   "metadata": {},
   "source": [
    "Categorical variables can be collapsed into a fewer number of categories. One approach is to retain the values of the most frequently observed values and collapse all remaining values into a single category. For example, to retain only the values of the top 10 most frequent categories in the department column and then collapse the other categories together, use value_counts to generate the count of the values:"
   ]
  },
  {
   "cell_type": "code",
   "execution_count": 22,
   "id": "1222e8c0-e82c-43ff-8ff4-f5488d401197",
   "metadata": {},
   "outputs": [
    {
     "data": {
      "text/plain": [
       "Index(['C', 'A'], dtype='object', name='department')"
      ]
     },
     "execution_count": 22,
     "metadata": {},
     "output_type": "execute_result"
    }
   ],
   "source": [
    "df1[\"department\"].value_counts().head(3).index"
   ]
  },
  {
   "cell_type": "markdown",
   "id": "34a161da-81d1-4e50-b788-a2b832cbff96",
   "metadata": {},
   "source": [
    "Finally, use the apply method and a lambda function to select only the values from the department column and collapse the remaining values into the value Other:df2[\"department\"] = df2[\"department\"].apply(lambda x: x if x in top_10 else \"Other\")"
   ]
  },
  {
   "cell_type": "code",
   "execution_count": 25,
   "id": "f98a159d-b34d-4077-872c-aa6ed1667158",
   "metadata": {},
   "outputs": [
    {
     "data": {
      "text/html": [
       "<div>\n",
       "<style scoped>\n",
       "    .dataframe tbody tr th:only-of-type {\n",
       "        vertical-align: middle;\n",
       "    }\n",
       "\n",
       "    .dataframe tbody tr th {\n",
       "        vertical-align: top;\n",
       "    }\n",
       "\n",
       "    .dataframe thead th {\n",
       "        text-align: right;\n",
       "    }\n",
       "</style>\n",
       "<table border=\"1\" class=\"dataframe\">\n",
       "  <thead>\n",
       "    <tr style=\"text-align: right;\">\n",
       "      <th></th>\n",
       "      <th>property_type</th>\n",
       "      <th>department</th>\n",
       "      <th>lat-lon</th>\n",
       "      <th>area_m2</th>\n",
       "      <th>price_usd</th>\n",
       "    </tr>\n",
       "  </thead>\n",
       "  <tbody>\n",
       "    <tr>\n",
       "      <th>0</th>\n",
       "      <td>house</td>\n",
       "      <td>Other</td>\n",
       "      <td>4.69,-74.048</td>\n",
       "      <td>187.0</td>\n",
       "      <td>330899.98</td>\n",
       "    </tr>\n",
       "    <tr>\n",
       "      <th>1</th>\n",
       "      <td>house</td>\n",
       "      <td>C</td>\n",
       "      <td>4.695,-74.082</td>\n",
       "      <td>82.0</td>\n",
       "      <td>121555.09</td>\n",
       "    </tr>\n",
       "    <tr>\n",
       "      <th>2</th>\n",
       "      <td>house</td>\n",
       "      <td>Other</td>\n",
       "      <td>4.535,-75.676</td>\n",
       "      <td>235.0</td>\n",
       "      <td>219474.47</td>\n",
       "    </tr>\n",
       "    <tr>\n",
       "      <th>3</th>\n",
       "      <td>house</td>\n",
       "      <td>C</td>\n",
       "      <td>4.62,-74.129</td>\n",
       "      <td>195.0</td>\n",
       "      <td>97919.38</td>\n",
       "    </tr>\n",
       "    <tr>\n",
       "      <th>4</th>\n",
       "      <td>house</td>\n",
       "      <td>C</td>\n",
       "      <td>4.62,123.23</td>\n",
       "      <td>NaN</td>\n",
       "      <td>97919.38</td>\n",
       "    </tr>\n",
       "  </tbody>\n",
       "</table>\n",
       "</div>"
      ],
      "text/plain": [
       "  property_type department        lat-lon  area_m2  price_usd\n",
       "0         house      Other   4.69,-74.048    187.0  330899.98\n",
       "1         house          C  4.695,-74.082     82.0  121555.09\n",
       "2         house      Other  4.535,-75.676    235.0  219474.47\n",
       "3         house          C   4.62,-74.129    195.0   97919.38\n",
       "4         house          C    4.62,123.23      NaN   97919.38"
      ]
     },
     "execution_count": 25,
     "metadata": {},
     "output_type": "execute_result"
    }
   ],
   "source": [
    "top_3 = df1[\"department\"].value_counts().head(1).index\n",
    "df1[\"department\"] = df1[\"department\"].apply(lambda x: x if x in top_3 else \"Other\")\n",
    "df1"
   ]
  },
  {
   "cell_type": "markdown",
   "id": "07bbf066-5673-4226-8708-9a9456ae7106",
   "metadata": {},
   "source": [
    "### Cross Tabulation"
   ]
  },
  {
   "cell_type": "markdown",
   "id": "480f912f-704f-40ab-9c42-8432c745f3a0",
   "metadata": {},
   "source": [
    "The pandas crosstab function is a useful for working with grouped summary statistics for categorical data. It starts by picking two categorical columns, then defines one as the index and the other as the column. If the aggregate function and value column is not defined, crosstab will simply calculate the frequency of each combination by default. Let's see the example below from the Colombia real estate dataset."
   ]
  },
  {
   "cell_type": "code",
   "execution_count": 26,
   "id": "737c215d-a2b5-4a1e-97af-79787122b9fc",
   "metadata": {},
   "outputs": [
    {
     "data": {
      "text/html": [
       "<div>\n",
       "<style scoped>\n",
       "    .dataframe tbody tr th:only-of-type {\n",
       "        vertical-align: middle;\n",
       "    }\n",
       "\n",
       "    .dataframe tbody tr th {\n",
       "        vertical-align: top;\n",
       "    }\n",
       "\n",
       "    .dataframe thead th {\n",
       "        text-align: right;\n",
       "    }\n",
       "</style>\n",
       "<table border=\"1\" class=\"dataframe\">\n",
       "  <thead>\n",
       "    <tr style=\"text-align: right;\">\n",
       "      <th></th>\n",
       "      <th>property_type</th>\n",
       "      <th>department</th>\n",
       "      <th>lat-lon</th>\n",
       "      <th>area_m2</th>\n",
       "      <th>price_usd</th>\n",
       "    </tr>\n",
       "  </thead>\n",
       "  <tbody>\n",
       "    <tr>\n",
       "      <th>0</th>\n",
       "      <td>house</td>\n",
       "      <td>A</td>\n",
       "      <td>4.69,-74.048</td>\n",
       "      <td>187.0</td>\n",
       "      <td>330899.98</td>\n",
       "    </tr>\n",
       "    <tr>\n",
       "      <th>1</th>\n",
       "      <td>house</td>\n",
       "      <td>C</td>\n",
       "      <td>4.695,-74.082</td>\n",
       "      <td>82.0</td>\n",
       "      <td>121555.09</td>\n",
       "    </tr>\n",
       "    <tr>\n",
       "      <th>2</th>\n",
       "      <td>house</td>\n",
       "      <td>A</td>\n",
       "      <td>4.535,-75.676</td>\n",
       "      <td>235.0</td>\n",
       "      <td>219474.47</td>\n",
       "    </tr>\n",
       "    <tr>\n",
       "      <th>3</th>\n",
       "      <td>house</td>\n",
       "      <td>C</td>\n",
       "      <td>4.62,-74.129</td>\n",
       "      <td>195.0</td>\n",
       "      <td>97919.38</td>\n",
       "    </tr>\n",
       "    <tr>\n",
       "      <th>4</th>\n",
       "      <td>house</td>\n",
       "      <td>C</td>\n",
       "      <td>4.62,123.23</td>\n",
       "      <td>NaN</td>\n",
       "      <td>97919.38</td>\n",
       "    </tr>\n",
       "  </tbody>\n",
       "</table>\n",
       "</div>"
      ],
      "text/plain": [
       "  property_type department        lat-lon  area_m2  price_usd\n",
       "0         house          A   4.69,-74.048    187.0  330899.98\n",
       "1         house          C  4.695,-74.082     82.0  121555.09\n",
       "2         house          A  4.535,-75.676    235.0  219474.47\n",
       "3         house          C   4.62,-74.129    195.0   97919.38\n",
       "4         house          C    4.62,123.23      NaN   97919.38"
      ]
     },
     "execution_count": 26,
     "metadata": {},
     "output_type": "execute_result"
    }
   ],
   "source": [
    "import pandas as pd\n",
    "\n",
    "df = pd.read_csv(\"../data/mexico-city-real-estate-1.csv\")\n",
    "df.head()"
   ]
  },
  {
   "cell_type": "code",
   "execution_count": 27,
   "id": "f2e7faba-d38e-42e9-8f18-9d04a3866c4e",
   "metadata": {},
   "outputs": [
    {
     "data": {
      "text/html": [
       "<div>\n",
       "<style scoped>\n",
       "    .dataframe tbody tr th:only-of-type {\n",
       "        vertical-align: middle;\n",
       "    }\n",
       "\n",
       "    .dataframe tbody tr th {\n",
       "        vertical-align: top;\n",
       "    }\n",
       "\n",
       "    .dataframe thead th {\n",
       "        text-align: right;\n",
       "    }\n",
       "</style>\n",
       "<table border=\"1\" class=\"dataframe\">\n",
       "  <thead>\n",
       "    <tr style=\"text-align: right;\">\n",
       "      <th>property_type</th>\n",
       "      <th>house</th>\n",
       "    </tr>\n",
       "    <tr>\n",
       "      <th>department</th>\n",
       "      <th></th>\n",
       "    </tr>\n",
       "  </thead>\n",
       "  <tbody>\n",
       "    <tr>\n",
       "      <th>A</th>\n",
       "      <td>2</td>\n",
       "    </tr>\n",
       "    <tr>\n",
       "      <th>C</th>\n",
       "      <td>3</td>\n",
       "    </tr>\n",
       "  </tbody>\n",
       "</table>\n",
       "</div>"
      ],
      "text/plain": [
       "property_type  house\n",
       "department          \n",
       "A                  2\n",
       "C                  3"
      ]
     },
     "execution_count": 27,
     "metadata": {},
     "output_type": "execute_result"
    }
   ],
   "source": [
    "pd.crosstab(index=df[\"department\"], columns=df[\"property_type\"])"
   ]
  },
  {
   "cell_type": "code",
   "execution_count": 28,
   "id": "84f152b9-f306-4f6b-b936-7db60cd2638f",
   "metadata": {},
   "outputs": [
    {
     "name": "stderr",
     "output_type": "stream",
     "text": [
      "/var/folders/g1/7crdd26s7g9cyx52v7z5w1_r0000gn/T/ipykernel_4903/3313809044.py:3: FutureWarning: The provided callable <function mean at 0x10d5e5160> is currently using DataFrameGroupBy.mean. In a future version of pandas, the provided callable will be used directly. To keep current behavior pass the string \"mean\" instead.\n",
      "  pd.crosstab(\n"
     ]
    },
    {
     "data": {
      "text/html": [
       "<div>\n",
       "<style scoped>\n",
       "    .dataframe tbody tr th:only-of-type {\n",
       "        vertical-align: middle;\n",
       "    }\n",
       "\n",
       "    .dataframe tbody tr th {\n",
       "        vertical-align: top;\n",
       "    }\n",
       "\n",
       "    .dataframe thead th {\n",
       "        text-align: right;\n",
       "    }\n",
       "</style>\n",
       "<table border=\"1\" class=\"dataframe\">\n",
       "  <thead>\n",
       "    <tr style=\"text-align: right;\">\n",
       "      <th>property_type</th>\n",
       "      <th>house</th>\n",
       "    </tr>\n",
       "    <tr>\n",
       "      <th>department</th>\n",
       "      <th></th>\n",
       "    </tr>\n",
       "  </thead>\n",
       "  <tbody>\n",
       "    <tr>\n",
       "      <th>A</th>\n",
       "      <td>211.0</td>\n",
       "    </tr>\n",
       "    <tr>\n",
       "      <th>C</th>\n",
       "      <td>138.0</td>\n",
       "    </tr>\n",
       "  </tbody>\n",
       "</table>\n",
       "</div>"
      ],
      "text/plain": [
       "property_type  house\n",
       "department          \n",
       "A              211.0\n",
       "C              138.0"
      ]
     },
     "execution_count": 28,
     "metadata": {},
     "output_type": "execute_result"
    }
   ],
   "source": [
    "import numpy as np\n",
    "\n",
    "pd.crosstab(\n",
    "    index=df[\"department\"],\n",
    "    columns=df[\"property_type\"],\n",
    "    values=df[\"area_m2\"],\n",
    "    aggfunc=np.mean,\n",
    ").round(0)"
   ]
  },
  {
   "cell_type": "markdown",
   "id": "a42f2f18-55e0-4ba2-9cad-d93127fdc3d1",
   "metadata": {},
   "source": [
    "### Applying Functions to DataFrames and Series"
   ]
  },
  {
   "cell_type": "markdown",
   "id": "f9f09885-d418-4f17-9e55-a9ff2b32d7af",
   "metadata": {},
   "source": [
    "`apply` is a useful method for to using one function on all the rows or columns of a DataFrame efficiently. Let's take the following real estate dataset as an example:"
   ]
  },
  {
   "cell_type": "code",
   "execution_count": 45,
   "id": "3d1235bb-9366-4e1f-b8d0-32e7a2fd2b80",
   "metadata": {},
   "outputs": [
    {
     "data": {
      "text/html": [
       "<div>\n",
       "<style scoped>\n",
       "    .dataframe tbody tr th:only-of-type {\n",
       "        vertical-align: middle;\n",
       "    }\n",
       "\n",
       "    .dataframe tbody tr th {\n",
       "        vertical-align: top;\n",
       "    }\n",
       "\n",
       "    .dataframe thead th {\n",
       "        text-align: right;\n",
       "    }\n",
       "</style>\n",
       "<table border=\"1\" class=\"dataframe\">\n",
       "  <thead>\n",
       "    <tr style=\"text-align: right;\">\n",
       "      <th></th>\n",
       "      <th>area_m2</th>\n",
       "      <th>price_usd</th>\n",
       "    </tr>\n",
       "  </thead>\n",
       "  <tbody>\n",
       "    <tr>\n",
       "      <th>0</th>\n",
       "      <td>187.0</td>\n",
       "      <td>330899.98</td>\n",
       "    </tr>\n",
       "    <tr>\n",
       "      <th>1</th>\n",
       "      <td>82.0</td>\n",
       "      <td>121555.09</td>\n",
       "    </tr>\n",
       "    <tr>\n",
       "      <th>2</th>\n",
       "      <td>235.0</td>\n",
       "      <td>219474.47</td>\n",
       "    </tr>\n",
       "    <tr>\n",
       "      <th>3</th>\n",
       "      <td>195.0</td>\n",
       "      <td>97919.38</td>\n",
       "    </tr>\n",
       "    <tr>\n",
       "      <th>4</th>\n",
       "      <td>NaN</td>\n",
       "      <td>97919.38</td>\n",
       "    </tr>\n",
       "  </tbody>\n",
       "</table>\n",
       "</div>"
      ],
      "text/plain": [
       "   area_m2  price_usd\n",
       "0    187.0  330899.98\n",
       "1     82.0  121555.09\n",
       "2    235.0  219474.47\n",
       "3    195.0   97919.38\n",
       "4      NaN   97919.38"
      ]
     },
     "execution_count": 45,
     "metadata": {},
     "output_type": "execute_result"
    }
   ],
   "source": [
    "# Read data, only use the numerical columns\n",
    "df = pd.read_csv(\"data/mexico-city-real-estate-1.csv\", usecols=[\"area_m2\", \"price_usd\"])\n",
    "df.head()"
   ]
  },
  {
   "cell_type": "code",
   "execution_count": 46,
   "id": "50892ebf-4aaa-47f2-b1c2-066cb70b58a0",
   "metadata": {},
   "outputs": [
    {
     "data": {
      "text/html": [
       "<div>\n",
       "<style scoped>\n",
       "    .dataframe tbody tr th:only-of-type {\n",
       "        vertical-align: middle;\n",
       "    }\n",
       "\n",
       "    .dataframe tbody tr th {\n",
       "        vertical-align: top;\n",
       "    }\n",
       "\n",
       "    .dataframe thead th {\n",
       "        text-align: right;\n",
       "    }\n",
       "</style>\n",
       "<table border=\"1\" class=\"dataframe\">\n",
       "  <thead>\n",
       "    <tr style=\"text-align: right;\">\n",
       "      <th></th>\n",
       "      <th>area_m2</th>\n",
       "      <th>price_usd</th>\n",
       "    </tr>\n",
       "  </thead>\n",
       "  <tbody>\n",
       "    <tr>\n",
       "      <th>0</th>\n",
       "      <td>13.674794</td>\n",
       "      <td>575.239063</td>\n",
       "    </tr>\n",
       "    <tr>\n",
       "      <th>1</th>\n",
       "      <td>9.055385</td>\n",
       "      <td>348.647515</td>\n",
       "    </tr>\n",
       "    <tr>\n",
       "      <th>2</th>\n",
       "      <td>15.329710</td>\n",
       "      <td>468.481024</td>\n",
       "    </tr>\n",
       "    <tr>\n",
       "      <th>3</th>\n",
       "      <td>13.964240</td>\n",
       "      <td>312.920725</td>\n",
       "    </tr>\n",
       "    <tr>\n",
       "      <th>4</th>\n",
       "      <td>NaN</td>\n",
       "      <td>312.920725</td>\n",
       "    </tr>\n",
       "  </tbody>\n",
       "</table>\n",
       "</div>"
      ],
      "text/plain": [
       "     area_m2   price_usd\n",
       "0  13.674794  575.239063\n",
       "1   9.055385  348.647515\n",
       "2  15.329710  468.481024\n",
       "3  13.964240  312.920725\n",
       "4        NaN  312.920725"
      ]
     },
     "execution_count": 46,
     "metadata": {},
     "output_type": "execute_result"
    }
   ],
   "source": [
    "import numpy as np\n",
    "\n",
    "df.apply(np.sqrt)"
   ]
  },
  {
   "cell_type": "code",
   "execution_count": 47,
   "id": "3693763e-b655-4c6e-b396-5dd20d87b924",
   "metadata": {},
   "outputs": [
    {
     "data": {
      "text/plain": [
       "area_m2         699.0\n",
       "price_usd    867768.3\n",
       "dtype: float64"
      ]
     },
     "execution_count": 47,
     "metadata": {},
     "output_type": "execute_result"
    }
   ],
   "source": [
    "df.apply(np.sum, axis=0)"
   ]
  },
  {
   "cell_type": "code",
   "execution_count": 48,
   "id": "0ec4d9f2-51b6-4b2f-9935-a01b9a113bdb",
   "metadata": {},
   "outputs": [
    {
     "data": {
      "text/plain": [
       "0    331086.98\n",
       "1    121637.09\n",
       "2    219709.47\n",
       "3     98114.38\n",
       "4     97919.38\n",
       "dtype: float64"
      ]
     },
     "execution_count": 48,
     "metadata": {},
     "output_type": "execute_result"
    }
   ],
   "source": [
    "df.apply(np.sum, axis=1)"
   ]
  },
  {
   "cell_type": "markdown",
   "id": "150826cf-f4ef-40ae-800a-c2eaa5a96877",
   "metadata": {},
   "source": [
    "### Working with Dates"
   ]
  },
  {
   "cell_type": "markdown",
   "id": "18a9b3e3-75a5-4030-a9ed-ba58cc516901",
   "metadata": {},
   "source": [
    "### Time Stamps"
   ]
  },
  {
   "cell_type": "markdown",
   "id": "332e52a7-7ea2-447a-8ecd-bb7bafdc7e91",
   "metadata": {},
   "source": [
    "Pandas' time series capabilities are built on the Timestamp class. For instance, we can transform date strings of different formats into Timestamp:"
   ]
  },
  {
   "cell_type": "code",
   "execution_count": 29,
   "id": "f87ec3a4-4098-4b10-87b6-e38f423a1a63",
   "metadata": {},
   "outputs": [
    {
     "name": "stdout",
     "output_type": "stream",
     "text": [
      "2022-01-08 00:00:00\n",
      "2022-01-08 20:13:00\n"
     ]
    }
   ],
   "source": [
    "print(pd.Timestamp(\"January 8, 2022\"))\n",
    "print(pd.Timestamp(\"01/08/22 20:13\"))"
   ]
  },
  {
   "cell_type": "code",
   "execution_count": 30,
   "id": "a5f82b93-0cdb-486e-90b8-8905d2a2a367",
   "metadata": {},
   "outputs": [
    {
     "name": "stdout",
     "output_type": "stream",
     "text": [
      "time_delta type: <class 'pandas._libs.tslibs.timedeltas.Timedelta'>\n",
      "191 days 09:16:00\n"
     ]
    }
   ],
   "source": [
    "time_delta = pd.Timestamp(\"Feb. 11 2016 2:30 am\") - pd.Timestamp(\"2015-08-03 5:14 pm\")\n",
    "\n",
    "print(\"time_delta type:\", type(time_delta))\n",
    "print(time_delta)"
   ]
  },
  {
   "cell_type": "code",
   "execution_count": 31,
   "id": "8cb075fc-4138-4f44-b354-d59357337d9f",
   "metadata": {},
   "outputs": [
    {
     "data": {
      "text/plain": [
       "Timedelta('192 days 00:00:00')"
      ]
     },
     "execution_count": 31,
     "metadata": {},
     "output_type": "execute_result"
    }
   ],
   "source": [
    "import datetime\n",
    "\n",
    "pd.Timestamp(\"Feb 11, 2016\") - datetime.datetime(2015, 8, 3)"
   ]
  },
  {
   "cell_type": "code",
   "execution_count": 32,
   "id": "5cac3d83-8838-48b3-b4ee-ee74248f1189",
   "metadata": {},
   "outputs": [
    {
     "name": "stdout",
     "output_type": "stream",
     "text": [
      "2017-01-05 00:00:00\n"
     ]
    }
   ],
   "source": [
    "import pandas as pd\n",
    "from pandas.tseries.offsets import BDay, BMonthEnd, Day\n",
    "\n",
    "print(pd.Timestamp(\"January 9, 2017\") - Day(4))"
   ]
  },
  {
   "cell_type": "markdown",
   "id": "632a426d-faec-4c80-8f5f-62990b954467",
   "metadata": {},
   "source": [
    "### Date Time Indices"
   ]
  },
  {
   "cell_type": "markdown",
   "id": "e72c2641-edba-4bba-a6b1-924ab754647e",
   "metadata": {},
   "source": [
    "`DatetimeIndex` is a convenient function that transforms date-like data into readable `Datetime` format for a DataFrame index. That way, we can better plot and model time series data. Let's check an example. Here we have Apple's stock prices from 1999 10 2022."
   ]
  },
  {
   "cell_type": "code",
   "execution_count": 34,
   "id": "be2a731a-e693-4cbc-b74b-f3bd9bf19b53",
   "metadata": {},
   "outputs": [
    {
     "name": "stdout",
     "output_type": "stream",
     "text": [
      "<class 'pandas.core.frame.DataFrame'>\n",
      "Index: 5 entries, 2022-10-14 to 2022-10-10\n",
      "Data columns (total 5 columns):\n",
      " #   Column  Non-Null Count  Dtype  \n",
      "---  ------  --------------  -----  \n",
      " 0   open    5 non-null      float64\n",
      " 1   high    5 non-null      float64\n",
      " 2   low     5 non-null      float64\n",
      " 3   close   5 non-null      float64\n",
      " 4   volume  5 non-null      int64  \n",
      "dtypes: float64(4), int64(1)\n",
      "memory usage: 240.0+ bytes\n",
      "None\n"
     ]
    },
    {
     "data": {
      "text/html": [
       "<div>\n",
       "<style scoped>\n",
       "    .dataframe tbody tr th:only-of-type {\n",
       "        vertical-align: middle;\n",
       "    }\n",
       "\n",
       "    .dataframe tbody tr th {\n",
       "        vertical-align: top;\n",
       "    }\n",
       "\n",
       "    .dataframe thead th {\n",
       "        text-align: right;\n",
       "    }\n",
       "</style>\n",
       "<table border=\"1\" class=\"dataframe\">\n",
       "  <thead>\n",
       "    <tr style=\"text-align: right;\">\n",
       "      <th></th>\n",
       "      <th>open</th>\n",
       "      <th>high</th>\n",
       "      <th>low</th>\n",
       "      <th>close</th>\n",
       "      <th>volume</th>\n",
       "    </tr>\n",
       "    <tr>\n",
       "      <th>date</th>\n",
       "      <th></th>\n",
       "      <th></th>\n",
       "      <th></th>\n",
       "      <th></th>\n",
       "      <th></th>\n",
       "    </tr>\n",
       "  </thead>\n",
       "  <tbody>\n",
       "    <tr>\n",
       "      <th>2022-10-14</th>\n",
       "      <td>144.31</td>\n",
       "      <td>144.52</td>\n",
       "      <td>138.1900</td>\n",
       "      <td>138.38</td>\n",
       "      <td>88492326</td>\n",
       "    </tr>\n",
       "    <tr>\n",
       "      <th>2022-10-13</th>\n",
       "      <td>134.99</td>\n",
       "      <td>143.59</td>\n",
       "      <td>134.3700</td>\n",
       "      <td>142.99</td>\n",
       "      <td>113223975</td>\n",
       "    </tr>\n",
       "    <tr>\n",
       "      <th>2022-10-12</th>\n",
       "      <td>139.13</td>\n",
       "      <td>140.36</td>\n",
       "      <td>138.1600</td>\n",
       "      <td>138.34</td>\n",
       "      <td>70433744</td>\n",
       "    </tr>\n",
       "    <tr>\n",
       "      <th>2022-10-11</th>\n",
       "      <td>139.90</td>\n",
       "      <td>141.35</td>\n",
       "      <td>138.2200</td>\n",
       "      <td>138.98</td>\n",
       "      <td>77033672</td>\n",
       "    </tr>\n",
       "    <tr>\n",
       "      <th>2022-10-10</th>\n",
       "      <td>140.42</td>\n",
       "      <td>141.89</td>\n",
       "      <td>138.5729</td>\n",
       "      <td>140.42</td>\n",
       "      <td>74899002</td>\n",
       "    </tr>\n",
       "  </tbody>\n",
       "</table>\n",
       "</div>"
      ],
      "text/plain": [
       "              open    high       low   close     volume\n",
       "date                                                   \n",
       "2022-10-14  144.31  144.52  138.1900  138.38   88492326\n",
       "2022-10-13  134.99  143.59  134.3700  142.99  113223975\n",
       "2022-10-12  139.13  140.36  138.1600  138.34   70433744\n",
       "2022-10-11  139.90  141.35  138.2200  138.98   77033672\n",
       "2022-10-10  140.42  141.89  138.5729  140.42   74899002"
      ]
     },
     "execution_count": 34,
     "metadata": {},
     "output_type": "execute_result"
    }
   ],
   "source": [
    "data = pd.read_csv(\"../data/stock_data.csv\")\n",
    "data.set_index(\"date\", inplace=True)\n",
    "\n",
    "print(data.info())\n",
    "data.head()"
   ]
  },
  {
   "cell_type": "code",
   "execution_count": 35,
   "id": "40e59f84-e12a-462c-9809-12b3705a6821",
   "metadata": {},
   "outputs": [
    {
     "data": {
      "text/plain": [
       "<Axes: xlabel='date'>"
      ]
     },
     "execution_count": 35,
     "metadata": {},
     "output_type": "execute_result"
    },
    {
     "data": {
      "image/png": "[encoded data removed]",
      "text/plain": [
       "<Figure size 640x480 with 1 Axes>"
      ]
     },
     "metadata": {},
     "output_type": "display_data"
    }
   ],
   "source": [
    "data[\"open\"].plot()"
   ]
  },
  {
   "cell_type": "code",
   "execution_count": 36,
   "id": "6d56bf21-232f-459e-92e3-8d6f2de8d394",
   "metadata": {},
   "outputs": [
    {
     "data": {
      "text/plain": [
       "Index(['2022-10-14', '2022-10-13', '2022-10-12', '2022-10-11', '2022-10-10'], dtype='object', name='date')"
      ]
     },
     "execution_count": 36,
     "metadata": {},
     "output_type": "execute_result"
    }
   ],
   "source": [
    "data.index[:5]"
   ]
  },
  {
   "cell_type": "code",
   "execution_count": 37,
   "id": "20f292b4-8aac-4abd-be96-76fb08f9af42",
   "metadata": {},
   "outputs": [
    {
     "data": {
      "text/plain": [
       "DatetimeIndex(['2022-10-14', '2022-10-13', '2022-10-12', '2022-10-11',\n",
       "               '2022-10-10'],\n",
       "              dtype='datetime64[ns]', name='date', freq=None)"
      ]
     },
     "execution_count": 37,
     "metadata": {},
     "output_type": "execute_result"
    }
   ],
   "source": [
    "pd.DatetimeIndex(data.index)"
   ]
  },
  {
   "cell_type": "code",
   "execution_count": 67,
   "id": "2da70709-be84-4d83-93f0-b9dfcada6edf",
   "metadata": {},
   "outputs": [
    {
     "data": {
      "text/html": [
       "<div>\n",
       "<style scoped>\n",
       "    .dataframe tbody tr th:only-of-type {\n",
       "        vertical-align: middle;\n",
       "    }\n",
       "\n",
       "    .dataframe tbody tr th {\n",
       "        vertical-align: top;\n",
       "    }\n",
       "\n",
       "    .dataframe thead th {\n",
       "        text-align: right;\n",
       "    }\n",
       "</style>\n",
       "<table border=\"1\" class=\"dataframe\">\n",
       "  <thead>\n",
       "    <tr style=\"text-align: right;\">\n",
       "      <th></th>\n",
       "      <th>open</th>\n",
       "      <th>high</th>\n",
       "      <th>low</th>\n",
       "      <th>close</th>\n",
       "      <th>volume</th>\n",
       "    </tr>\n",
       "    <tr>\n",
       "      <th>date</th>\n",
       "      <th></th>\n",
       "      <th></th>\n",
       "      <th></th>\n",
       "      <th></th>\n",
       "      <th></th>\n",
       "    </tr>\n",
       "  </thead>\n",
       "  <tbody>\n",
       "    <tr>\n",
       "      <th>2022-10-14</th>\n",
       "      <td>144.31</td>\n",
       "      <td>144.52</td>\n",
       "      <td>138.1900</td>\n",
       "      <td>138.38</td>\n",
       "      <td>88492326</td>\n",
       "    </tr>\n",
       "    <tr>\n",
       "      <th>2022-10-13</th>\n",
       "      <td>134.99</td>\n",
       "      <td>143.59</td>\n",
       "      <td>134.3700</td>\n",
       "      <td>142.99</td>\n",
       "      <td>113223975</td>\n",
       "    </tr>\n",
       "    <tr>\n",
       "      <th>2022-10-12</th>\n",
       "      <td>139.13</td>\n",
       "      <td>140.36</td>\n",
       "      <td>138.1600</td>\n",
       "      <td>138.34</td>\n",
       "      <td>70433744</td>\n",
       "    </tr>\n",
       "    <tr>\n",
       "      <th>2022-10-11</th>\n",
       "      <td>139.90</td>\n",
       "      <td>141.35</td>\n",
       "      <td>138.2200</td>\n",
       "      <td>138.98</td>\n",
       "      <td>77033672</td>\n",
       "    </tr>\n",
       "    <tr>\n",
       "      <th>2022-10-10</th>\n",
       "      <td>140.42</td>\n",
       "      <td>141.89</td>\n",
       "      <td>138.5729</td>\n",
       "      <td>140.42</td>\n",
       "      <td>74899002</td>\n",
       "    </tr>\n",
       "  </tbody>\n",
       "</table>\n",
       "</div>"
      ],
      "text/plain": [
       "              open    high       low   close     volume\n",
       "date                                                   \n",
       "2022-10-14  144.31  144.52  138.1900  138.38   88492326\n",
       "2022-10-13  134.99  143.59  134.3700  142.99  113223975\n",
       "2022-10-12  139.13  140.36  138.1600  138.34   70433744\n",
       "2022-10-11  139.90  141.35  138.2200  138.98   77033672\n",
       "2022-10-10  140.42  141.89  138.5729  140.42   74899002"
      ]
     },
     "execution_count": 67,
     "metadata": {},
     "output_type": "execute_result"
    }
   ],
   "source": [
    "data.index = pd.DatetimeIndex(data.index)\n",
    "data"
   ]
  },
  {
   "cell_type": "code",
   "execution_count": 68,
   "id": "59276c6b-ece8-4e74-9026-c2c9e86c4e0a",
   "metadata": {},
   "outputs": [
    {
     "data": {
      "text/plain": [
       "<Axes: xlabel='date'>"
      ]
     },
     "execution_count": 68,
     "metadata": {},
     "output_type": "execute_result"
    },
    {
     "data": {
      "image/png": "[encoded data removed]",
      "text/plain": [
       "<Figure size 640x480 with 1 Axes>"
      ]
     },
     "metadata": {},
     "output_type": "display_data"
    }
   ],
   "source": [
    "data[\"open\"].plot()"
   ]
  },
  {
   "cell_type": "markdown",
   "id": "a48cfb1a-92ae-4bdd-a730-a827932048d3",
   "metadata": {},
   "source": [
    "### Date Ranges"
   ]
  },
  {
   "cell_type": "markdown",
   "id": "7a289859-9b35-4338-974f-e9d9d0412d78",
   "metadata": {},
   "source": [
    "If we're entering time series data into a DataFrame, it will often be useful to create a range of dates using date_range. We can create it with different frequencies by specifying freq. Here are the days in a specific range:"
   ]
  },
  {
   "cell_type": "code",
   "execution_count": 69,
   "id": "854a8020-c16c-4f38-a0dc-9b37764bfb83",
   "metadata": {},
   "outputs": [
    {
     "data": {
      "text/plain": [
       "DatetimeIndex(['2022-01-08', '2022-01-09', '2022-01-10', '2022-01-11',\n",
       "               '2022-01-12', '2022-01-13', '2022-01-14', '2022-01-15',\n",
       "               '2022-01-16', '2022-01-17', '2022-01-18', '2022-01-19',\n",
       "               '2022-01-20', '2022-01-21', '2022-01-22', '2022-01-23',\n",
       "               '2022-01-24', '2022-01-25', '2022-01-26', '2022-01-27',\n",
       "               '2022-01-28', '2022-01-29', '2022-01-30', '2022-01-31',\n",
       "               '2022-02-01', '2022-02-02', '2022-02-03', '2022-02-04',\n",
       "               '2022-02-05', '2022-02-06', '2022-02-07', '2022-02-08',\n",
       "               '2022-02-09', '2022-02-10', '2022-02-11', '2022-02-12',\n",
       "               '2022-02-13', '2022-02-14', '2022-02-15', '2022-02-16',\n",
       "               '2022-02-17', '2022-02-18', '2022-02-19', '2022-02-20',\n",
       "               '2022-02-21', '2022-02-22', '2022-02-23', '2022-02-24',\n",
       "               '2022-02-25', '2022-02-26', '2022-02-27', '2022-02-28',\n",
       "               '2022-03-01', '2022-03-02'],\n",
       "              dtype='datetime64[ns]', freq='D')"
      ]
     },
     "execution_count": 69,
     "metadata": {},
     "output_type": "execute_result"
    }
   ],
   "source": [
    "pd.date_range(start=\"1/8/2022\", end=\"3/2/2022\", freq=\"D\")"
   ]
  },
  {
   "cell_type": "markdown",
   "id": "02cf192c-9634-44e0-9cb6-7406ea799a25",
   "metadata": {},
   "source": [
    "Here are the business dates for a specific range:"
   ]
  },
  {
   "cell_type": "code",
   "execution_count": 70,
   "id": "aeeec1ea-8d6d-459a-9267-85d59124acae",
   "metadata": {},
   "outputs": [
    {
     "data": {
      "text/plain": [
       "DatetimeIndex(['2022-01-10', '2022-01-11', '2022-01-12', '2022-01-13',\n",
       "               '2022-01-14', '2022-01-17', '2022-01-18', '2022-01-19',\n",
       "               '2022-01-20', '2022-01-21', '2022-01-24', '2022-01-25',\n",
       "               '2022-01-26', '2022-01-27', '2022-01-28', '2022-01-31',\n",
       "               '2022-02-01', '2022-02-02', '2022-02-03', '2022-02-04',\n",
       "               '2022-02-07', '2022-02-08', '2022-02-09', '2022-02-10',\n",
       "               '2022-02-11', '2022-02-14', '2022-02-15', '2022-02-16',\n",
       "               '2022-02-17', '2022-02-18', '2022-02-21', '2022-02-22',\n",
       "               '2022-02-23', '2022-02-24', '2022-02-25', '2022-02-28',\n",
       "               '2022-03-01', '2022-03-02'],\n",
       "              dtype='datetime64[ns]', freq='B')"
      ]
     },
     "execution_count": 70,
     "metadata": {},
     "output_type": "execute_result"
    }
   ],
   "source": [
    "pd.date_range(start=\"1/8/2022\", end=\"3/2/2022\", freq=\"B\")"
   ]
  },
  {
   "cell_type": "code",
   "execution_count": null,
   "id": "ba8c6141-63f4-4f01-8f4f-f2ae5df81788",
   "metadata": {},
   "outputs": [],
   "source": []
  },
  {
   "cell_type": "code",
   "execution_count": null,
   "id": "d0289388-c09d-4cf3-a77c-508e2a4d02e8",
   "metadata": {},
   "outputs": [],
   "source": []
  },
  {
   "cell_type": "code",
   "execution_count": null,
   "id": "246de772-4a8c-4ca4-b5f8-f749d38865d4",
   "metadata": {},
   "outputs": [],
   "source": []
  }
 ],
 "metadata": {
  "kernelspec": {
   "display_name": "quant",
   "language": "python",
   "name": "python3"
  },
  "language_info": {
   "codemirror_mode": {
    "name": "ipython",
    "version": 3
   },
   "file_extension": ".py",
   "mimetype": "text/x-python",
   "name": "python",
   "nbconvert_exporter": "python",
   "pygments_lexer": "ipython3",
   "version": "3.9.7"
  }
 },
 "nbformat": 4,
 "nbformat_minor": 5
}
