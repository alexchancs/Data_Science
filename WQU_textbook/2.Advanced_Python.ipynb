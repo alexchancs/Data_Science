{
 "cells": [
  {
   "cell_type": "markdown",
   "id": "35ff42d9-98da-4014-9de3-b2e226498467",
   "metadata": {},
   "source": [
    "### Working with strings"
   ]
  },
  {
   "cell_type": "markdown",
   "id": "2100c4c1-820a-40bd-a85e-f0c15aa812f1",
   "metadata": {},
   "source": [
    "When the list of files is short like this one, it's not difficult to find the ones we want, but if the list were longer, we might need some help. If we're only interested in finding files that deal with Mexico, we could search the files for files beginning with mexico-city-real-estate-. To do this, we'll use the .glob function."
   ]
  },
  {
   "cell_type": "code",
   "execution_count": 1,
   "id": "7a1370ee-58ea-4d97-a964-2e1911939117",
   "metadata": {},
   "outputs": [
    {
     "data": {
      "text/plain": [
       "['./data/mexico-city-real-estate-5.csv',\n",
       " './data/mexico-city-real-estate-4.csv',\n",
       " './data/mexico-city-real-estate-1.csv',\n",
       " './data/mexico-city-real-estate-3.csv',\n",
       " './data/mexico-city-real-estate-2.csv']"
      ]
     },
     "execution_count": 1,
     "metadata": {},
     "output_type": "execute_result"
    }
   ],
   "source": [
    "import glob\n",
    "glob.glob(\"./data/mexico-city-real-estate-[0-9].csv\")"
   ]
  },
  {
   "cell_type": "markdown",
   "id": "c5df095c-b99a-4819-86d5-8afc56b6fe17",
   "metadata": {},
   "source": [
    "The .glob function allows for pattern matching. In this example [0-9] allows for any digit between 0 and 9, but there are lots of other patterns that .glob can find. Here are a few of the more common ones:\n",
    "\n",
    "- \\* Match any number of characters\n",
    "- ? Match a single character of any kind\n",
    "- [a-z] Match any lower case alphabetical character in the current locale\n",
    "- [A-Z] Match any upper case alphabetical character in the current locale\n",
    "- [!a-z] Do not match any lower case alphabetical character in the current locale"
   ]
  },
  {
   "cell_type": "code",
   "execution_count": 2,
   "id": "42a8698c-970d-4c55-bfc8-ac3348b4b15d",
   "metadata": {},
   "outputs": [
    {
     "data": {
      "text/plain": [
       "['./data/mexico-city-real-estate-5.csv',\n",
       " './data/mexico-city-real-estate-4.csv',\n",
       " './data/mexico-city-real-estate-1.csv',\n",
       " './data/mexico-city-real-estate-3.csv',\n",
       " './data/mexico-city-real-estate-2.csv']"
      ]
     },
     "execution_count": 2,
     "metadata": {},
     "output_type": "execute_result"
    }
   ],
   "source": [
    "glob.glob(\"./data/mexico-city*\")"
   ]
  },
  {
   "cell_type": "markdown",
   "id": "ddb48f82-bfdb-4aba-97ea-9b3b5e55dc64",
   "metadata": {},
   "source": [
    "### Manipulating Strings"
   ]
  },
  {
   "cell_type": "code",
   "execution_count": 3,
   "id": "8ef1a5d7-9a65-4497-a704-1c15dc972cd7",
   "metadata": {},
   "outputs": [
    {
     "data": {
      "text/plain": [
       "['mexico', 'city', 'real', 'estate', '1']"
      ]
     },
     "execution_count": 3,
     "metadata": {},
     "output_type": "execute_result"
    }
   ],
   "source": [
    "file_name = \"mexico-city-real-estate-1\"\n",
    "file_name.split(\"-\")"
   ]
  },
  {
   "cell_type": "code",
   "execution_count": 4,
   "id": "3657c063-095f-4938-9e9c-375324a464c7",
   "metadata": {},
   "outputs": [
    {
     "data": {
      "text/plain": [
       "'mexico_city_real_estate_1'"
      ]
     },
     "execution_count": 4,
     "metadata": {},
     "output_type": "execute_result"
    }
   ],
   "source": [
    "file_name = \"mexico-city-real-estate-1\"\n",
    "\n",
    "modified_file_name = file_name.replace(\"-\", \"_\")\n",
    "\n",
    "modified_file_name"
   ]
  },
  {
   "cell_type": "code",
   "execution_count": 5,
   "id": "3b8efe97-1138-405b-84ff-c79a8c65b266",
   "metadata": {},
   "outputs": [
    {
     "name": "stdout",
     "output_type": "stream",
     "text": [
      "Python first appeared on February 20 in the year 1991.\n",
      "Python is 33 years old.\n"
     ]
    }
   ],
   "source": [
    "import datetime\n",
    "\n",
    "python_birthday = datetime.datetime(year=1991, month=2, day=20)\n",
    "print(\n",
    "    f\"Python first appeared on {python_birthday:%B %d} in the year {python_birthday:%Y}.\"\n",
    ")\n",
    "\n",
    "now = datetime.datetime.now()\n",
    "print(f\"Python is {now.year - python_birthday.year} years old.\")"
   ]
  },
  {
   "cell_type": "markdown",
   "id": "206a0e61-4fe5-4ea3-bfae-9cf16931f2e8",
   "metadata": {},
   "source": [
    "### List Comprehension"
   ]
  },
  {
   "cell_type": "markdown",
   "id": "eb06048e-9512-4023-a6c8-b84d68d89d2a",
   "metadata": {},
   "source": [
    "List comprehension is used to iterate through lists without explicitly writing loops, which is especially useful for filtering data according to a specific condition."
   ]
  },
  {
   "cell_type": "code",
   "execution_count": 6,
   "id": "6563d56c-b979-4af9-a873-10e75212b33e",
   "metadata": {},
   "outputs": [],
   "source": [
    "price_mexican_pesos = [\n",
    "    35000000.0,\n",
    "    2000000.0,\n",
    "    2700000.0,\n",
    "    6347000.0,\n",
    "    6994543.16,\n",
    "    6617835.61,\n",
    "    670000.0,\n",
    "]"
   ]
  },
  {
   "cell_type": "code",
   "execution_count": 7,
   "id": "e508cab8-5aff-48d3-8f10-7f0cdc0e3140",
   "metadata": {},
   "outputs": [
    {
     "name": "stdout",
     "output_type": "stream",
     "text": [
      "[6650000000.0, 380000000.0, 513000000.0, 1205930000.0, 1328963200.4, 1257388765.9, 127300000.0]\n"
     ]
    }
   ],
   "source": [
    "price_colombian_pesos = []\n",
    "for price in price_mexican_pesos:\n",
    "    price_colombian_pesos.append(price * 190)\n",
    "\n",
    "print(price_colombian_pesos)"
   ]
  },
  {
   "cell_type": "code",
   "execution_count": 8,
   "id": "4a28ae41-aae2-4091-8aac-03dc2d837e98",
   "metadata": {},
   "outputs": [
    {
     "name": "stdout",
     "output_type": "stream",
     "text": [
      "[6650000000.0, 380000000.0, 513000000.0, 1205930000.0, 1328963200.4, 1257388765.9, 127300000.0]\n"
     ]
    }
   ],
   "source": [
    "price_colombian_pesos = [price * 190 for price in price_mexican_pesos]\n",
    "print(price_colombian_pesos)"
   ]
  },
  {
   "cell_type": "markdown",
   "id": "d0fc64cc-a70e-41f8-a4b8-5438993d1337",
   "metadata": {},
   "source": [
    "### Lambda Functions"
   ]
  },
  {
   "cell_type": "markdown",
   "id": "e5cece82-8076-4cf8-895e-9c2ec165f10c",
   "metadata": {},
   "source": [
    "The function definitions we've been working with so far are fine for most purposes, but they can easily become a little long. When that happens, you might want to use a shorter method to expressing a function; that's what lambda functions are for. Here's code for a function which adds 3 to a number."
   ]
  },
  {
   "cell_type": "code",
   "execution_count": 9,
   "id": "31c16011-e296-45dc-a823-7eeea936d376",
   "metadata": {},
   "outputs": [
    {
     "data": {
      "text/plain": [
       "10"
      ]
     },
     "execution_count": 9,
     "metadata": {},
     "output_type": "execute_result"
    }
   ],
   "source": [
    "add_three = lambda a: a + 5\n",
    "add_three(5)"
   ]
  },
  {
   "cell_type": "markdown",
   "id": "326fd73b-43ed-479e-8554-fa0b7aaf971d",
   "metadata": {},
   "source": [
    "### Working with errors"
   ]
  },
  {
   "cell_type": "markdown",
   "id": "a6054aad-2c04-4d5a-8ef9-7e289f2312bd",
   "metadata": {},
   "source": [
    "Error handling is a very important part of coding. It will make sure our code runs smoothly even with edge cases. try and except are the syntax we use in error handling. Let's create a function to demonstrate how this works.\n",
    "\n",
    "We start with a function that calculates the quotient of two numbers. There are two inputs of the function: nominator and denominator. The function works only when:\n",
    "\n",
    "- both inputs are numerical numbers\n",
    "- the denominator is not zero\n",
    " \n",
    "We can use try and except to make sure the function runs smoothly even with error inputs."
   ]
  },
  {
   "cell_type": "code",
   "execution_count": 10,
   "id": "bbff1860-db6c-4c25-a225-4bec8b6e093a",
   "metadata": {},
   "outputs": [],
   "source": [
    "def get_quotient(nominator, denominator):\n",
    "    try:\n",
    "        quotient = nominator / denominator\n",
    "        return quotient\n",
    "    except:  # noQA E722\n",
    "        return print(\"function not working\")"
   ]
  },
  {
   "cell_type": "code",
   "execution_count": 11,
   "id": "a596a63e-fcf6-41c6-91d4-c2c1121dcdf2",
   "metadata": {},
   "outputs": [
    {
     "data": {
      "text/plain": [
       "0.5"
      ]
     },
     "execution_count": 11,
     "metadata": {},
     "output_type": "execute_result"
    }
   ],
   "source": [
    "get_quotient(1,2)"
   ]
  },
  {
   "cell_type": "code",
   "execution_count": 2,
   "id": "a98bfcf4",
   "metadata": {},
   "outputs": [],
   "source": [
    "def get_quotient(nominator, denominator):\n",
    "    try:\n",
    "        quotient = nominator / denominator\n",
    "        return quotient\n",
    "    except Exception as e:\n",
    "        return print(e)"
   ]
  },
  {
   "cell_type": "code",
   "execution_count": 3,
   "id": "ebc9387b",
   "metadata": {},
   "outputs": [
    {
     "name": "stdout",
     "output_type": "stream",
     "text": [
      "division by zero\n"
     ]
    }
   ],
   "source": [
    "get_quotient(1,0)"
   ]
  },
  {
   "cell_type": "markdown",
   "id": "9c1f4170-8df2-4cd0-8418-df21b2e81c0a",
   "metadata": {},
   "source": [
    "### Create files using Context Manager"
   ]
  },
  {
   "cell_type": "markdown",
   "id": "6b0c767b-8079-4432-8658-0fe3d684d4eb",
   "metadata": {},
   "source": [
    "A context manager allows you to allocate and release resources precisely when you want to. The most widely used example of context managers is the with statement. Suppose you have two related operations which you would like to execute as a pair, with a block of code in between. Context managers allow you to do specifically that. For example:"
   ]
  },
  {
   "cell_type": "code",
   "execution_count": 12,
   "id": "762a8cb6-c887-42a8-bbe1-59b0ee788603",
   "metadata": {},
   "outputs": [],
   "source": [
    "with open(\"data/example.txt\", \"w\") as f:\n",
    "    f.write(\"Hello\")\n",
    "    f.write(\"\\n\")\n",
    "    f.write(\"Hola\")"
   ]
  },
  {
   "cell_type": "markdown",
   "id": "e362caba-91c3-4a6e-8c10-b8f95295c0ec",
   "metadata": {},
   "source": [
    "### Saving and Loading Files with joblib"
   ]
  },
  {
   "cell_type": "markdown",
   "id": "882cf98d-ca69-4c87-af73-0c0a54154529",
   "metadata": {},
   "source": [
    "We can also use joblib's dump and load functions to save and load data. Besides saving and loading data, we can also save and load trained models for later use. Let's say an example here. First, we import joblib and train a model for the iris dataset:"
   ]
  },
  {
   "cell_type": "code",
   "execution_count": 4,
   "id": "54fb9de6-c209-4100-90b6-dec86ce51072",
   "metadata": {},
   "outputs": [
    {
     "data": {
      "text/html": [
       "<style>#sk-container-id-1 {\n",
       "  /* Definition of color scheme common for light and dark mode */\n",
       "  --sklearn-color-text: black;\n",
       "  --sklearn-color-line: gray;\n",
       "  /* Definition of color scheme for unfitted estimators */\n",
       "  --sklearn-color-unfitted-level-0: #fff5e6;\n",
       "  --sklearn-color-unfitted-level-1: #f6e4d2;\n",
       "  --sklearn-color-unfitted-level-2: #ffe0b3;\n",
       "  --sklearn-color-unfitted-level-3: chocolate;\n",
       "  /* Definition of color scheme for fitted estimators */\n",
       "  --sklearn-color-fitted-level-0: #f0f8ff;\n",
       "  --sklearn-color-fitted-level-1: #d4ebff;\n",
       "  --sklearn-color-fitted-level-2: #b3dbfd;\n",
       "  --sklearn-color-fitted-level-3: cornflowerblue;\n",
       "\n",
       "  /* Specific color for light theme */\n",
       "  --sklearn-color-text-on-default-background: var(--sg-text-color, var(--theme-code-foreground, var(--jp-content-font-color1, black)));\n",
       "  --sklearn-color-background: var(--sg-background-color, var(--theme-background, var(--jp-layout-color0, white)));\n",
       "  --sklearn-color-border-box: var(--sg-text-color, var(--theme-code-foreground, var(--jp-content-font-color1, black)));\n",
       "  --sklearn-color-icon: #696969;\n",
       "\n",
       "  @media (prefers-color-scheme: dark) {\n",
       "    /* Redefinition of color scheme for dark theme */\n",
       "    --sklearn-color-text-on-default-background: var(--sg-text-color, var(--theme-code-foreground, var(--jp-content-font-color1, white)));\n",
       "    --sklearn-color-background: var(--sg-background-color, var(--theme-background, var(--jp-layout-color0, #111)));\n",
       "    --sklearn-color-border-box: var(--sg-text-color, var(--theme-code-foreground, var(--jp-content-font-color1, white)));\n",
       "    --sklearn-color-icon: #878787;\n",
       "  }\n",
       "}\n",
       "\n",
       "#sk-container-id-1 {\n",
       "  color: var(--sklearn-color-text);\n",
       "}\n",
       "\n",
       "#sk-container-id-1 pre {\n",
       "  padding: 0;\n",
       "}\n",
       "\n",
       "#sk-container-id-1 input.sk-hidden--visually {\n",
       "  border: 0;\n",
       "  clip: rect(1px 1px 1px 1px);\n",
       "  clip: rect(1px, 1px, 1px, 1px);\n",
       "  height: 1px;\n",
       "  margin: -1px;\n",
       "  overflow: hidden;\n",
       "  padding: 0;\n",
       "  position: absolute;\n",
       "  width: 1px;\n",
       "}\n",
       "\n",
       "#sk-container-id-1 div.sk-dashed-wrapped {\n",
       "  border: 1px dashed var(--sklearn-color-line);\n",
       "  margin: 0 0.4em 0.5em 0.4em;\n",
       "  box-sizing: border-box;\n",
       "  padding-bottom: 0.4em;\n",
       "  background-color: var(--sklearn-color-background);\n",
       "}\n",
       "\n",
       "#sk-container-id-1 div.sk-container {\n",
       "  /* jupyter's `normalize.less` sets `[hidden] { display: none; }`\n",
       "     but bootstrap.min.css set `[hidden] { display: none !important; }`\n",
       "     so we also need the `!important` here to be able to override the\n",
       "     default hidden behavior on the sphinx rendered scikit-learn.org.\n",
       "     See: https://github.com/scikit-learn/scikit-learn/issues/21755 */\n",
       "  display: inline-block !important;\n",
       "  position: relative;\n",
       "}\n",
       "\n",
       "#sk-container-id-1 div.sk-text-repr-fallback {\n",
       "  display: none;\n",
       "}\n",
       "\n",
       "div.sk-parallel-item,\n",
       "div.sk-serial,\n",
       "div.sk-item {\n",
       "  /* draw centered vertical line to link estimators */\n",
       "  background-image: linear-gradient(var(--sklearn-color-text-on-default-background), var(--sklearn-color-text-on-default-background));\n",
       "  background-size: 2px 100%;\n",
       "  background-repeat: no-repeat;\n",
       "  background-position: center center;\n",
       "}\n",
       "\n",
       "/* Parallel-specific style estimator block */\n",
       "\n",
       "#sk-container-id-1 div.sk-parallel-item::after {\n",
       "  content: \"\";\n",
       "  width: 100%;\n",
       "  border-bottom: 2px solid var(--sklearn-color-text-on-default-background);\n",
       "  flex-grow: 1;\n",
       "}\n",
       "\n",
       "#sk-container-id-1 div.sk-parallel {\n",
       "  display: flex;\n",
       "  align-items: stretch;\n",
       "  justify-content: center;\n",
       "  background-color: var(--sklearn-color-background);\n",
       "  position: relative;\n",
       "}\n",
       "\n",
       "#sk-container-id-1 div.sk-parallel-item {\n",
       "  display: flex;\n",
       "  flex-direction: column;\n",
       "}\n",
       "\n",
       "#sk-container-id-1 div.sk-parallel-item:first-child::after {\n",
       "  align-self: flex-end;\n",
       "  width: 50%;\n",
       "}\n",
       "\n",
       "#sk-container-id-1 div.sk-parallel-item:last-child::after {\n",
       "  align-self: flex-start;\n",
       "  width: 50%;\n",
       "}\n",
       "\n",
       "#sk-container-id-1 div.sk-parallel-item:only-child::after {\n",
       "  width: 0;\n",
       "}\n",
       "\n",
       "/* Serial-specific style estimator block */\n",
       "\n",
       "#sk-container-id-1 div.sk-serial {\n",
       "  display: flex;\n",
       "  flex-direction: column;\n",
       "  align-items: center;\n",
       "  background-color: var(--sklearn-color-background);\n",
       "  padding-right: 1em;\n",
       "  padding-left: 1em;\n",
       "}\n",
       "\n",
       "\n",
       "/* Toggleable style: style used for estimator/Pipeline/ColumnTransformer box that is\n",
       "clickable and can be expanded/collapsed.\n",
       "- Pipeline and ColumnTransformer use this feature and define the default style\n",
       "- Estimators will overwrite some part of the style using the `sk-estimator` class\n",
       "*/\n",
       "\n",
       "/* Pipeline and ColumnTransformer style (default) */\n",
       "\n",
       "#sk-container-id-1 div.sk-toggleable {\n",
       "  /* Default theme specific background. It is overwritten whether we have a\n",
       "  specific estimator or a Pipeline/ColumnTransformer */\n",
       "  background-color: var(--sklearn-color-background);\n",
       "}\n",
       "\n",
       "/* Toggleable label */\n",
       "#sk-container-id-1 label.sk-toggleable__label {\n",
       "  cursor: pointer;\n",
       "  display: block;\n",
       "  width: 100%;\n",
       "  margin-bottom: 0;\n",
       "  padding: 0.5em;\n",
       "  box-sizing: border-box;\n",
       "  text-align: center;\n",
       "}\n",
       "\n",
       "#sk-container-id-1 label.sk-toggleable__label-arrow:before {\n",
       "  /* Arrow on the left of the label */\n",
       "  content: \"▸\";\n",
       "  float: left;\n",
       "  margin-right: 0.25em;\n",
       "  color: var(--sklearn-color-icon);\n",
       "}\n",
       "\n",
       "#sk-container-id-1 label.sk-toggleable__label-arrow:hover:before {\n",
       "  color: var(--sklearn-color-text);\n",
       "}\n",
       "\n",
       "/* Toggleable content - dropdown */\n",
       "\n",
       "#sk-container-id-1 div.sk-toggleable__content {\n",
       "  max-height: 0;\n",
       "  max-width: 0;\n",
       "  overflow: hidden;\n",
       "  text-align: left;\n",
       "  /* unfitted */\n",
       "  background-color: var(--sklearn-color-unfitted-level-0);\n",
       "}\n",
       "\n",
       "#sk-container-id-1 div.sk-toggleable__content.fitted {\n",
       "  /* fitted */\n",
       "  background-color: var(--sklearn-color-fitted-level-0);\n",
       "}\n",
       "\n",
       "#sk-container-id-1 div.sk-toggleable__content pre {\n",
       "  margin: 0.2em;\n",
       "  border-radius: 0.25em;\n",
       "  color: var(--sklearn-color-text);\n",
       "  /* unfitted */\n",
       "  background-color: var(--sklearn-color-unfitted-level-0);\n",
       "}\n",
       "\n",
       "#sk-container-id-1 div.sk-toggleable__content.fitted pre {\n",
       "  /* unfitted */\n",
       "  background-color: var(--sklearn-color-fitted-level-0);\n",
       "}\n",
       "\n",
       "#sk-container-id-1 input.sk-toggleable__control:checked~div.sk-toggleable__content {\n",
       "  /* Expand drop-down */\n",
       "  max-height: 200px;\n",
       "  max-width: 100%;\n",
       "  overflow: auto;\n",
       "}\n",
       "\n",
       "#sk-container-id-1 input.sk-toggleable__control:checked~label.sk-toggleable__label-arrow:before {\n",
       "  content: \"▾\";\n",
       "}\n",
       "\n",
       "/* Pipeline/ColumnTransformer-specific style */\n",
       "\n",
       "#sk-container-id-1 div.sk-label input.sk-toggleable__control:checked~label.sk-toggleable__label {\n",
       "  color: var(--sklearn-color-text);\n",
       "  background-color: var(--sklearn-color-unfitted-level-2);\n",
       "}\n",
       "\n",
       "#sk-container-id-1 div.sk-label.fitted input.sk-toggleable__control:checked~label.sk-toggleable__label {\n",
       "  background-color: var(--sklearn-color-fitted-level-2);\n",
       "}\n",
       "\n",
       "/* Estimator-specific style */\n",
       "\n",
       "/* Colorize estimator box */\n",
       "#sk-container-id-1 div.sk-estimator input.sk-toggleable__control:checked~label.sk-toggleable__label {\n",
       "  /* unfitted */\n",
       "  background-color: var(--sklearn-color-unfitted-level-2);\n",
       "}\n",
       "\n",
       "#sk-container-id-1 div.sk-estimator.fitted input.sk-toggleable__control:checked~label.sk-toggleable__label {\n",
       "  /* fitted */\n",
       "  background-color: var(--sklearn-color-fitted-level-2);\n",
       "}\n",
       "\n",
       "#sk-container-id-1 div.sk-label label.sk-toggleable__label,\n",
       "#sk-container-id-1 div.sk-label label {\n",
       "  /* The background is the default theme color */\n",
       "  color: var(--sklearn-color-text-on-default-background);\n",
       "}\n",
       "\n",
       "/* On hover, darken the color of the background */\n",
       "#sk-container-id-1 div.sk-label:hover label.sk-toggleable__label {\n",
       "  color: var(--sklearn-color-text);\n",
       "  background-color: var(--sklearn-color-unfitted-level-2);\n",
       "}\n",
       "\n",
       "/* Label box, darken color on hover, fitted */\n",
       "#sk-container-id-1 div.sk-label.fitted:hover label.sk-toggleable__label.fitted {\n",
       "  color: var(--sklearn-color-text);\n",
       "  background-color: var(--sklearn-color-fitted-level-2);\n",
       "}\n",
       "\n",
       "/* Estimator label */\n",
       "\n",
       "#sk-container-id-1 div.sk-label label {\n",
       "  font-family: monospace;\n",
       "  font-weight: bold;\n",
       "  display: inline-block;\n",
       "  line-height: 1.2em;\n",
       "}\n",
       "\n",
       "#sk-container-id-1 div.sk-label-container {\n",
       "  text-align: center;\n",
       "}\n",
       "\n",
       "/* Estimator-specific */\n",
       "#sk-container-id-1 div.sk-estimator {\n",
       "  font-family: monospace;\n",
       "  border: 1px dotted var(--sklearn-color-border-box);\n",
       "  border-radius: 0.25em;\n",
       "  box-sizing: border-box;\n",
       "  margin-bottom: 0.5em;\n",
       "  /* unfitted */\n",
       "  background-color: var(--sklearn-color-unfitted-level-0);\n",
       "}\n",
       "\n",
       "#sk-container-id-1 div.sk-estimator.fitted {\n",
       "  /* fitted */\n",
       "  background-color: var(--sklearn-color-fitted-level-0);\n",
       "}\n",
       "\n",
       "/* on hover */\n",
       "#sk-container-id-1 div.sk-estimator:hover {\n",
       "  /* unfitted */\n",
       "  background-color: var(--sklearn-color-unfitted-level-2);\n",
       "}\n",
       "\n",
       "#sk-container-id-1 div.sk-estimator.fitted:hover {\n",
       "  /* fitted */\n",
       "  background-color: var(--sklearn-color-fitted-level-2);\n",
       "}\n",
       "\n",
       "/* Specification for estimator info (e.g. \"i\" and \"?\") */\n",
       "\n",
       "/* Common style for \"i\" and \"?\" */\n",
       "\n",
       ".sk-estimator-doc-link,\n",
       "a:link.sk-estimator-doc-link,\n",
       "a:visited.sk-estimator-doc-link {\n",
       "  float: right;\n",
       "  font-size: smaller;\n",
       "  line-height: 1em;\n",
       "  font-family: monospace;\n",
       "  background-color: var(--sklearn-color-background);\n",
       "  border-radius: 1em;\n",
       "  height: 1em;\n",
       "  width: 1em;\n",
       "  text-decoration: none !important;\n",
       "  margin-left: 1ex;\n",
       "  /* unfitted */\n",
       "  border: var(--sklearn-color-unfitted-level-1) 1pt solid;\n",
       "  color: var(--sklearn-color-unfitted-level-1);\n",
       "}\n",
       "\n",
       ".sk-estimator-doc-link.fitted,\n",
       "a:link.sk-estimator-doc-link.fitted,\n",
       "a:visited.sk-estimator-doc-link.fitted {\n",
       "  /* fitted */\n",
       "  border: var(--sklearn-color-fitted-level-1) 1pt solid;\n",
       "  color: var(--sklearn-color-fitted-level-1);\n",
       "}\n",
       "\n",
       "/* On hover */\n",
       "div.sk-estimator:hover .sk-estimator-doc-link:hover,\n",
       ".sk-estimator-doc-link:hover,\n",
       "div.sk-label-container:hover .sk-estimator-doc-link:hover,\n",
       ".sk-estimator-doc-link:hover {\n",
       "  /* unfitted */\n",
       "  background-color: var(--sklearn-color-unfitted-level-3);\n",
       "  color: var(--sklearn-color-background);\n",
       "  text-decoration: none;\n",
       "}\n",
       "\n",
       "div.sk-estimator.fitted:hover .sk-estimator-doc-link.fitted:hover,\n",
       ".sk-estimator-doc-link.fitted:hover,\n",
       "div.sk-label-container:hover .sk-estimator-doc-link.fitted:hover,\n",
       ".sk-estimator-doc-link.fitted:hover {\n",
       "  /* fitted */\n",
       "  background-color: var(--sklearn-color-fitted-level-3);\n",
       "  color: var(--sklearn-color-background);\n",
       "  text-decoration: none;\n",
       "}\n",
       "\n",
       "/* Span, style for the box shown on hovering the info icon */\n",
       ".sk-estimator-doc-link span {\n",
       "  display: none;\n",
       "  z-index: 9999;\n",
       "  position: relative;\n",
       "  font-weight: normal;\n",
       "  right: .2ex;\n",
       "  padding: .5ex;\n",
       "  margin: .5ex;\n",
       "  width: min-content;\n",
       "  min-width: 20ex;\n",
       "  max-width: 50ex;\n",
       "  color: var(--sklearn-color-text);\n",
       "  box-shadow: 2pt 2pt 4pt #999;\n",
       "  /* unfitted */\n",
       "  background: var(--sklearn-color-unfitted-level-0);\n",
       "  border: .5pt solid var(--sklearn-color-unfitted-level-3);\n",
       "}\n",
       "\n",
       ".sk-estimator-doc-link.fitted span {\n",
       "  /* fitted */\n",
       "  background: var(--sklearn-color-fitted-level-0);\n",
       "  border: var(--sklearn-color-fitted-level-3);\n",
       "}\n",
       "\n",
       ".sk-estimator-doc-link:hover span {\n",
       "  display: block;\n",
       "}\n",
       "\n",
       "/* \"?\"-specific style due to the `<a>` HTML tag */\n",
       "\n",
       "#sk-container-id-1 a.estimator_doc_link {\n",
       "  float: right;\n",
       "  font-size: 1rem;\n",
       "  line-height: 1em;\n",
       "  font-family: monospace;\n",
       "  background-color: var(--sklearn-color-background);\n",
       "  border-radius: 1rem;\n",
       "  height: 1rem;\n",
       "  width: 1rem;\n",
       "  text-decoration: none;\n",
       "  /* unfitted */\n",
       "  color: var(--sklearn-color-unfitted-level-1);\n",
       "  border: var(--sklearn-color-unfitted-level-1) 1pt solid;\n",
       "}\n",
       "\n",
       "#sk-container-id-1 a.estimator_doc_link.fitted {\n",
       "  /* fitted */\n",
       "  border: var(--sklearn-color-fitted-level-1) 1pt solid;\n",
       "  color: var(--sklearn-color-fitted-level-1);\n",
       "}\n",
       "\n",
       "/* On hover */\n",
       "#sk-container-id-1 a.estimator_doc_link:hover {\n",
       "  /* unfitted */\n",
       "  background-color: var(--sklearn-color-unfitted-level-3);\n",
       "  color: var(--sklearn-color-background);\n",
       "  text-decoration: none;\n",
       "}\n",
       "\n",
       "#sk-container-id-1 a.estimator_doc_link.fitted:hover {\n",
       "  /* fitted */\n",
       "  background-color: var(--sklearn-color-fitted-level-3);\n",
       "}\n",
       "</style><div id=\"sk-container-id-1\" class=\"sk-top-container\"><div class=\"sk-text-repr-fallback\"><pre>SVC()</pre><b>In a Jupyter environment, please rerun this cell to show the HTML representation or trust the notebook. <br />On GitHub, the HTML representation is unable to render, please try loading this page with nbviewer.org.</b></div><div class=\"sk-container\" hidden><div class=\"sk-item\"><div class=\"sk-estimator fitted sk-toggleable\"><input class=\"sk-toggleable__control sk-hidden--visually\" id=\"sk-estimator-id-1\" type=\"checkbox\" checked><label for=\"sk-estimator-id-1\" class=\"sk-toggleable__label fitted sk-toggleable__label-arrow fitted\">&nbsp;&nbsp;SVC<a class=\"sk-estimator-doc-link fitted\" rel=\"noreferrer\" target=\"_blank\" href=\"https://scikit-learn.org/1.5/modules/generated/sklearn.svm.SVC.html\">?<span>Documentation for SVC</span></a><span class=\"sk-estimator-doc-link fitted\">i<span>Fitted</span></span></label><div class=\"sk-toggleable__content fitted\"><pre>SVC()</pre></div> </div></div></div></div>"
      ],
      "text/plain": [
       "SVC()"
      ]
     },
     "execution_count": 4,
     "metadata": {},
     "output_type": "execute_result"
    }
   ],
   "source": [
    "from joblib import dump, load\n",
    "from sklearn import datasets, svm\n",
    "\n",
    "iris = datasets.load_iris()\n",
    "X, y = iris.data, iris.target\n",
    "\n",
    "clf = svm.SVC()\n",
    "clf.fit(X, y)"
   ]
  },
  {
   "cell_type": "code",
   "execution_count": 19,
   "id": "5ddb4326-f883-4061-addf-cc3e710b9406",
   "metadata": {},
   "outputs": [
    {
     "data": {
      "text/plain": [
       "['data/trained_model.pkl']"
      ]
     },
     "execution_count": 19,
     "metadata": {},
     "output_type": "execute_result"
    }
   ],
   "source": [
    "# Saving model to a path\n",
    "dump(clf, \"data/trained_model.pkl\")"
   ]
  },
  {
   "cell_type": "code",
   "execution_count": 20,
   "id": "e8a2604d-fea8-4998-9c2d-fe89865e49a1",
   "metadata": {},
   "outputs": [
    {
     "data": {
      "text/plain": [
       "memmap([0, 0, 0, 0, 0, 0, 0, 0, 0, 0, 0, 0, 0, 0, 0, 0, 0, 0, 0, 0, 0, 0,\n",
       "        0, 0, 0, 0, 0, 0, 0, 0, 0, 0, 0, 0, 0, 0, 0, 0, 0, 0, 0, 0, 0, 0,\n",
       "        0, 0, 0, 0, 0, 0, 1, 1, 1, 1, 1, 1, 1, 1, 1, 1, 1, 1, 1, 1, 1, 1,\n",
       "        1, 1, 1, 1, 1, 1, 1, 1, 1, 1, 1, 2, 1, 1, 1, 1, 1, 2, 1, 1, 1, 1,\n",
       "        1, 1, 1, 1, 1, 1, 1, 1, 1, 1, 1, 1, 2, 2, 2, 2, 2, 2, 1, 2, 2, 2,\n",
       "        2, 2, 2, 2, 2, 2, 2, 2, 2, 2, 2, 2, 2, 2, 2, 2, 2, 2, 2, 2, 2, 2,\n",
       "        2, 2, 2, 2, 2, 2, 1, 2, 2, 2, 2, 2, 2, 2, 2, 2, 2, 2])"
      ]
     },
     "execution_count": 20,
     "metadata": {},
     "output_type": "execute_result"
    }
   ],
   "source": [
    "# Load data from a path and make predictions again\n",
    "\n",
    "model = load(\"data/trained_model.pkl\", mmap_mode=\"r\")\n",
    "\n",
    "model.predict(X)"
   ]
  },
  {
   "cell_type": "markdown",
   "id": "36533acc-97cf-4580-ac59-236794681a45",
   "metadata": {},
   "source": [
    "### Working with Filepaths"
   ]
  },
  {
   "cell_type": "markdown",
   "id": "e746ddcd-d7af-4713-9743-6b853e6ee2f7",
   "metadata": {},
   "source": [
    "A filepath is a directory to a specific file. Python uses the os module to work with path names and access files in the local directory. Here are some common use cases of the os module:\n",
    "\n",
    "`os.getcwd()` points to the current working directory:"
   ]
  },
  {
   "cell_type": "markdown",
   "id": "75d3f0a9-3fbc-475d-b341-fb1d05cf1b42",
   "metadata": {},
   "source": [
    "### Testing Code"
   ]
  },
  {
   "cell_type": "markdown",
   "id": "f5048898-50f5-4595-89ad-5dc55f7bcd4a",
   "metadata": {},
   "source": [
    "Python has a very useful function isinstance that can be used to check the type of an object. The following example checks whether the object is an integer."
   ]
  },
  {
   "cell_type": "code",
   "execution_count": 24,
   "id": "2c5e0eb5-21ac-4187-9697-e16ba35a59c0",
   "metadata": {},
   "outputs": [
    {
     "data": {
      "text/plain": [
       "False"
      ]
     },
     "execution_count": 24,
     "metadata": {},
     "output_type": "execute_result"
    }
   ],
   "source": [
    "inputs = [1, 2]\n",
    "\n",
    "isinstance(any(inputs), str)"
   ]
  },
  {
   "cell_type": "code",
   "execution_count": 25,
   "id": "1b201464-719f-44d7-b7f7-53e512205ee7",
   "metadata": {},
   "outputs": [
    {
     "data": {
      "text/plain": [
       "True"
      ]
     },
     "execution_count": 25,
     "metadata": {},
     "output_type": "execute_result"
    }
   ],
   "source": [
    "isinstance(all(inputs), (int, float))"
   ]
  },
  {
   "cell_type": "markdown",
   "id": "97937a75-5bfa-4f0b-a327-f2a9008f8168",
   "metadata": {},
   "source": [
    "You can add an assert function to your code to make sure you are using the right input data before you run the code:"
   ]
  },
  {
   "cell_type": "code",
   "execution_count": 7,
   "id": "293336a0-2d1e-4dc9-8ba5-6a5cf2ef3fae",
   "metadata": {},
   "outputs": [],
   "source": [
    "assert isinstance(1, int)"
   ]
  },
  {
   "cell_type": "markdown",
   "id": "3e542a74-5141-4662-9faa-1a8f513880cb",
   "metadata": {},
   "source": [
    "If the statement after assert is True, the code will continue and nothing will be produced. If assert is False, then it will throw an error. You will use the error to debug your code."
   ]
  },
  {
   "cell_type": "markdown",
   "id": "f0c9f65b-2c20-4015-98a0-569de35b97da",
   "metadata": {},
   "source": [
    "Another function that is useful is hasattr, which checks what are the attributes for an object. The object can be a defined class, or a customized class. In the following example, I am checking whether the str class has the isupper and isstring attributes using hasattr. The function will return a boolean variable, either True or False:"
   ]
  },
  {
   "cell_type": "code",
   "execution_count": 28,
   "id": "588a3759-ca12-44a9-b7f6-b326d0084567",
   "metadata": {},
   "outputs": [
    {
     "data": {
      "text/plain": [
       "True"
      ]
     },
     "execution_count": 28,
     "metadata": {},
     "output_type": "execute_result"
    }
   ],
   "source": [
    "class Cat:\n",
    "    age = 3\n",
    "    name = \"Lily\"\n",
    "\n",
    "cat = Cat()\n",
    "\n",
    "hasattr(cat, \"age\")"
   ]
  },
  {
   "cell_type": "code",
   "execution_count": null,
   "id": "ba9da9a2-7270-49f7-8203-10729bca39a8",
   "metadata": {},
   "outputs": [],
   "source": []
  },
  {
   "cell_type": "code",
   "execution_count": null,
   "id": "5fc91e37-c6f8-428e-afaf-446bc9958564",
   "metadata": {},
   "outputs": [],
   "source": []
  },
  {
   "cell_type": "code",
   "execution_count": null,
   "id": "2d178045-9b89-4ffe-9ee0-925f75ef4efe",
   "metadata": {},
   "outputs": [],
   "source": []
  },
  {
   "cell_type": "code",
   "execution_count": null,
   "id": "57d8202a-8335-47c5-b530-4324eeac6ef0",
   "metadata": {},
   "outputs": [],
   "source": []
  },
  {
   "cell_type": "code",
   "execution_count": null,
   "id": "790a5507-b0fb-47e3-97c5-2132a1b20865",
   "metadata": {},
   "outputs": [],
   "source": []
  },
  {
   "cell_type": "code",
   "execution_count": null,
   "id": "93ea851e-1007-47ee-b7d2-565e6dbd280b",
   "metadata": {},
   "outputs": [],
   "source": []
  },
  {
   "cell_type": "code",
   "execution_count": null,
   "id": "1979cf17-dc00-4b66-ace6-93935d92b3f1",
   "metadata": {},
   "outputs": [],
   "source": []
  },
  {
   "cell_type": "code",
   "execution_count": null,
   "id": "fe0ecefe-f618-4ed5-8c43-3c1fc665628e",
   "metadata": {},
   "outputs": [],
   "source": []
  },
  {
   "cell_type": "code",
   "execution_count": null,
   "id": "7e545c42-2183-4670-a1c4-2620278db18a",
   "metadata": {},
   "outputs": [],
   "source": []
  },
  {
   "cell_type": "code",
   "execution_count": null,
   "id": "3f6035d2-10d5-4d09-b098-c97bd4cf3169",
   "metadata": {},
   "outputs": [],
   "source": []
  },
  {
   "cell_type": "code",
   "execution_count": null,
   "id": "90140328-1942-4792-892e-bd06a8d99745",
   "metadata": {},
   "outputs": [],
   "source": []
  },
  {
   "cell_type": "code",
   "execution_count": null,
   "id": "b4897565-d8ed-4b8c-b9e9-acc9b0f17efc",
   "metadata": {},
   "outputs": [],
   "source": []
  },
  {
   "cell_type": "code",
   "execution_count": null,
   "id": "f1048d20-b1ff-4810-a839-4289e207ddb4",
   "metadata": {},
   "outputs": [],
   "source": []
  },
  {
   "cell_type": "code",
   "execution_count": null,
   "id": "73d5ecd3-6496-4246-827a-66e05a03ccd3",
   "metadata": {},
   "outputs": [],
   "source": []
  },
  {
   "cell_type": "code",
   "execution_count": null,
   "id": "c63ee966-5f33-4887-8d62-8abaceaad2c6",
   "metadata": {},
   "outputs": [],
   "source": []
  }
 ],
 "metadata": {
  "kernelspec": {
   "display_name": "quant",
   "language": "python",
   "name": "python3"
  },
  "language_info": {
   "codemirror_mode": {
    "name": "ipython",
    "version": 3
   },
   "file_extension": ".py",
   "mimetype": "text/x-python",
   "name": "python",
   "nbconvert_exporter": "python",
   "pygments_lexer": "ipython3",
   "version": "3.9.7"
  }
 },
 "nbformat": 4,
 "nbformat_minor": 5
}
