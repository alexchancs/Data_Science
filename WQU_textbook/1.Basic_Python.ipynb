{
 "cells": [
  {
   "cell_type": "markdown",
   "id": "454a2ea1-663a-4624-aa2a-51c7922fca48",
   "metadata": {},
   "source": [
    "Data Types\n",
    "There are lots of different types of data in the world, and Python groups that data into several categories.\n",
    "\n",
    "Boolean (bool):\n",
    "\n",
    "Any data which can be expressed as either True or False.\n",
    "Used when comparing two values. For example, if you enter 10 > 9, Python will return True.\n",
    "\n",
    "String (str):\n",
    "\n",
    "Data that involves text — either letters, numbers, or special characters.\n",
    "Strings are enclosed in either single- or double-quotation marks: \"string-1\" or 'string-2'.\n",
    "\n",
    "Numeric (int, float, complex):\n",
    "\n",
    "Data that can be expressed numerically.\n",
    "An integer, or int, is a whole number, positive or negative, without decimals, of unlimited length: 123.\n",
    "A floating-point number, or float, is a number, positive or negative, containing one or more decimals: 123.01.\n",
    "A complex number, or complex, are imaginary numbers, designated by a j: (3 + 6j).\n",
    "\n",
    "Sequence (list, tuple, set):\n",
    "\n",
    "Data that is a collection of discrete items.\n",
    "A list is collection that is ordered and changeable. It's designated using square brackets [], and items can be of different data types: [\"red\", 1, 1.03, 1].\n",
    "A tuple is a collection which is ordered and unchangeable. It's designated using parentheses (): (\"red\", 1, 1.03, 1).\n",
    "A set is a collection which is unordered, unchangeable, and does not permit duplicate items. It's designated using curly brackets {}: {\"red\", 1, 1.03}.\n",
    "\n",
    "Mapping (dict):\n",
    "\n",
    "Dictionaries store data in key-value pairs. They're designated using curly brackets {}, like a set, but notice that keys and values are associated with each other using a colon :. Each pair is separated from the next using a comma ,.\n",
    "dict1 = {\n",
    "    \"department\": \"quindio\", \n",
    "    \"property_type\": \"house\", \n",
    "    \"price_usd\": 330899.98\n",
    "}\n",
    "\n",
    "Binary (bytes, bytearray, memoryview):\n",
    "\n",
    "Used to manipulate and display binary data. That is, data that can be expressed with integers represented with base 2.\n",
    "Unlike the other data types described above, binary types are not human-readable."
   ]
  },
  {
   "cell_type": "markdown",
   "id": "93293824-99c8-4fcc-83b6-ee19c80cd892",
   "metadata": {},
   "source": [
    "### Zipping Items\n",
    "\n",
    "Finally, it might be useful to combine -- or zip -- two lists together. For example, we might want to create a new list that pairs the values in our price_usd list with our area_m2 list. To do that, we use the zip method. The code looks like this:\n",
    "\n",
    "You might have noticed that the above code involving putting one list (in this case, new_list) inside another list (in this case, list). This approach is called a generator, and we'll come back to what that is and how it works later in the course."
   ]
  },
  {
   "cell_type": "code",
   "execution_count": 1,
   "id": "85bf09cf-4016-4dc5-923a-a2c81c9c858a",
   "metadata": {},
   "outputs": [
    {
     "name": "stdout",
     "output_type": "stream",
     "text": [
      "[(400000000.0, 235.0), (850000000.0, 130.0), (475000000.0, 137.0)]\n"
     ]
    }
   ],
   "source": [
    "area_m2 = [235.0, 130.0, 137.0]\n",
    "price_usd = [400000000.0, 850000000.0, 475000000.0]\n",
    "new_list = zip(price_usd, area_m2)\n",
    "zipped_list = list(new_list)\n",
    "print(zipped_list)"
   ]
  },
  {
   "cell_type": "markdown",
   "id": "f4f30b79-adec-47b1-b874-838c0bde2ab5",
   "metadata": {},
   "source": [
    "### Python Dictionaries"
   ]
  },
  {
   "cell_type": "markdown",
   "id": "201c4158-5be0-47f0-acc1-af6805ea87ef",
   "metadata": {},
   "source": [
    "In Python, a dictionary is a collection of data that occurs in an order, is able to be changed, and does not allow duplicates. Data in a dictionary are always presented as keys and values, and those key-value pairs cannot be duplicated in the dataset."
   ]
  },
  {
   "cell_type": "code",
   "execution_count": 2,
   "id": "78663e74-b6dc-4791-b12e-e23f3d2c10c4",
   "metadata": {},
   "outputs": [],
   "source": [
    "colomdict = {\n",
    "    \"property_type\": \"house\",\n",
    "    \"department\": \"quindio\",\n",
    "    \"area\": 235.0,\n",
    "}"
   ]
  },
  {
   "cell_type": "code",
   "execution_count": 3,
   "id": "14bd4f98-c987-4e0a-9555-69c2339758c5",
   "metadata": {},
   "outputs": [
    {
     "name": "stdout",
     "output_type": "stream",
     "text": [
      "quindio\n"
     ]
    }
   ],
   "source": [
    "x = colomdict[\"department\"]\n",
    "print(x)"
   ]
  },
  {
   "cell_type": "code",
   "execution_count": 4,
   "id": "a1382619-acc7-418a-bda3-84cf53c72793",
   "metadata": {},
   "outputs": [
    {
     "name": "stdout",
     "output_type": "stream",
     "text": [
      "quindio\n"
     ]
    }
   ],
   "source": [
    "x = colomdict.get(\"department\")\n",
    "print(x)"
   ]
  },
  {
   "cell_type": "code",
   "execution_count": 5,
   "id": "f6716dbf-f18f-4e83-9e1b-be54f2c8027d",
   "metadata": {},
   "outputs": [
    {
     "data": {
      "text/plain": [
       "dict_keys(['property_type', 'department', 'area'])"
      ]
     },
     "execution_count": 5,
     "metadata": {},
     "output_type": "execute_result"
    }
   ],
   "source": [
    "colomdict.keys()"
   ]
  },
  {
   "cell_type": "code",
   "execution_count": 6,
   "id": "b2628fe0-d011-45c2-9a90-d9ba2cb8a8bd",
   "metadata": {},
   "outputs": [
    {
     "data": {
      "text/plain": [
       "['property_type', 'department', 'area']"
      ]
     },
     "execution_count": 6,
     "metadata": {},
     "output_type": "execute_result"
    }
   ],
   "source": [
    "list(colomdict.keys())"
   ]
  },
  {
   "cell_type": "code",
   "execution_count": 7,
   "id": "04f013b8-fc8a-4d33-910f-ef0880232413",
   "metadata": {},
   "outputs": [
    {
     "name": "stdout",
     "output_type": "stream",
     "text": [
      "property_type\n",
      "department\n",
      "area\n"
     ]
    }
   ],
   "source": [
    "for k in colomdict.keys():\n",
    "    print(k)"
   ]
  },
  {
   "cell_type": "markdown",
   "id": "b9d2855f-303b-4e49-9a76-1cb85f14ac39",
   "metadata": {},
   "source": [
    "### JSON"
   ]
  },
  {
   "cell_type": "markdown",
   "id": "972e4c0e-2987-4e9a-a414-2ac7a4b74cdd",
   "metadata": {},
   "source": [
    "JSON stands for Java Script Object Notation, and it's a text format for storing and transporting data."
   ]
  },
  {
   "cell_type": "markdown",
   "id": "b5f7adbe-1ba0-4a30-96f1-131804b0e839",
   "metadata": {},
   "source": [
    "JSON works by creating key-value pairs, where the key is data that can be represented by letters (called a string). JSON values can be strings, numbers, objects, arrays, boolean data, or null. JSON usually comes as a list of dictionaries, which look like this:"
   ]
  },
  {
   "cell_type": "code",
   "execution_count": 9,
   "id": "a4295860-55c3-4703-a245-a4c07b473448",
   "metadata": {},
   "outputs": [
    {
     "data": {
      "text/plain": [
       "[{'property_type': 'house', 'department': 'bogota'},\n",
       " {'property_type': 'house', 'department': 'bogota'},\n",
       " {'property_type': 'house', 'department': 'bogota'}]"
      ]
     },
     "execution_count": 9,
     "metadata": {},
     "output_type": "execute_result"
    }
   ],
   "source": [
    "[\n",
    "    {\"property_type\": \"house\", \"department\": \"bogota\"},\n",
    "    {\"property_type\": \"house\", \"department\": \"bogota\"},\n",
    "    {\"property_type\": \"house\", \"department\": \"bogota\"},\n",
    "]"
   ]
  },
  {
   "cell_type": "code",
   "execution_count": 10,
   "id": "965b5318-8bdb-4bb1-8195-7b415c7f899f",
   "metadata": {},
   "outputs": [
    {
     "data": {
      "text/plain": [
       "{'property_type': 'house', 'price_usd': 330899.98}"
      ]
     },
     "execution_count": 10,
     "metadata": {},
     "output_type": "execute_result"
    }
   ],
   "source": [
    "{\"property_type\": \"house\", \"price_usd\": 330899.98}"
   ]
  },
  {
   "cell_type": "code",
   "execution_count": null,
   "id": "9e4ca91e-c38b-4fe1-ba5b-908f44527814",
   "metadata": {},
   "outputs": [],
   "source": []
  },
  {
   "cell_type": "code",
   "execution_count": null,
   "id": "d7f1256d-53b3-4868-b22a-73a3c7587229",
   "metadata": {},
   "outputs": [],
   "source": []
  },
  {
   "cell_type": "code",
   "execution_count": null,
   "id": "b35694ef-2e32-400c-8a5c-1b9342cabc1d",
   "metadata": {},
   "outputs": [],
   "source": []
  },
  {
   "cell_type": "code",
   "execution_count": null,
   "id": "5aaf11ed-6436-4131-b117-3f3ac2a14dc8",
   "metadata": {},
   "outputs": [],
   "source": []
  },
  {
   "cell_type": "code",
   "execution_count": null,
   "id": "46f9afb3-f971-4600-8d83-d86b49c586d1",
   "metadata": {},
   "outputs": [],
   "source": []
  },
  {
   "cell_type": "code",
   "execution_count": null,
   "id": "4e7124a6-431a-40b7-acc4-a0035c698567",
   "metadata": {},
   "outputs": [],
   "source": []
  }
 ],
 "metadata": {
  "kernelspec": {
   "display_name": "Python 3 (ipykernel)",
   "language": "python",
   "name": "python3"
  },
  "language_info": {
   "codemirror_mode": {
    "name": "ipython",
    "version": 3
   },
   "file_extension": ".py",
   "mimetype": "text/x-python",
   "name": "python",
   "nbconvert_exporter": "python",
   "pygments_lexer": "ipython3",
   "version": "3.9.19"
  }
 },
 "nbformat": 4,
 "nbformat_minor": 5
}
