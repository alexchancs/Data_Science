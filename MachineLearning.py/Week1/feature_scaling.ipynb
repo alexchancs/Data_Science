{
 "cells": [
  {
   "cell_type": "markdown",
   "metadata": {},
   "source": [
    "### Feature scaling and learning rate (multi-variable)\n",
    "\n",
    "- Utilize the multiple variables routines developed in the previous lab\n",
    "- Run Gradient Descent on a data set with multiple features\n",
    "- Explore the impact of the learning rate alpha on gradient descent\n",
    "- Improve performance of gradient descent by feature scaling using z-score normalization"
   ]
  },
  {
   "cell_type": "code",
   "execution_count": 1,
   "metadata": {},
   "outputs": [],
   "source": [
    "import numpy as np\n",
    "import matplotlib.pyplot as plt"
   ]
  },
  {
   "cell_type": "markdown",
   "metadata": {},
   "source": [
    "Problem \n",
    "- The training data set contains many examples with 4 features (size, bedrooms, floors and age) shown in the table below. Note, in this lab, the Size feature is in sqft while earlier labs utilized 1000 sqft.  This data set is larger than the previous lab.\n",
    "\n",
    "We would like to build a linear regression model using these values so we can then predict the price for other houses - say, a house with 1200 sqft, 3 bedrooms, 1 floor, 40 years old. \n",
    "\n",
    "##  Dataset: \n",
    "| Size (sqft) | Number of Bedrooms  | Number of floors | Age of  Home | Price (1000s dollars)  |   \n",
    "| ----------------| ------------------- |----------------- |--------------|----------------------- |  \n",
    "| 952             | 2                   | 1                | 65           | 271.5                  |  \n",
    "| 1244            | 3                   | 2                | 64           | 232                    |  \n",
    "| 1947            | 3                   | 2                | 17           | 509.8                  |  \n",
    "| ...             | ...                 | ...              | ...          | ...                    |\n"
   ]
  },
  {
   "cell_type": "code",
   "execution_count": 2,
   "metadata": {},
   "outputs": [
    {
     "ename": "SyntaxError",
     "evalue": "invalid syntax (2260370974.py, line 3)",
     "output_type": "error",
     "traceback": [
      "\u001b[0;36m  Cell \u001b[0;32mIn[2], line 3\u001b[0;36m\u001b[0m\n\u001b[0;31m    data = [[1.24e+03 3.00e+00 1.00e+00 6.40e+01],\u001b[0m\n\u001b[0m                      ^\u001b[0m\n\u001b[0;31mSyntaxError\u001b[0m\u001b[0;31m:\u001b[0m invalid syntax\n"
     ]
    }
   ],
   "source": [
    "import csv\n",
    "\n",
    "data = [[1.24e+03 3.00e+00 1.00e+00 6.40e+01],\n",
    " [1.95e+03 3.00e+00 2.00e+00 1.70e+01],\n",
    " [1.72e+03 3.00e+00 2.00e+00 4.20e+01],\n",
    " [1.96e+03 3.00e+00 2.00e+00 1.50e+01],\n",
    " [1.31e+03 2.00e+00 1.00e+00 1.40e+01],\n",
    " [8.64e+02 2.00e+00 1.00e+00 6.60e+01],\n",
    " [1.84e+03 3.00e+00 1.00e+00 1.70e+01],\n",
    " [1.03e+03 3.00e+00 1.00e+00 4.30e+01],\n",
    " [3.19e+03 4.00e+00 2.00e+00 8.70e+01],\n",
    " [7.88e+02 2.00e+00 1.00e+00 8.00e+01],\n",
    " [1.20e+03 2.00e+00 2.00e+00 1.70e+01],\n",
    " [1.56e+03 2.00e+00 1.00e+00 1.80e+01],\n",
    " [1.43e+03 3.00e+00 1.00e+00 2.00e+01],\n",
    " [1.22e+03 2.00e+00 1.00e+00 1.50e+01],\n",
    " [1.09e+03 2.00e+00 1.00e+00 6.40e+01],\n",
    " [8.48e+02 1.00e+00 1.00e+00 1.70e+01],\n",
    " [1.68e+03 3.00e+00 2.00e+00 2.30e+01],\n",
    " [1.77e+03 3.00e+00 2.00e+00 1.80e+01],\n",
    " [1.04e+03 3.00e+00 1.00e+00 4.40e+01],\n",
    " [1.65e+03 2.00e+00 1.00e+00 2.10e+01],\n",
    " [1.09e+03 2.00e+00 1.00e+00 3.50e+01],\n",
    " [1.32e+03 3.00e+00 1.00e+00 1.40e+01],\n",
    " [1.59e+03 0.00e+00 1.00e+00 2.00e+01],\n",
    " [9.72e+02 2.00e+00 1.00e+00 7.30e+01],\n",
    " [1.10e+03 3.00e+00 1.00e+00 3.70e+01],\n",
    " [1.00e+03 2.00e+00 1.00e+00 5.10e+01],\n",
    " [9.04e+02 3.00e+00 1.00e+00 5.50e+01],\n",
    " [1.69e+03 3.00e+00 1.00e+00 1.30e+01],\n",
    " [1.07e+03 2.00e+00 1.00e+00 1.00e+02],\n",
    " [1.42e+03 3.00e+00 2.00e+00 1.90e+01],\n",
    " [1.16e+03 3.00e+00 1.00e+00 5.20e+01],\n",
    " [1.94e+03 3.00e+00 2.00e+00 1.20e+01],\n",
    " [1.22e+03 2.00e+00 2.00e+00 7.40e+01],\n",
    " [2.48e+03 4.00e+00 2.00e+00 1.60e+01],\n",
    " [1.20e+03 2.00e+00 1.00e+00 1.80e+01],\n",
    " [1.84e+03 3.00e+00 2.00e+00 2.00e+01],\n",
    " [1.85e+03 3.00e+00 2.00e+00 5.70e+01],\n",
    " [1.66e+03 3.00e+00 2.00e+00 1.90e+01],\n",
    " [1.10e+03 2.00e+00 2.00e+00 9.70e+01],\n",
    " [1.78e+03 3.00e+00 2.00e+00 2.80e+01],\n",
    " [2.03e+03 4.00e+00 2.00e+00 4.50e+01],\n",
    " [1.78e+03 4.00e+00 2.00e+00 1.07e+02],\n",
    " [1.07e+03 2.00e+00 1.00e+00 1.00e+02],\n",
    " [1.55e+03 3.00e+00 1.00e+00 1.60e+01],\n",
    " [1.95e+03 3.00e+00 2.00e+00 1.60e+01],\n",
    " [1.22e+03 2.00e+00 2.00e+00 1.20e+01],\n",
    " [1.62e+03 3.00e+00 1.00e+00 1.60e+01],\n",
    " [8.16e+02 2.00e+00 1.00e+00 5.80e+01],\n",
    " [1.35e+03 3.00e+00 1.00e+00 2.10e+01],\n",
    " [1.57e+03 3.00e+00 1.00e+00 1.40e+01],\n",
    " [1.49e+03 3.00e+00 1.00e+00 5.70e+01],\n",
    " [1.51e+03 2.00e+00 1.00e+00 1.60e+01],\n",
    " [1.10e+03 3.00e+00 1.00e+00 2.70e+01],\n",
    " [1.76e+03 3.00e+00 2.00e+00 2.40e+01],\n",
    " [1.21e+03 2.00e+00 1.00e+00 1.40e+01],\n",
    " [1.47e+03 3.00e+00 2.00e+00 2.40e+01],\n",
    " [1.77e+03 3.00e+00 2.00e+00 8.40e+01],\n",
    " [1.65e+03 3.00e+00 1.00e+00 1.90e+01],\n",
    " [1.03e+03 3.00e+00 1.00e+00 6.00e+01],\n",
    " [1.12e+03 2.00e+00 2.00e+00 1.60e+01],\n",
    " [1.15e+03 3.00e+00 1.00e+00 6.20e+01],\n",
    " [8.16e+02 2.00e+00 1.00e+00 3.90e+01],\n",
    " [1.04e+03 3.00e+00 1.00e+00 2.50e+01],\n",
    " [1.39e+03 3.00e+00 1.00e+00 6.40e+01],\n",
    " [1.60e+03 3.00e+00 2.00e+00 2.90e+01],\n",
    " [1.22e+03 3.00e+00 1.00e+00 6.30e+01],\n",
    " [1.07e+03 2.00e+00 1.00e+00 1.00e+02],\n",
    " [2.60e+03 4.00e+00 2.00e+00 2.20e+01],\n",
    " [1.43e+03 3.00e+00 1.00e+00 5.90e+01],\n",
    " [2.09e+03 3.00e+00 2.00e+00 2.60e+01],\n",
    " [1.79e+03 4.00e+00 2.00e+00 4.90e+01],\n",
    " [1.48e+03 3.00e+00 2.00e+00 1.60e+01],\n",
    " [1.04e+03 3.00e+00 1.00e+00 2.50e+01],\n",
    " [1.43e+03 3.00e+00 1.00e+00 2.20e+01],\n",
    " [1.16e+03 3.00e+00 1.00e+00 5.30e+01],\n",
    " [1.55e+03 3.00e+00 2.00e+00 1.20e+01],\n",
    " [1.98e+03 3.00e+00 2.00e+00 2.20e+01],\n",
    " [1.06e+03 3.00e+00 1.00e+00 5.30e+01],\n",
    " [1.18e+03 2.00e+00 1.00e+00 9.90e+01],\n",
    " [1.36e+03 2.00e+00 1.00e+00 1.70e+01],\n",
    " [9.60e+02 3.00e+00 1.00e+00 5.10e+01],\n",
    " [1.46e+03 3.00e+00 2.00e+00 1.60e+01],\n",
    " [1.45e+03 3.00e+00 2.00e+00 2.50e+01],\n",
    " [1.21e+03 2.00e+00 1.00e+00 1.50e+01],\n",
    " [1.55e+03 3.00e+00 2.00e+00 1.60e+01],\n",
    " [8.82e+02 3.00e+00 1.00e+00 4.90e+01],\n",
    " [2.03e+03 4.00e+00 2.00e+00 4.50e+01],\n",
    " [1.04e+03 3.00e+00 1.00e+00 6.20e+01],\n",
    " [1.62e+03 3.00e+00 1.00e+00 1.60e+01],\n",
    " [8.03e+02 2.00e+00 1.00e+00 8.00e+01],\n",
    " [1.43e+03 3.00e+00 2.00e+00 2.10e+01],\n",
    " [1.66e+03 3.00e+00 1.00e+00 6.10e+01],\n",
    " [1.54e+03 3.00e+00 1.00e+00 1.60e+01],\n",
    " [9.48e+02 3.00e+00 1.00e+00 5.30e+01],\n",
    " [1.22e+03 2.00e+00 2.00e+00 1.20e+01],\n",
    " [1.43e+03 2.00e+00 1.00e+00 4.30e+01],\n",
    " [1.66e+03 3.00e+00 2.00e+00 1.90e+01],\n",
    " [1.21e+03 3.00e+00 1.00e+00 2.00e+01],\n",
    " [1.05e+03 2.00e+00 1.00e+00 6.50e+01]]\n",
    "\n",
    "csv_file = 'house_data.csv'\n",
    "\n",
    "with open(csv_file, mode = 'w', newline = '') as file:\n",
    "    writer = csv.writer(file)\n",
    "    writer.writerow(['size(sqft)','bedrooms','floors','age'])\n",
    "    writer.writerows(data)\n",
    "\n",
    "\n",
    "\n",
    "\n",
    "\n",
    "\n",
    "\n"
   ]
  },
  {
   "cell_type": "code",
   "execution_count": null,
   "metadata": {},
   "outputs": [],
   "source": [
    "\n"
   ]
  },
  {
   "cell_type": "code",
   "execution_count": null,
   "metadata": {},
   "outputs": [],
   "source": []
  },
  {
   "cell_type": "code",
   "execution_count": null,
   "metadata": {},
   "outputs": [],
   "source": []
  },
  {
   "cell_type": "code",
   "execution_count": null,
   "metadata": {},
   "outputs": [],
   "source": []
  },
  {
   "cell_type": "code",
   "execution_count": null,
   "metadata": {},
   "outputs": [],
   "source": []
  },
  {
   "cell_type": "code",
   "execution_count": null,
   "metadata": {},
   "outputs": [],
   "source": []
  }
 ],
 "metadata": {
  "kernelspec": {
   "display_name": "quant",
   "language": "python",
   "name": "python3"
  },
  "language_info": {
   "codemirror_mode": {
    "name": "ipython",
    "version": 3
   },
   "file_extension": ".py",
   "mimetype": "text/x-python",
   "name": "python",
   "nbconvert_exporter": "python",
   "pygments_lexer": "ipython3",
   "version": "3.9.7"
  }
 },
 "nbformat": 4,
 "nbformat_minor": 2
}
