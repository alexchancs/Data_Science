{
 "cells": [
  {
   "cell_type": "markdown",
   "id": "19080af7-5b16-4684-ad7c-b8ae90ba9028",
   "metadata": {},
   "source": [
    "### Calculate Summary Statistics for a DataFrame or Series"
   ]
  },
  {
   "cell_type": "code",
   "execution_count": 1,
   "id": "786a000d-9b43-461e-86a8-aa26765f5ae4",
   "metadata": {},
   "outputs": [
    {
     "data": {
      "text/html": [
       "<div>\n",
       "<style scoped>\n",
       "    .dataframe tbody tr th:only-of-type {\n",
       "        vertical-align: middle;\n",
       "    }\n",
       "\n",
       "    .dataframe tbody tr th {\n",
       "        vertical-align: top;\n",
       "    }\n",
       "\n",
       "    .dataframe thead th {\n",
       "        text-align: right;\n",
       "    }\n",
       "</style>\n",
       "<table border=\"1\" class=\"dataframe\">\n",
       "  <thead>\n",
       "    <tr style=\"text-align: right;\">\n",
       "      <th></th>\n",
       "      <th>property_type</th>\n",
       "      <th>department</th>\n",
       "      <th>lat-lon</th>\n",
       "      <th>area_m2</th>\n",
       "      <th>price_usd</th>\n",
       "    </tr>\n",
       "  </thead>\n",
       "  <tbody>\n",
       "    <tr>\n",
       "      <th>0</th>\n",
       "      <td>house</td>\n",
       "      <td>A</td>\n",
       "      <td>4.69,-74.048</td>\n",
       "      <td>187.0</td>\n",
       "      <td>330899.98</td>\n",
       "    </tr>\n",
       "    <tr>\n",
       "      <th>1</th>\n",
       "      <td>house</td>\n",
       "      <td>C</td>\n",
       "      <td>4.695,-74.082</td>\n",
       "      <td>82.0</td>\n",
       "      <td>121555.09</td>\n",
       "    </tr>\n",
       "    <tr>\n",
       "      <th>2</th>\n",
       "      <td>house</td>\n",
       "      <td>A</td>\n",
       "      <td>4.535,-75.676</td>\n",
       "      <td>235.0</td>\n",
       "      <td>219474.47</td>\n",
       "    </tr>\n",
       "    <tr>\n",
       "      <th>3</th>\n",
       "      <td>house</td>\n",
       "      <td>C</td>\n",
       "      <td>4.62,-74.129</td>\n",
       "      <td>195.0</td>\n",
       "      <td>97919.38</td>\n",
       "    </tr>\n",
       "    <tr>\n",
       "      <th>4</th>\n",
       "      <td>house</td>\n",
       "      <td>C</td>\n",
       "      <td>4.62,123.23</td>\n",
       "      <td>NaN</td>\n",
       "      <td>97919.38</td>\n",
       "    </tr>\n",
       "  </tbody>\n",
       "</table>\n",
       "</div>"
      ],
      "text/plain": [
       "  property_type department        lat-lon  area_m2  price_usd\n",
       "0         house          A   4.69,-74.048    187.0  330899.98\n",
       "1         house          C  4.695,-74.082     82.0  121555.09\n",
       "2         house          A  4.535,-75.676    235.0  219474.47\n",
       "3         house          C   4.62,-74.129    195.0   97919.38\n",
       "4         house          C    4.62,123.23      NaN   97919.38"
      ]
     },
     "execution_count": 1,
     "metadata": {},
     "output_type": "execute_result"
    }
   ],
   "source": [
    "import pandas as pd\n",
    "\n",
    "mexico_city1 = pd.read_csv(\"./data/mexico-city-real-estate-1.csv\")\n",
    "mexico_city1.head()"
   ]
  },
  {
   "cell_type": "code",
   "execution_count": 2,
   "id": "d2e04e1a-a503-40aa-a536-9eb808862d64",
   "metadata": {},
   "outputs": [
    {
     "data": {
      "text/html": [
       "<div>\n",
       "<style scoped>\n",
       "    .dataframe tbody tr th:only-of-type {\n",
       "        vertical-align: middle;\n",
       "    }\n",
       "\n",
       "    .dataframe tbody tr th {\n",
       "        vertical-align: top;\n",
       "    }\n",
       "\n",
       "    .dataframe thead th {\n",
       "        text-align: right;\n",
       "    }\n",
       "</style>\n",
       "<table border=\"1\" class=\"dataframe\">\n",
       "  <thead>\n",
       "    <tr style=\"text-align: right;\">\n",
       "      <th></th>\n",
       "      <th>area_m2</th>\n",
       "      <th>price_usd</th>\n",
       "    </tr>\n",
       "  </thead>\n",
       "  <tbody>\n",
       "    <tr>\n",
       "      <th>count</th>\n",
       "      <td>4.000000</td>\n",
       "      <td>5.000000</td>\n",
       "    </tr>\n",
       "    <tr>\n",
       "      <th>mean</th>\n",
       "      <td>174.750000</td>\n",
       "      <td>173553.660000</td>\n",
       "    </tr>\n",
       "    <tr>\n",
       "      <th>std</th>\n",
       "      <td>65.301225</td>\n",
       "      <td>101256.512276</td>\n",
       "    </tr>\n",
       "    <tr>\n",
       "      <th>min</th>\n",
       "      <td>82.000000</td>\n",
       "      <td>97919.380000</td>\n",
       "    </tr>\n",
       "    <tr>\n",
       "      <th>25%</th>\n",
       "      <td>160.750000</td>\n",
       "      <td>97919.380000</td>\n",
       "    </tr>\n",
       "    <tr>\n",
       "      <th>50%</th>\n",
       "      <td>191.000000</td>\n",
       "      <td>121555.090000</td>\n",
       "    </tr>\n",
       "    <tr>\n",
       "      <th>75%</th>\n",
       "      <td>205.000000</td>\n",
       "      <td>219474.470000</td>\n",
       "    </tr>\n",
       "    <tr>\n",
       "      <th>max</th>\n",
       "      <td>235.000000</td>\n",
       "      <td>330899.980000</td>\n",
       "    </tr>\n",
       "  </tbody>\n",
       "</table>\n",
       "</div>"
      ],
      "text/plain": [
       "          area_m2      price_usd\n",
       "count    4.000000       5.000000\n",
       "mean   174.750000  173553.660000\n",
       "std     65.301225  101256.512276\n",
       "min     82.000000   97919.380000\n",
       "25%    160.750000   97919.380000\n",
       "50%    191.000000  121555.090000\n",
       "75%    205.000000  219474.470000\n",
       "max    235.000000  330899.980000"
      ]
     },
     "execution_count": 2,
     "metadata": {},
     "output_type": "execute_result"
    }
   ],
   "source": [
    "mexico_city1.describe()"
   ]
  },
  {
   "cell_type": "markdown",
   "id": "a73ffb29-9959-49df-aba1-3e1fa068e8e2",
   "metadata": {},
   "source": [
    "Like most large datasets, this one has many values which are missing. The describe function will ignore missing values in each column. You can also remove rows and columns with missing values, and then get a summary of the data that's still there. We need to remove columns first, before removing the rows; the sequence of operations here is important. The code looks like this:"
   ]
  },
  {
   "cell_type": "code",
   "execution_count": 4,
   "id": "0776678f-2f36-49ae-a435-dea1d1c03d7f",
   "metadata": {},
   "outputs": [
    {
     "data": {
      "text/html": [
       "<div>\n",
       "<style scoped>\n",
       "    .dataframe tbody tr th:only-of-type {\n",
       "        vertical-align: middle;\n",
       "    }\n",
       "\n",
       "    .dataframe tbody tr th {\n",
       "        vertical-align: top;\n",
       "    }\n",
       "\n",
       "    .dataframe thead th {\n",
       "        text-align: right;\n",
       "    }\n",
       "</style>\n",
       "<table border=\"1\" class=\"dataframe\">\n",
       "  <thead>\n",
       "    <tr style=\"text-align: right;\">\n",
       "      <th></th>\n",
       "      <th>property_type</th>\n",
       "      <th>lat-lon</th>\n",
       "      <th>area_m2</th>\n",
       "      <th>price_usd</th>\n",
       "    </tr>\n",
       "  </thead>\n",
       "  <tbody>\n",
       "    <tr>\n",
       "      <th>0</th>\n",
       "      <td>house</td>\n",
       "      <td>4.69,-74.048</td>\n",
       "      <td>187.0</td>\n",
       "      <td>330899.98</td>\n",
       "    </tr>\n",
       "    <tr>\n",
       "      <th>1</th>\n",
       "      <td>house</td>\n",
       "      <td>4.695,-74.082</td>\n",
       "      <td>82.0</td>\n",
       "      <td>121555.09</td>\n",
       "    </tr>\n",
       "    <tr>\n",
       "      <th>2</th>\n",
       "      <td>house</td>\n",
       "      <td>4.535,-75.676</td>\n",
       "      <td>235.0</td>\n",
       "      <td>219474.47</td>\n",
       "    </tr>\n",
       "    <tr>\n",
       "      <th>3</th>\n",
       "      <td>house</td>\n",
       "      <td>4.62,-74.129</td>\n",
       "      <td>195.0</td>\n",
       "      <td>97919.38</td>\n",
       "    </tr>\n",
       "  </tbody>\n",
       "</table>\n",
       "</div>"
      ],
      "text/plain": [
       "  property_type        lat-lon  area_m2  price_usd\n",
       "0         house   4.69,-74.048    187.0  330899.98\n",
       "1         house  4.695,-74.082     82.0  121555.09\n",
       "2         house  4.535,-75.676    235.0  219474.47\n",
       "3         house   4.62,-74.129    195.0   97919.38"
      ]
     },
     "execution_count": 4,
     "metadata": {},
     "output_type": "execute_result"
    }
   ],
   "source": [
    "mexico_city1 = mexico_city1.drop([\"department\"], axis=1)\n",
    "mexico_city1 = mexico_city1.dropna(axis=0)\n",
    "mexico_city1.head()"
   ]
  },
  {
   "cell_type": "code",
   "execution_count": 5,
   "id": "9093daaa-be8f-461d-bb20-1e6b8377a1a4",
   "metadata": {},
   "outputs": [
    {
     "data": {
      "text/html": [
       "<div>\n",
       "<style scoped>\n",
       "    .dataframe tbody tr th:only-of-type {\n",
       "        vertical-align: middle;\n",
       "    }\n",
       "\n",
       "    .dataframe tbody tr th {\n",
       "        vertical-align: top;\n",
       "    }\n",
       "\n",
       "    .dataframe thead th {\n",
       "        text-align: right;\n",
       "    }\n",
       "</style>\n",
       "<table border=\"1\" class=\"dataframe\">\n",
       "  <thead>\n",
       "    <tr style=\"text-align: right;\">\n",
       "      <th></th>\n",
       "      <th>area_m2</th>\n",
       "      <th>price_usd</th>\n",
       "    </tr>\n",
       "  </thead>\n",
       "  <tbody>\n",
       "    <tr>\n",
       "      <th>count</th>\n",
       "      <td>4.000000</td>\n",
       "      <td>4.000000</td>\n",
       "    </tr>\n",
       "    <tr>\n",
       "      <th>mean</th>\n",
       "      <td>174.750000</td>\n",
       "      <td>192462.230000</td>\n",
       "    </tr>\n",
       "    <tr>\n",
       "      <th>std</th>\n",
       "      <td>65.301225</td>\n",
       "      <td>106240.050082</td>\n",
       "    </tr>\n",
       "    <tr>\n",
       "      <th>min</th>\n",
       "      <td>82.000000</td>\n",
       "      <td>97919.380000</td>\n",
       "    </tr>\n",
       "    <tr>\n",
       "      <th>25%</th>\n",
       "      <td>160.750000</td>\n",
       "      <td>115646.162500</td>\n",
       "    </tr>\n",
       "    <tr>\n",
       "      <th>50%</th>\n",
       "      <td>191.000000</td>\n",
       "      <td>170514.780000</td>\n",
       "    </tr>\n",
       "    <tr>\n",
       "      <th>75%</th>\n",
       "      <td>205.000000</td>\n",
       "      <td>247330.847500</td>\n",
       "    </tr>\n",
       "    <tr>\n",
       "      <th>max</th>\n",
       "      <td>235.000000</td>\n",
       "      <td>330899.980000</td>\n",
       "    </tr>\n",
       "  </tbody>\n",
       "</table>\n",
       "</div>"
      ],
      "text/plain": [
       "          area_m2      price_usd\n",
       "count    4.000000       4.000000\n",
       "mean   174.750000  192462.230000\n",
       "std     65.301225  106240.050082\n",
       "min     82.000000   97919.380000\n",
       "25%    160.750000  115646.162500\n",
       "50%    191.000000  170514.780000\n",
       "75%    205.000000  247330.847500\n",
       "max    235.000000  330899.980000"
      ]
     },
     "execution_count": 5,
     "metadata": {},
     "output_type": "execute_result"
    }
   ],
   "source": [
    "mexico_city1.describe()"
   ]
  },
  {
   "cell_type": "markdown",
   "id": "ec1fad03-1eb9-4f39-9fee-339eef0ef5ba",
   "metadata": {},
   "source": [
    "### Select a Series from a DataFrame"
   ]
  },
  {
   "cell_type": "markdown",
   "id": "b5e3cdf6-5d34-419c-8248-3443e5a88c5e",
   "metadata": {},
   "source": [
    "Since the datasets we work with are so large, you might want to focus on a single column of a DataFrame. Let's load up the mexico-city-real-estate-2 dataset, and examine the first few rows to find the column names."
   ]
  },
  {
   "cell_type": "code",
   "execution_count": 6,
   "id": "514664b9-d0fb-4ad2-bdfa-5bf16128c94e",
   "metadata": {},
   "outputs": [
    {
     "data": {
      "text/html": [
       "<div>\n",
       "<style scoped>\n",
       "    .dataframe tbody tr th:only-of-type {\n",
       "        vertical-align: middle;\n",
       "    }\n",
       "\n",
       "    .dataframe tbody tr th {\n",
       "        vertical-align: top;\n",
       "    }\n",
       "\n",
       "    .dataframe thead th {\n",
       "        text-align: right;\n",
       "    }\n",
       "</style>\n",
       "<table border=\"1\" class=\"dataframe\">\n",
       "  <thead>\n",
       "    <tr style=\"text-align: right;\">\n",
       "      <th></th>\n",
       "      <th>property_type</th>\n",
       "      <th>department</th>\n",
       "      <th>lat-lon</th>\n",
       "      <th>area_m2</th>\n",
       "      <th>price_usd</th>\n",
       "    </tr>\n",
       "  </thead>\n",
       "  <tbody>\n",
       "    <tr>\n",
       "      <th>0</th>\n",
       "      <td>house</td>\n",
       "      <td>A</td>\n",
       "      <td>4.69,-74.048</td>\n",
       "      <td>187.0</td>\n",
       "      <td>330899.98</td>\n",
       "    </tr>\n",
       "    <tr>\n",
       "      <th>1</th>\n",
       "      <td>house</td>\n",
       "      <td>C</td>\n",
       "      <td>4.695,-74.082</td>\n",
       "      <td>82.0</td>\n",
       "      <td>121555.09</td>\n",
       "    </tr>\n",
       "    <tr>\n",
       "      <th>2</th>\n",
       "      <td>house</td>\n",
       "      <td>A</td>\n",
       "      <td>4.535,-75.676</td>\n",
       "      <td>235.0</td>\n",
       "      <td>219474.47</td>\n",
       "    </tr>\n",
       "    <tr>\n",
       "      <th>3</th>\n",
       "      <td>house</td>\n",
       "      <td>C</td>\n",
       "      <td>4.62,-74.129</td>\n",
       "      <td>195.0</td>\n",
       "      <td>97919.38</td>\n",
       "    </tr>\n",
       "    <tr>\n",
       "      <th>4</th>\n",
       "      <td>house</td>\n",
       "      <td>C</td>\n",
       "      <td>4.62,123.23</td>\n",
       "      <td>NaN</td>\n",
       "      <td>97919.38</td>\n",
       "    </tr>\n",
       "  </tbody>\n",
       "</table>\n",
       "</div>"
      ],
      "text/plain": [
       "  property_type department        lat-lon  area_m2  price_usd\n",
       "0         house          A   4.69,-74.048    187.0  330899.98\n",
       "1         house          C  4.695,-74.082     82.0  121555.09\n",
       "2         house          A  4.535,-75.676    235.0  219474.47\n",
       "3         house          C   4.62,-74.129    195.0   97919.38\n",
       "4         house          C    4.62,123.23      NaN   97919.38"
      ]
     },
     "execution_count": 6,
     "metadata": {},
     "output_type": "execute_result"
    }
   ],
   "source": [
    "mexico_city2 = pd.read_csv(\"./data/mexico-city-real-estate-2.csv\")\n",
    "mexico_city2.head()"
   ]
  },
  {
   "cell_type": "code",
   "execution_count": 7,
   "id": "6e63b9bb-f0d7-4d4c-b269-f5cffb1c14ad",
   "metadata": {},
   "outputs": [
    {
     "name": "stdout",
     "output_type": "stream",
     "text": [
      "0    330899.98\n",
      "1    121555.09\n",
      "2    219474.47\n",
      "3     97919.38\n",
      "4     97919.38\n",
      "Name: price_usd, dtype: float64\n"
     ]
    }
   ],
   "source": [
    "price = mexico_city2[\"price_usd\"]\n",
    "print(price)"
   ]
  },
  {
   "cell_type": "code",
   "execution_count": 9,
   "id": "a3b230c6-62b0-4a04-94b1-3cf08063926d",
   "metadata": {},
   "outputs": [
    {
     "data": {
      "text/html": [
       "<div>\n",
       "<style scoped>\n",
       "    .dataframe tbody tr th:only-of-type {\n",
       "        vertical-align: middle;\n",
       "    }\n",
       "\n",
       "    .dataframe tbody tr th {\n",
       "        vertical-align: top;\n",
       "    }\n",
       "\n",
       "    .dataframe thead th {\n",
       "        text-align: right;\n",
       "    }\n",
       "</style>\n",
       "<table border=\"1\" class=\"dataframe\">\n",
       "  <thead>\n",
       "    <tr style=\"text-align: right;\">\n",
       "      <th></th>\n",
       "      <th>area_m2</th>\n",
       "      <th>price_usd</th>\n",
       "    </tr>\n",
       "  </thead>\n",
       "  <tbody>\n",
       "    <tr>\n",
       "      <th>0</th>\n",
       "      <td>187.0</td>\n",
       "      <td>330899.98</td>\n",
       "    </tr>\n",
       "    <tr>\n",
       "      <th>1</th>\n",
       "      <td>82.0</td>\n",
       "      <td>121555.09</td>\n",
       "    </tr>\n",
       "    <tr>\n",
       "      <th>2</th>\n",
       "      <td>235.0</td>\n",
       "      <td>219474.47</td>\n",
       "    </tr>\n",
       "    <tr>\n",
       "      <th>3</th>\n",
       "      <td>195.0</td>\n",
       "      <td>97919.38</td>\n",
       "    </tr>\n",
       "    <tr>\n",
       "      <th>4</th>\n",
       "      <td>NaN</td>\n",
       "      <td>97919.38</td>\n",
       "    </tr>\n",
       "  </tbody>\n",
       "</table>\n",
       "</div>"
      ],
      "text/plain": [
       "   area_m2  price_usd\n",
       "0    187.0  330899.98\n",
       "1     82.0  121555.09\n",
       "2    235.0  219474.47\n",
       "3    195.0   97919.38\n",
       "4      NaN   97919.38"
      ]
     },
     "execution_count": 9,
     "metadata": {},
     "output_type": "execute_result"
    }
   ],
   "source": [
    "mexico_city_number = mexico_city2.select_dtypes(include = \"number\")\n",
    "mexico_city_number.head()"
   ]
  },
  {
   "cell_type": "markdown",
   "id": "67cd9df3-0724-4872-ba30-b4151ee03623",
   "metadata": {},
   "source": [
    "### Working with value_counts in a Series"
   ]
  },
  {
   "cell_type": "markdown",
   "id": "06c4446f-d2f8-448c-b0c0-39cec26fd238",
   "metadata": {},
   "source": [
    "In order to use the data in a series for other types of analysis, it might be helpful to know how often each value occurs in the Series. To do that, we use the value_counts method to aggregate the data. Let's take a look at the number of properties associated with each department in the `mexico-city-real-estate-1` dataset."
   ]
  },
  {
   "cell_type": "code",
   "execution_count": 10,
   "id": "a0fb4f3b-9140-40cc-8d21-4234eff0cba0",
   "metadata": {},
   "outputs": [
    {
     "data": {
      "text/plain": [
       "department\n",
       "C    3\n",
       "A    2\n",
       "Name: count, dtype: int64"
      ]
     },
     "execution_count": 10,
     "metadata": {},
     "output_type": "execute_result"
    }
   ],
   "source": [
    "df1 = pd.read_csv(\"data/mexico-city-real-estate-1.csv\", usecols=[\"department\"])\n",
    "df1[\"department\"].value_counts()"
   ]
  },
  {
   "cell_type": "markdown",
   "id": "9ac5ffde-f850-4014-8161-74ab9fc2ea92",
   "metadata": {},
   "source": [
    "### Series and `Groupby`"
   ]
  },
  {
   "cell_type": "markdown",
   "id": "e232cf90-84dd-43e8-a258-68ca69b9fd66",
   "metadata": {},
   "source": [
    "Large Series often include data points that have some attribute in common, but which are nevertheless not grouped together in the dataset. Happily, pandas has a method that will bring these data points together into groups.\n",
    "\n",
    "Let's take a look at the `mexico-city-real-estate-1` dataset. The set includes properties scattered across Colombia, so it might be useful to group properties from the same department together; to do this, we'll use the groupby method. The code looks like this"
   ]
  },
  {
   "cell_type": "code",
   "execution_count": 14,
   "id": "cf10604d-16f5-4500-8b50-c8991f063a25",
   "metadata": {},
   "outputs": [],
   "source": [
    "dept_group = df1.groupby(\"department\")"
   ]
  },
  {
   "cell_type": "code",
   "execution_count": 12,
   "id": "9e77b6f4-4370-410d-9e7a-897d87d469fa",
   "metadata": {},
   "outputs": [
    {
     "data": {
      "text/html": [
       "<div>\n",
       "<style scoped>\n",
       "    .dataframe tbody tr th:only-of-type {\n",
       "        vertical-align: middle;\n",
       "    }\n",
       "\n",
       "    .dataframe tbody tr th {\n",
       "        vertical-align: top;\n",
       "    }\n",
       "\n",
       "    .dataframe thead th {\n",
       "        text-align: right;\n",
       "    }\n",
       "</style>\n",
       "<table border=\"1\" class=\"dataframe\">\n",
       "  <thead>\n",
       "    <tr style=\"text-align: right;\">\n",
       "      <th></th>\n",
       "    </tr>\n",
       "    <tr>\n",
       "      <th>department</th>\n",
       "    </tr>\n",
       "  </thead>\n",
       "  <tbody>\n",
       "    <tr>\n",
       "      <th>A</th>\n",
       "    </tr>\n",
       "    <tr>\n",
       "      <th>C</th>\n",
       "    </tr>\n",
       "  </tbody>\n",
       "</table>\n",
       "</div>"
      ],
      "text/plain": [
       "Empty DataFrame\n",
       "Columns: []\n",
       "Index: [A, C]"
      ]
     },
     "execution_count": 12,
     "metadata": {},
     "output_type": "execute_result"
    }
   ],
   "source": [
    "dept_group.first()"
   ]
  },
  {
   "cell_type": "markdown",
   "id": "6d8c2bf7-1724-4eed-bb35-6e3d39c287e7",
   "metadata": {},
   "source": [
    "Now that we have all the properties grouped by department, we might want to see the properties in just one of the departments. We can use the get_group method to do that. If we just wanted to see the properties in \"A\", for example, the code would look like this:"
   ]
  },
  {
   "cell_type": "code",
   "execution_count": 15,
   "id": "9ce101ba-1305-4df5-aef7-e68ad8814b9b",
   "metadata": {},
   "outputs": [
    {
     "data": {
      "text/html": [
       "<div>\n",
       "<style scoped>\n",
       "    .dataframe tbody tr th:only-of-type {\n",
       "        vertical-align: middle;\n",
       "    }\n",
       "\n",
       "    .dataframe tbody tr th {\n",
       "        vertical-align: top;\n",
       "    }\n",
       "\n",
       "    .dataframe thead th {\n",
       "        text-align: right;\n",
       "    }\n",
       "</style>\n",
       "<table border=\"1\" class=\"dataframe\">\n",
       "  <thead>\n",
       "    <tr style=\"text-align: right;\">\n",
       "      <th></th>\n",
       "      <th>department</th>\n",
       "    </tr>\n",
       "  </thead>\n",
       "  <tbody>\n",
       "    <tr>\n",
       "      <th>0</th>\n",
       "      <td>A</td>\n",
       "    </tr>\n",
       "    <tr>\n",
       "      <th>2</th>\n",
       "      <td>A</td>\n",
       "    </tr>\n",
       "  </tbody>\n",
       "</table>\n",
       "</div>"
      ],
      "text/plain": [
       "  department\n",
       "0          A\n",
       "2          A"
      ]
     },
     "execution_count": 15,
     "metadata": {},
     "output_type": "execute_result"
    }
   ],
   "source": [
    "dept_group = df1.groupby(\"department\")\n",
    "dept_group.get_group(\"A\")"
   ]
  },
  {
   "cell_type": "markdown",
   "id": "d689e138-09ce-4117-bfd9-c392db62c938",
   "metadata": {},
   "source": [
    "We can also make groups based on more than one category by adding them to the groupby method. After resetting the df1 DataFrame, here's what the code looks like if we want to group properties both by department and by property_type."
   ]
  },
  {
   "cell_type": "code",
   "execution_count": 17,
   "id": "0d3f6df1-4a4d-4ded-9c95-6e82a5c65d2b",
   "metadata": {},
   "outputs": [
    {
     "data": {
      "text/html": [
       "<div>\n",
       "<style scoped>\n",
       "    .dataframe tbody tr th:only-of-type {\n",
       "        vertical-align: middle;\n",
       "    }\n",
       "\n",
       "    .dataframe tbody tr th {\n",
       "        vertical-align: top;\n",
       "    }\n",
       "\n",
       "    .dataframe thead th {\n",
       "        text-align: right;\n",
       "    }\n",
       "</style>\n",
       "<table border=\"1\" class=\"dataframe\">\n",
       "  <thead>\n",
       "    <tr style=\"text-align: right;\">\n",
       "      <th></th>\n",
       "      <th></th>\n",
       "      <th>lat-lon</th>\n",
       "      <th>area_m2</th>\n",
       "      <th>price_usd</th>\n",
       "    </tr>\n",
       "    <tr>\n",
       "      <th>department</th>\n",
       "      <th>property_type</th>\n",
       "      <th></th>\n",
       "      <th></th>\n",
       "      <th></th>\n",
       "    </tr>\n",
       "  </thead>\n",
       "  <tbody>\n",
       "    <tr>\n",
       "      <th>A</th>\n",
       "      <th>house</th>\n",
       "      <td>4.69,-74.048</td>\n",
       "      <td>187.0</td>\n",
       "      <td>330899.98</td>\n",
       "    </tr>\n",
       "    <tr>\n",
       "      <th>C</th>\n",
       "      <th>house</th>\n",
       "      <td>4.695,-74.082</td>\n",
       "      <td>82.0</td>\n",
       "      <td>121555.09</td>\n",
       "    </tr>\n",
       "  </tbody>\n",
       "</table>\n",
       "</div>"
      ],
      "text/plain": [
       "                                lat-lon  area_m2  price_usd\n",
       "department property_type                                   \n",
       "A          house           4.69,-74.048    187.0  330899.98\n",
       "C          house          4.695,-74.082     82.0  121555.09"
      ]
     },
     "execution_count": 17,
     "metadata": {},
     "output_type": "execute_result"
    }
   ],
   "source": [
    "df1 = pd.read_csv(\"data/mexico-city-real-estate-2.csv\")\n",
    "dept_group2 = df1.groupby([\"department\", \"property_type\"])\n",
    "dept_group2.first()"
   ]
  },
  {
   "cell_type": "markdown",
   "id": "8a47e09c-df5c-468b-b4c1-333c7cab877c",
   "metadata": {},
   "source": [
    "Finally, it's possible to use `groupby` to calculate aggregations. For example, if we wanted to find the average property area in each department, we would use the `.mean()` method. This is what the code for that looks like:"
   ]
  },
  {
   "cell_type": "markdown",
   "id": "b6351583-4313-45bf-ae14-2a6fba903be3",
   "metadata": {},
   "source": [
    "### Pivot Tables"
   ]
  },
  {
   "cell_type": "markdown",
   "id": "72f9a2b0-db96-46c2-ac86-5bffdb4dd2b4",
   "metadata": {},
   "source": [
    "A pivot table allows us to aggregate and summarize a DataFrame across multiple variables. For example, let's suppose we wanted to calculate the mean of the price column in the `mexico_city1` dataset for the different values in the `property_type` column:"
   ]
  },
  {
   "cell_type": "code",
   "execution_count": 19,
   "id": "7e72cbd9-2211-47a4-bfe2-3e5361489d54",
   "metadata": {},
   "outputs": [
    {
     "data": {
      "text/html": [
       "<div>\n",
       "<style scoped>\n",
       "    .dataframe tbody tr th:only-of-type {\n",
       "        vertical-align: middle;\n",
       "    }\n",
       "\n",
       "    .dataframe tbody tr th {\n",
       "        vertical-align: top;\n",
       "    }\n",
       "\n",
       "    .dataframe thead th {\n",
       "        text-align: right;\n",
       "    }\n",
       "</style>\n",
       "<table border=\"1\" class=\"dataframe\">\n",
       "  <thead>\n",
       "    <tr style=\"text-align: right;\">\n",
       "      <th></th>\n",
       "      <th>price_usd</th>\n",
       "    </tr>\n",
       "    <tr>\n",
       "      <th>property_type</th>\n",
       "      <th></th>\n",
       "    </tr>\n",
       "  </thead>\n",
       "  <tbody>\n",
       "    <tr>\n",
       "      <th>house</th>\n",
       "      <td>173553.66</td>\n",
       "    </tr>\n",
       "  </tbody>\n",
       "</table>\n",
       "</div>"
      ],
      "text/plain": [
       "               price_usd\n",
       "property_type           \n",
       "house          173553.66"
      ]
     },
     "execution_count": 19,
     "metadata": {},
     "output_type": "execute_result"
    }
   ],
   "source": [
    "import numpy as np\n",
    "df = pd.read_csv('data/mexico-city-real-estate-1.csv')\n",
    "mexico_city1_pivot = df.pivot_table(values='price_usd', index = 'property_type', aggfunc = 'mean')\n",
    "mexico_city1_pivot"
   ]
  },
  {
   "cell_type": "markdown",
   "id": "cba3424a-3c0d-4160-92a9-f2c7f3a82217",
   "metadata": {},
   "source": [
    "### Subsetting with Masks"
   ]
  },
  {
   "cell_type": "markdown",
   "id": "502f38e2-c1a7-4806-833e-0827b52b0a5a",
   "metadata": {},
   "source": [
    "Another way to create subsets from a larger dataset is through masking. Masks are ways to filter out the data you're not interested in so that you can focus on the data you are. For example, we might want to look at properties in Colombia that are bigger than 200 square meters. In order to create this subset, we'll need to use a mask.\n",
    "\n",
    "First, we'll reset our `df1` DataFrame so that we can draw on all the data in its original form. Then we'll create a statement and then assign the result to `mask`."
   ]
  },
  {
   "cell_type": "code",
   "execution_count": 20,
   "id": "e012bcde-c6dd-4503-9df9-ec8694cb396d",
   "metadata": {},
   "outputs": [
    {
     "data": {
      "text/plain": [
       "0    False\n",
       "1    False\n",
       "2     True\n",
       "3    False\n",
       "4    False\n",
       "Name: area_m2, dtype: bool"
      ]
     },
     "execution_count": 20,
     "metadata": {},
     "output_type": "execute_result"
    }
   ],
   "source": [
    "df1 = pd.read_csv(\"data/mexico-city-real-estate-1.csv\")\n",
    "mask = df1[\"area_m2\"] > 200\n",
    "mask.head()"
   ]
  },
  {
   "cell_type": "markdown",
   "id": "d1b71b8d-7742-46a7-9861-478fa4158318",
   "metadata": {},
   "source": [
    "Notice that `mask` is a Series of Boolean values. Where properties are smaller than 200 square meters, our statement evaluates as `False`; where they're bigger than 200, it evaluates to `True`.\n",
    "\n",
    "Once we have our mask, we can use it to select all the rows from `df1` that evaluate as `True`."
   ]
  },
  {
   "cell_type": "code",
   "execution_count": 21,
   "id": "ad102157-3d76-4b42-b40d-613b9c534238",
   "metadata": {},
   "outputs": [
    {
     "data": {
      "text/html": [
       "<div>\n",
       "<style scoped>\n",
       "    .dataframe tbody tr th:only-of-type {\n",
       "        vertical-align: middle;\n",
       "    }\n",
       "\n",
       "    .dataframe tbody tr th {\n",
       "        vertical-align: top;\n",
       "    }\n",
       "\n",
       "    .dataframe thead th {\n",
       "        text-align: right;\n",
       "    }\n",
       "</style>\n",
       "<table border=\"1\" class=\"dataframe\">\n",
       "  <thead>\n",
       "    <tr style=\"text-align: right;\">\n",
       "      <th></th>\n",
       "      <th>property_type</th>\n",
       "      <th>department</th>\n",
       "      <th>lat-lon</th>\n",
       "      <th>area_m2</th>\n",
       "      <th>price_usd</th>\n",
       "    </tr>\n",
       "  </thead>\n",
       "  <tbody>\n",
       "    <tr>\n",
       "      <th>2</th>\n",
       "      <td>house</td>\n",
       "      <td>A</td>\n",
       "      <td>4.535,-75.676</td>\n",
       "      <td>235.0</td>\n",
       "      <td>219474.47</td>\n",
       "    </tr>\n",
       "  </tbody>\n",
       "</table>\n",
       "</div>"
      ],
      "text/plain": [
       "  property_type department        lat-lon  area_m2  price_usd\n",
       "2         house          A  4.535,-75.676    235.0  219474.47"
      ]
     },
     "execution_count": 21,
     "metadata": {},
     "output_type": "execute_result"
    }
   ],
   "source": [
    "df1[mask].head()"
   ]
  },
  {
   "cell_type": "markdown",
   "id": "1a66bd27-51fa-449a-9cd3-b5962bf11005",
   "metadata": {},
   "source": [
    "### What's a pivot table?"
   ]
  },
  {
   "cell_type": "markdown",
   "id": "53290eb5-c134-4759-8639-5b3006ca6b72",
   "metadata": {},
   "source": [
    "A pivot table allows you to quickly aggregate and summarize a DataFrame using an aggregation function. For example, to build a pivot table that summarizes the mean of the price_cop column for each of the unique categories in the property_type column in df2:"
   ]
  },
  {
   "cell_type": "code",
   "execution_count": 33,
   "id": "ed6be9ef-fd0b-4590-87e5-a842a22dd079",
   "metadata": {},
   "outputs": [
    {
     "name": "stderr",
     "output_type": "stream",
     "text": [
      "/var/folders/g1/7crdd26s7g9cyx52v7z5w1_r0000gn/T/ipykernel_4203/3079366198.py:3: FutureWarning: The provided callable <function mean at 0x106e10dc0> is currently using DataFrameGroupBy.mean. In a future version of pandas, the provided callable will be used directly. To keep current behavior pass the string \"mean\" instead.\n",
      "  pivot1 = pd.pivot_table(df, values=\"price_usd\", index=\"property_type\", aggfunc=np.mean)\n"
     ]
    },
    {
     "data": {
      "text/html": [
       "<div>\n",
       "<style scoped>\n",
       "    .dataframe tbody tr th:only-of-type {\n",
       "        vertical-align: middle;\n",
       "    }\n",
       "\n",
       "    .dataframe tbody tr th {\n",
       "        vertical-align: top;\n",
       "    }\n",
       "\n",
       "    .dataframe thead th {\n",
       "        text-align: right;\n",
       "    }\n",
       "</style>\n",
       "<table border=\"1\" class=\"dataframe\">\n",
       "  <thead>\n",
       "    <tr style=\"text-align: right;\">\n",
       "      <th></th>\n",
       "      <th>price_usd</th>\n",
       "    </tr>\n",
       "    <tr>\n",
       "      <th>property_type</th>\n",
       "      <th></th>\n",
       "    </tr>\n",
       "  </thead>\n",
       "  <tbody>\n",
       "    <tr>\n",
       "      <th>house</th>\n",
       "      <td>173553.66</td>\n",
       "    </tr>\n",
       "  </tbody>\n",
       "</table>\n",
       "</div>"
      ],
      "text/plain": [
       "               price_usd\n",
       "property_type           \n",
       "house          173553.66"
      ]
     },
     "execution_count": 33,
     "metadata": {},
     "output_type": "execute_result"
    }
   ],
   "source": [
    "import numpy as np\n",
    "\n",
    "pivot1 = pd.pivot_table(df, values=\"price_usd\", index=\"property_type\", aggfunc=np.mean)\n",
    "pivot1"
   ]
  },
  {
   "cell_type": "code",
   "execution_count": null,
   "id": "7246e070-05ba-4bbb-9745-5a03d787628e",
   "metadata": {},
   "outputs": [],
   "source": []
  },
  {
   "cell_type": "code",
   "execution_count": null,
   "id": "eddf6e62-f12a-432e-a866-e4b48b0684a3",
   "metadata": {},
   "outputs": [],
   "source": []
  },
  {
   "cell_type": "code",
   "execution_count": null,
   "id": "1222e8c0-e82c-43ff-8ff4-f5488d401197",
   "metadata": {},
   "outputs": [],
   "source": []
  },
  {
   "cell_type": "code",
   "execution_count": null,
   "id": "7e2833b5-f540-429f-b83e-952b4593e5c8",
   "metadata": {},
   "outputs": [],
   "source": []
  },
  {
   "cell_type": "code",
   "execution_count": null,
   "id": "f98a159d-b34d-4077-872c-aa6ed1667158",
   "metadata": {},
   "outputs": [],
   "source": []
  },
  {
   "cell_type": "code",
   "execution_count": null,
   "id": "72458331-edd7-4ec3-ad6a-222dde16cd14",
   "metadata": {},
   "outputs": [],
   "source": [
    "\n",
    "\n",
    "\n"
   ]
  }
 ],
 "metadata": {
  "kernelspec": {
   "display_name": "Python 3.9(Quant)",
   "language": "python",
   "name": "quant"
  },
  "language_info": {
   "codemirror_mode": {
    "name": "ipython",
    "version": 3
   },
   "file_extension": ".py",
   "mimetype": "text/x-python",
   "name": "python",
   "nbconvert_exporter": "python",
   "pygments_lexer": "ipython3",
   "version": "3.9.19"
  }
 },
 "nbformat": 4,
 "nbformat_minor": 5
}
